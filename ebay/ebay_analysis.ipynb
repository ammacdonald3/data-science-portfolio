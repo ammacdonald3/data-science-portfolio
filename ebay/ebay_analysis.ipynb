{
 "cells": [
  {
   "cell_type": "markdown",
   "metadata": {
    "colab_type": "text",
    "id": "S0IhTb-heLdg"
   },
   "source": [
    "# eBay Autos Analysis"
   ]
  },
  {
   "cell_type": "markdown",
   "metadata": {
    "colab_type": "text",
    "id": "Kl7V6IACeLdh"
   },
   "source": [
    "## Import Libraries"
   ]
  },
  {
   "cell_type": "code",
   "execution_count": 1,
   "metadata": {
    "colab": {},
    "colab_type": "code",
    "executionInfo": {
     "elapsed": 1019,
     "status": "ok",
     "timestamp": 1592401293551,
     "user": {
      "displayName": "Andrew MacDonald",
      "photoUrl": "https://lh3.googleusercontent.com/a-/AOh14GiL2bfpgT6d24Ro2V3SFX0lN7sDgarNqyJ43259PhE=s64",
      "userId": "13136109802752871845"
     },
     "user_tz": 240
    },
    "id": "Z1xE7h32eLdi"
   },
   "outputs": [],
   "source": [
    "import numpy as np\n",
    "import pandas as pd"
   ]
  },
  {
   "cell_type": "markdown",
   "metadata": {
    "colab_type": "text",
    "id": "BpSoBCpSeLdl"
   },
   "source": [
    "## Import eBay Autos Dataset"
   ]
  },
  {
   "cell_type": "markdown",
   "metadata": {
    "colab_type": "text",
    "id": "kqbEyG2heLdm"
   },
   "source": [
    "Below, we import the Autos dataset containing 50,000 listings from eBay Kleinanzeigen, the German eBay site. This dataset is hosted on Kaggle (https://www.kaggle.com/orgesleka/used-cars-database/data), but it has been dirtied by Dataquest.\n",
    "\n",
    "The data dictionary is as follows:\n",
    "\n",
    "* dateCrawled - When this ad was first crawled. All field-values are taken from this date.\n",
    "* name - Name of the car.\n",
    "* seller - Whether the seller is private or a dealer.\n",
    "* offerType - The type of listing\n",
    "* price - The price on the ad to sell the car.\n",
    "* abtest - Whether the listing is included in an A/B test.\n",
    "* vehicleType - The vehicle Type.\n",
    "* yearOfRegistration - The year in which the car was first registered.\n",
    "* gearbox - The transmission type.\n",
    "* powerPS - The power of the car in PS.\n",
    "* model - The car model name.\n",
    "* kilometer - How many kilometers the car has driven.\n",
    "* monthOfRegistration - The month in which the car was first registered.\n",
    "* fuelType - What type of fuel the car uses.\n",
    "* brand - The brand of the car.\n",
    "* notRepairedDamage - If the car has a damage which is not yet repaired.\n",
    "* dateCreated - The date on which the eBay listing was created.\n",
    "* nrOfPictures - The number of pictures in the ad.\n",
    "* postalCode - The postal code for the location of the vehicle.\n",
    "* lastSeenOnline - When the crawler saw this ad last online.\n",
    "\n",
    "\n",
    "After the import, we review high-level information about the dataset. Right away, we can identify items requiring clean-up:\n",
    "\n",
    "1. Format of column titles must be changed from snakecase to camelcase\n",
    "2. Some columns appear to contain numeric data (like 'price'), but they're currently stored as pandas object data type"
   ]
  },
  {
   "cell_type": "code",
   "execution_count": 2,
   "metadata": {
    "colab": {},
    "colab_type": "code",
    "executionInfo": {
     "elapsed": 1353,
     "status": "ok",
     "timestamp": 1592401293893,
     "user": {
      "displayName": "Andrew MacDonald",
      "photoUrl": "https://lh3.googleusercontent.com/a-/AOh14GiL2bfpgT6d24Ro2V3SFX0lN7sDgarNqyJ43259PhE=s64",
      "userId": "13136109802752871845"
     },
     "user_tz": 240
    },
    "id": "yc25mDF0eLdn"
   },
   "outputs": [],
   "source": [
    "# Windows\n",
    "autos = pd.read_csv(r'C:\\Users\\Andrew\\Google Drive\\Colab_Notebooks\\data-science-portfolio-datasets\\ebay\\autos.csv', encoding='Windows-1252')"
   ]
  },
  {
   "cell_type": "code",
   "execution_count": 3,
   "metadata": {
    "colab": {},
    "colab_type": "code",
    "executionInfo": {
     "elapsed": 1346,
     "status": "ok",
     "timestamp": 1592401293894,
     "user": {
      "displayName": "Andrew MacDonald",
      "photoUrl": "https://lh3.googleusercontent.com/a-/AOh14GiL2bfpgT6d24Ro2V3SFX0lN7sDgarNqyJ43259PhE=s64",
      "userId": "13136109802752871845"
     },
     "user_tz": 240
    },
    "id": "QQpeTliTeeH9"
   },
   "outputs": [],
   "source": [
    "# MacOS\n",
    "#autos = pd.read_csv('~/Google_Drive/Colab_Notebooks/data-science-portfolio-datasets/ebay/autos.csv', encoding='Latin-1')"
   ]
  },
  {
   "cell_type": "code",
   "execution_count": 4,
   "metadata": {
    "colab": {
     "base_uri": "https://localhost:8080/",
     "height": 34
    },
    "colab_type": "code",
    "executionInfo": {
     "elapsed": 1566,
     "status": "ok",
     "timestamp": 1592401294121,
     "user": {
      "displayName": "Andrew MacDonald",
      "photoUrl": "https://lh3.googleusercontent.com/a-/AOh14GiL2bfpgT6d24Ro2V3SFX0lN7sDgarNqyJ43259PhE=s64",
      "userId": "13136109802752871845"
     },
     "user_tz": 240
    },
    "id": "uSnRJHWEegIc",
    "outputId": "dadf9a4c-70d3-48a0-ea39-34e6a0048baf"
   },
   "outputs": [],
   "source": [
    "# Google Colab\n",
    "#from google.colab import drive\n",
    "#drive.mount('/content/drive')\n",
    "#autos = pd.read_csv('/content/drive/My Drive/Colab_Notebooks/data-science-portfolio-datasets/ebay/autos.csv', encoding='Windows-1252')"
   ]
  },
  {
   "cell_type": "code",
   "execution_count": 5,
   "metadata": {
    "colab": {
     "base_uri": "https://localhost:8080/",
     "height": 779
    },
    "colab_type": "code",
    "executionInfo": {
     "elapsed": 1763,
     "status": "ok",
     "timestamp": 1592401294326,
     "user": {
      "displayName": "Andrew MacDonald",
      "photoUrl": "https://lh3.googleusercontent.com/a-/AOh14GiL2bfpgT6d24Ro2V3SFX0lN7sDgarNqyJ43259PhE=s64",
      "userId": "13136109802752871845"
     },
     "user_tz": 240
    },
    "id": "KrdHe3kIeLdp",
    "outputId": "8cc4c5b8-d7cb-4f9f-8721-ff2bb9cfff42"
   },
   "outputs": [
    {
     "data": {
      "text/html": [
       "<div>\n",
       "<style scoped>\n",
       "    .dataframe tbody tr th:only-of-type {\n",
       "        vertical-align: middle;\n",
       "    }\n",
       "\n",
       "    .dataframe tbody tr th {\n",
       "        vertical-align: top;\n",
       "    }\n",
       "\n",
       "    .dataframe thead th {\n",
       "        text-align: right;\n",
       "    }\n",
       "</style>\n",
       "<table border=\"1\" class=\"dataframe\">\n",
       "  <thead>\n",
       "    <tr style=\"text-align: right;\">\n",
       "      <th></th>\n",
       "      <th>dateCrawled</th>\n",
       "      <th>name</th>\n",
       "      <th>seller</th>\n",
       "      <th>offerType</th>\n",
       "      <th>price</th>\n",
       "      <th>abtest</th>\n",
       "      <th>vehicleType</th>\n",
       "      <th>yearOfRegistration</th>\n",
       "      <th>gearbox</th>\n",
       "      <th>powerPS</th>\n",
       "      <th>model</th>\n",
       "      <th>odometer</th>\n",
       "      <th>monthOfRegistration</th>\n",
       "      <th>fuelType</th>\n",
       "      <th>brand</th>\n",
       "      <th>notRepairedDamage</th>\n",
       "      <th>dateCreated</th>\n",
       "      <th>nrOfPictures</th>\n",
       "      <th>postalCode</th>\n",
       "      <th>lastSeen</th>\n",
       "    </tr>\n",
       "  </thead>\n",
       "  <tbody>\n",
       "    <tr>\n",
       "      <th>0</th>\n",
       "      <td>2016-03-26 17:47:46</td>\n",
       "      <td>Peugeot_807_160_NAVTECH_ON_BOARD</td>\n",
       "      <td>privat</td>\n",
       "      <td>Angebot</td>\n",
       "      <td>$5,000</td>\n",
       "      <td>control</td>\n",
       "      <td>bus</td>\n",
       "      <td>2004</td>\n",
       "      <td>manuell</td>\n",
       "      <td>158</td>\n",
       "      <td>andere</td>\n",
       "      <td>150,000km</td>\n",
       "      <td>3</td>\n",
       "      <td>lpg</td>\n",
       "      <td>peugeot</td>\n",
       "      <td>nein</td>\n",
       "      <td>2016-03-26 00:00:00</td>\n",
       "      <td>0</td>\n",
       "      <td>79588</td>\n",
       "      <td>2016-04-06 06:45:54</td>\n",
       "    </tr>\n",
       "    <tr>\n",
       "      <th>1</th>\n",
       "      <td>2016-04-04 13:38:56</td>\n",
       "      <td>BMW_740i_4_4_Liter_HAMANN_UMBAU_Mega_Optik</td>\n",
       "      <td>privat</td>\n",
       "      <td>Angebot</td>\n",
       "      <td>$8,500</td>\n",
       "      <td>control</td>\n",
       "      <td>limousine</td>\n",
       "      <td>1997</td>\n",
       "      <td>automatik</td>\n",
       "      <td>286</td>\n",
       "      <td>7er</td>\n",
       "      <td>150,000km</td>\n",
       "      <td>6</td>\n",
       "      <td>benzin</td>\n",
       "      <td>bmw</td>\n",
       "      <td>nein</td>\n",
       "      <td>2016-04-04 00:00:00</td>\n",
       "      <td>0</td>\n",
       "      <td>71034</td>\n",
       "      <td>2016-04-06 14:45:08</td>\n",
       "    </tr>\n",
       "    <tr>\n",
       "      <th>2</th>\n",
       "      <td>2016-03-26 18:57:24</td>\n",
       "      <td>Volkswagen_Golf_1.6_United</td>\n",
       "      <td>privat</td>\n",
       "      <td>Angebot</td>\n",
       "      <td>$8,990</td>\n",
       "      <td>test</td>\n",
       "      <td>limousine</td>\n",
       "      <td>2009</td>\n",
       "      <td>manuell</td>\n",
       "      <td>102</td>\n",
       "      <td>golf</td>\n",
       "      <td>70,000km</td>\n",
       "      <td>7</td>\n",
       "      <td>benzin</td>\n",
       "      <td>volkswagen</td>\n",
       "      <td>nein</td>\n",
       "      <td>2016-03-26 00:00:00</td>\n",
       "      <td>0</td>\n",
       "      <td>35394</td>\n",
       "      <td>2016-04-06 20:15:37</td>\n",
       "    </tr>\n",
       "    <tr>\n",
       "      <th>3</th>\n",
       "      <td>2016-03-12 16:58:10</td>\n",
       "      <td>Smart_smart_fortwo_coupe_softouch/F1/Klima/Pan...</td>\n",
       "      <td>privat</td>\n",
       "      <td>Angebot</td>\n",
       "      <td>$4,350</td>\n",
       "      <td>control</td>\n",
       "      <td>kleinwagen</td>\n",
       "      <td>2007</td>\n",
       "      <td>automatik</td>\n",
       "      <td>71</td>\n",
       "      <td>fortwo</td>\n",
       "      <td>70,000km</td>\n",
       "      <td>6</td>\n",
       "      <td>benzin</td>\n",
       "      <td>smart</td>\n",
       "      <td>nein</td>\n",
       "      <td>2016-03-12 00:00:00</td>\n",
       "      <td>0</td>\n",
       "      <td>33729</td>\n",
       "      <td>2016-03-15 03:16:28</td>\n",
       "    </tr>\n",
       "    <tr>\n",
       "      <th>4</th>\n",
       "      <td>2016-04-01 14:38:50</td>\n",
       "      <td>Ford_Focus_1_6_Benzin_TÜV_neu_ist_sehr_gepfleg...</td>\n",
       "      <td>privat</td>\n",
       "      <td>Angebot</td>\n",
       "      <td>$1,350</td>\n",
       "      <td>test</td>\n",
       "      <td>kombi</td>\n",
       "      <td>2003</td>\n",
       "      <td>manuell</td>\n",
       "      <td>0</td>\n",
       "      <td>focus</td>\n",
       "      <td>150,000km</td>\n",
       "      <td>7</td>\n",
       "      <td>benzin</td>\n",
       "      <td>ford</td>\n",
       "      <td>nein</td>\n",
       "      <td>2016-04-01 00:00:00</td>\n",
       "      <td>0</td>\n",
       "      <td>39218</td>\n",
       "      <td>2016-04-01 14:38:50</td>\n",
       "    </tr>\n",
       "    <tr>\n",
       "      <th>...</th>\n",
       "      <td>...</td>\n",
       "      <td>...</td>\n",
       "      <td>...</td>\n",
       "      <td>...</td>\n",
       "      <td>...</td>\n",
       "      <td>...</td>\n",
       "      <td>...</td>\n",
       "      <td>...</td>\n",
       "      <td>...</td>\n",
       "      <td>...</td>\n",
       "      <td>...</td>\n",
       "      <td>...</td>\n",
       "      <td>...</td>\n",
       "      <td>...</td>\n",
       "      <td>...</td>\n",
       "      <td>...</td>\n",
       "      <td>...</td>\n",
       "      <td>...</td>\n",
       "      <td>...</td>\n",
       "      <td>...</td>\n",
       "    </tr>\n",
       "    <tr>\n",
       "      <th>49995</th>\n",
       "      <td>2016-03-27 14:38:19</td>\n",
       "      <td>Audi_Q5_3.0_TDI_qu._S_tr.__Navi__Panorama__Xenon</td>\n",
       "      <td>privat</td>\n",
       "      <td>Angebot</td>\n",
       "      <td>$24,900</td>\n",
       "      <td>control</td>\n",
       "      <td>limousine</td>\n",
       "      <td>2011</td>\n",
       "      <td>automatik</td>\n",
       "      <td>239</td>\n",
       "      <td>q5</td>\n",
       "      <td>100,000km</td>\n",
       "      <td>1</td>\n",
       "      <td>diesel</td>\n",
       "      <td>audi</td>\n",
       "      <td>nein</td>\n",
       "      <td>2016-03-27 00:00:00</td>\n",
       "      <td>0</td>\n",
       "      <td>82131</td>\n",
       "      <td>2016-04-01 13:47:40</td>\n",
       "    </tr>\n",
       "    <tr>\n",
       "      <th>49996</th>\n",
       "      <td>2016-03-28 10:50:25</td>\n",
       "      <td>Opel_Astra_F_Cabrio_Bertone_Edition___TÜV_neu+...</td>\n",
       "      <td>privat</td>\n",
       "      <td>Angebot</td>\n",
       "      <td>$1,980</td>\n",
       "      <td>control</td>\n",
       "      <td>cabrio</td>\n",
       "      <td>1996</td>\n",
       "      <td>manuell</td>\n",
       "      <td>75</td>\n",
       "      <td>astra</td>\n",
       "      <td>150,000km</td>\n",
       "      <td>5</td>\n",
       "      <td>benzin</td>\n",
       "      <td>opel</td>\n",
       "      <td>nein</td>\n",
       "      <td>2016-03-28 00:00:00</td>\n",
       "      <td>0</td>\n",
       "      <td>44807</td>\n",
       "      <td>2016-04-02 14:18:02</td>\n",
       "    </tr>\n",
       "    <tr>\n",
       "      <th>49997</th>\n",
       "      <td>2016-04-02 14:44:48</td>\n",
       "      <td>Fiat_500_C_1.2_Dualogic_Lounge</td>\n",
       "      <td>privat</td>\n",
       "      <td>Angebot</td>\n",
       "      <td>$13,200</td>\n",
       "      <td>test</td>\n",
       "      <td>cabrio</td>\n",
       "      <td>2014</td>\n",
       "      <td>automatik</td>\n",
       "      <td>69</td>\n",
       "      <td>500</td>\n",
       "      <td>5,000km</td>\n",
       "      <td>11</td>\n",
       "      <td>benzin</td>\n",
       "      <td>fiat</td>\n",
       "      <td>nein</td>\n",
       "      <td>2016-04-02 00:00:00</td>\n",
       "      <td>0</td>\n",
       "      <td>73430</td>\n",
       "      <td>2016-04-04 11:47:27</td>\n",
       "    </tr>\n",
       "    <tr>\n",
       "      <th>49998</th>\n",
       "      <td>2016-03-08 19:25:42</td>\n",
       "      <td>Audi_A3_2.0_TDI_Sportback_Ambition</td>\n",
       "      <td>privat</td>\n",
       "      <td>Angebot</td>\n",
       "      <td>$22,900</td>\n",
       "      <td>control</td>\n",
       "      <td>kombi</td>\n",
       "      <td>2013</td>\n",
       "      <td>manuell</td>\n",
       "      <td>150</td>\n",
       "      <td>a3</td>\n",
       "      <td>40,000km</td>\n",
       "      <td>11</td>\n",
       "      <td>diesel</td>\n",
       "      <td>audi</td>\n",
       "      <td>nein</td>\n",
       "      <td>2016-03-08 00:00:00</td>\n",
       "      <td>0</td>\n",
       "      <td>35683</td>\n",
       "      <td>2016-04-05 16:45:07</td>\n",
       "    </tr>\n",
       "    <tr>\n",
       "      <th>49999</th>\n",
       "      <td>2016-03-14 00:42:12</td>\n",
       "      <td>Opel_Vectra_1.6_16V</td>\n",
       "      <td>privat</td>\n",
       "      <td>Angebot</td>\n",
       "      <td>$1,250</td>\n",
       "      <td>control</td>\n",
       "      <td>limousine</td>\n",
       "      <td>1996</td>\n",
       "      <td>manuell</td>\n",
       "      <td>101</td>\n",
       "      <td>vectra</td>\n",
       "      <td>150,000km</td>\n",
       "      <td>1</td>\n",
       "      <td>benzin</td>\n",
       "      <td>opel</td>\n",
       "      <td>nein</td>\n",
       "      <td>2016-03-13 00:00:00</td>\n",
       "      <td>0</td>\n",
       "      <td>45897</td>\n",
       "      <td>2016-04-06 21:18:48</td>\n",
       "    </tr>\n",
       "  </tbody>\n",
       "</table>\n",
       "<p>50000 rows × 20 columns</p>\n",
       "</div>"
      ],
      "text/plain": [
       "               dateCrawled                                               name  \\\n",
       "0      2016-03-26 17:47:46                   Peugeot_807_160_NAVTECH_ON_BOARD   \n",
       "1      2016-04-04 13:38:56         BMW_740i_4_4_Liter_HAMANN_UMBAU_Mega_Optik   \n",
       "2      2016-03-26 18:57:24                         Volkswagen_Golf_1.6_United   \n",
       "3      2016-03-12 16:58:10  Smart_smart_fortwo_coupe_softouch/F1/Klima/Pan...   \n",
       "4      2016-04-01 14:38:50  Ford_Focus_1_6_Benzin_TÜV_neu_ist_sehr_gepfleg...   \n",
       "...                    ...                                                ...   \n",
       "49995  2016-03-27 14:38:19   Audi_Q5_3.0_TDI_qu._S_tr.__Navi__Panorama__Xenon   \n",
       "49996  2016-03-28 10:50:25  Opel_Astra_F_Cabrio_Bertone_Edition___TÜV_neu+...   \n",
       "49997  2016-04-02 14:44:48                     Fiat_500_C_1.2_Dualogic_Lounge   \n",
       "49998  2016-03-08 19:25:42                 Audi_A3_2.0_TDI_Sportback_Ambition   \n",
       "49999  2016-03-14 00:42:12                                Opel_Vectra_1.6_16V   \n",
       "\n",
       "       seller offerType    price   abtest vehicleType  yearOfRegistration  \\\n",
       "0      privat   Angebot   $5,000  control         bus                2004   \n",
       "1      privat   Angebot   $8,500  control   limousine                1997   \n",
       "2      privat   Angebot   $8,990     test   limousine                2009   \n",
       "3      privat   Angebot   $4,350  control  kleinwagen                2007   \n",
       "4      privat   Angebot   $1,350     test       kombi                2003   \n",
       "...       ...       ...      ...      ...         ...                 ...   \n",
       "49995  privat   Angebot  $24,900  control   limousine                2011   \n",
       "49996  privat   Angebot   $1,980  control      cabrio                1996   \n",
       "49997  privat   Angebot  $13,200     test      cabrio                2014   \n",
       "49998  privat   Angebot  $22,900  control       kombi                2013   \n",
       "49999  privat   Angebot   $1,250  control   limousine                1996   \n",
       "\n",
       "         gearbox  powerPS   model   odometer  monthOfRegistration fuelType  \\\n",
       "0        manuell      158  andere  150,000km                    3      lpg   \n",
       "1      automatik      286     7er  150,000km                    6   benzin   \n",
       "2        manuell      102    golf   70,000km                    7   benzin   \n",
       "3      automatik       71  fortwo   70,000km                    6   benzin   \n",
       "4        manuell        0   focus  150,000km                    7   benzin   \n",
       "...          ...      ...     ...        ...                  ...      ...   \n",
       "49995  automatik      239      q5  100,000km                    1   diesel   \n",
       "49996    manuell       75   astra  150,000km                    5   benzin   \n",
       "49997  automatik       69     500    5,000km                   11   benzin   \n",
       "49998    manuell      150      a3   40,000km                   11   diesel   \n",
       "49999    manuell      101  vectra  150,000km                    1   benzin   \n",
       "\n",
       "            brand notRepairedDamage          dateCreated  nrOfPictures  \\\n",
       "0         peugeot              nein  2016-03-26 00:00:00             0   \n",
       "1             bmw              nein  2016-04-04 00:00:00             0   \n",
       "2      volkswagen              nein  2016-03-26 00:00:00             0   \n",
       "3           smart              nein  2016-03-12 00:00:00             0   \n",
       "4            ford              nein  2016-04-01 00:00:00             0   \n",
       "...           ...               ...                  ...           ...   \n",
       "49995        audi              nein  2016-03-27 00:00:00             0   \n",
       "49996        opel              nein  2016-03-28 00:00:00             0   \n",
       "49997        fiat              nein  2016-04-02 00:00:00             0   \n",
       "49998        audi              nein  2016-03-08 00:00:00             0   \n",
       "49999        opel              nein  2016-03-13 00:00:00             0   \n",
       "\n",
       "       postalCode             lastSeen  \n",
       "0           79588  2016-04-06 06:45:54  \n",
       "1           71034  2016-04-06 14:45:08  \n",
       "2           35394  2016-04-06 20:15:37  \n",
       "3           33729  2016-03-15 03:16:28  \n",
       "4           39218  2016-04-01 14:38:50  \n",
       "...           ...                  ...  \n",
       "49995       82131  2016-04-01 13:47:40  \n",
       "49996       44807  2016-04-02 14:18:02  \n",
       "49997       73430  2016-04-04 11:47:27  \n",
       "49998       35683  2016-04-05 16:45:07  \n",
       "49999       45897  2016-04-06 21:18:48  \n",
       "\n",
       "[50000 rows x 20 columns]"
      ]
     },
     "execution_count": 5,
     "metadata": {},
     "output_type": "execute_result"
    }
   ],
   "source": [
    "autos"
   ]
  },
  {
   "cell_type": "code",
   "execution_count": 6,
   "metadata": {
    "colab": {
     "base_uri": "https://localhost:8080/",
     "height": 476
    },
    "colab_type": "code",
    "executionInfo": {
     "elapsed": 1757,
     "status": "ok",
     "timestamp": 1592401294327,
     "user": {
      "displayName": "Andrew MacDonald",
      "photoUrl": "https://lh3.googleusercontent.com/a-/AOh14GiL2bfpgT6d24Ro2V3SFX0lN7sDgarNqyJ43259PhE=s64",
      "userId": "13136109802752871845"
     },
     "user_tz": 240
    },
    "id": "rjkO29NkeLds",
    "outputId": "6a0a0583-5375-45cf-9a89-bada999c3de8"
   },
   "outputs": [
    {
     "name": "stdout",
     "output_type": "stream",
     "text": [
      "<class 'pandas.core.frame.DataFrame'>\n",
      "RangeIndex: 50000 entries, 0 to 49999\n",
      "Data columns (total 20 columns):\n",
      " #   Column               Non-Null Count  Dtype \n",
      "---  ------               --------------  ----- \n",
      " 0   dateCrawled          50000 non-null  object\n",
      " 1   name                 50000 non-null  object\n",
      " 2   seller               50000 non-null  object\n",
      " 3   offerType            50000 non-null  object\n",
      " 4   price                50000 non-null  object\n",
      " 5   abtest               50000 non-null  object\n",
      " 6   vehicleType          44905 non-null  object\n",
      " 7   yearOfRegistration   50000 non-null  int64 \n",
      " 8   gearbox              47320 non-null  object\n",
      " 9   powerPS              50000 non-null  int64 \n",
      " 10  model                47242 non-null  object\n",
      " 11  odometer             50000 non-null  object\n",
      " 12  monthOfRegistration  50000 non-null  int64 \n",
      " 13  fuelType             45518 non-null  object\n",
      " 14  brand                50000 non-null  object\n",
      " 15  notRepairedDamage    40171 non-null  object\n",
      " 16  dateCreated          50000 non-null  object\n",
      " 17  nrOfPictures         50000 non-null  int64 \n",
      " 18  postalCode           50000 non-null  int64 \n",
      " 19  lastSeen             50000 non-null  object\n",
      "dtypes: int64(5), object(15)\n",
      "memory usage: 7.6+ MB\n"
     ]
    }
   ],
   "source": [
    "autos.info()"
   ]
  },
  {
   "cell_type": "markdown",
   "metadata": {
    "colab_type": "text",
    "id": "tOvF4_i7eLdv"
   },
   "source": [
    "## Convert Columns to SnakeCase"
   ]
  },
  {
   "cell_type": "markdown",
   "metadata": {
    "colab_type": "text",
    "id": "vcpZELKSeLdv"
   },
   "source": [
    "The original dataset includes column titles using snakecase. However, per analyst preference, we'll modify them to camelcase instead."
   ]
  },
  {
   "cell_type": "code",
   "execution_count": 7,
   "metadata": {
    "colab": {
     "base_uri": "https://localhost:8080/",
     "height": 119
    },
    "colab_type": "code",
    "executionInfo": {
     "elapsed": 1751,
     "status": "ok",
     "timestamp": 1592401294328,
     "user": {
      "displayName": "Andrew MacDonald",
      "photoUrl": "https://lh3.googleusercontent.com/a-/AOh14GiL2bfpgT6d24Ro2V3SFX0lN7sDgarNqyJ43259PhE=s64",
      "userId": "13136109802752871845"
     },
     "user_tz": 240
    },
    "id": "N51eLhlaeLdw",
    "outputId": "0685a132-a397-4270-d6e7-1a773a823549"
   },
   "outputs": [
    {
     "data": {
      "text/plain": [
       "Index(['dateCrawled', 'name', 'seller', 'offerType', 'price', 'abtest',\n",
       "       'vehicleType', 'yearOfRegistration', 'gearbox', 'powerPS', 'model',\n",
       "       'odometer', 'monthOfRegistration', 'fuelType', 'brand',\n",
       "       'notRepairedDamage', 'dateCreated', 'nrOfPictures', 'postalCode',\n",
       "       'lastSeen'],\n",
       "      dtype='object')"
      ]
     },
     "execution_count": 7,
     "metadata": {},
     "output_type": "execute_result"
    }
   ],
   "source": [
    "autos.columns"
   ]
  },
  {
   "cell_type": "code",
   "execution_count": 8,
   "metadata": {
    "colab": {},
    "colab_type": "code",
    "executionInfo": {
     "elapsed": 1745,
     "status": "ok",
     "timestamp": 1592401294329,
     "user": {
      "displayName": "Andrew MacDonald",
      "photoUrl": "https://lh3.googleusercontent.com/a-/AOh14GiL2bfpgT6d24Ro2V3SFX0lN7sDgarNqyJ43259PhE=s64",
      "userId": "13136109802752871845"
     },
     "user_tz": 240
    },
    "id": "cyc99p2aeLdy"
   },
   "outputs": [],
   "source": [
    "autos.columns = ['date_crawled', 'name', 'seller', 'offer_type', 'price', 'abtest',\n",
    "       'vehicle_type', 'registration_year', 'gearbox', 'power_ps', 'model',\n",
    "       'odometer', 'registration_month', 'fuel_type', 'brand',\n",
    "       'unrepaired_damage', 'ad_created', 'nr_of_pictures', 'postal_code',\n",
    "       'last_seen']"
   ]
  },
  {
   "cell_type": "code",
   "execution_count": 9,
   "metadata": {
    "colab": {
     "base_uri": "https://localhost:8080/",
     "height": 119
    },
    "colab_type": "code",
    "executionInfo": {
     "elapsed": 1739,
     "status": "ok",
     "timestamp": 1592401294330,
     "user": {
      "displayName": "Andrew MacDonald",
      "photoUrl": "https://lh3.googleusercontent.com/a-/AOh14GiL2bfpgT6d24Ro2V3SFX0lN7sDgarNqyJ43259PhE=s64",
      "userId": "13136109802752871845"
     },
     "user_tz": 240
    },
    "id": "joyfFkOGeLd0",
    "outputId": "f449e659-30ab-4152-abec-113638f67b0f"
   },
   "outputs": [
    {
     "data": {
      "text/plain": [
       "Index(['date_crawled', 'name', 'seller', 'offer_type', 'price', 'abtest',\n",
       "       'vehicle_type', 'registration_year', 'gearbox', 'power_ps', 'model',\n",
       "       'odometer', 'registration_month', 'fuel_type', 'brand',\n",
       "       'unrepaired_damage', 'ad_created', 'nr_of_pictures', 'postal_code',\n",
       "       'last_seen'],\n",
       "      dtype='object')"
      ]
     },
     "execution_count": 9,
     "metadata": {},
     "output_type": "execute_result"
    }
   ],
   "source": [
    "autos.columns"
   ]
  },
  {
   "cell_type": "markdown",
   "metadata": {
    "colab_type": "text",
    "id": "SO0lWqYAeLd3"
   },
   "source": [
    "## Data Cleaning"
   ]
  },
  {
   "cell_type": "markdown",
   "metadata": {
    "colab_type": "text",
    "id": "86-oXNiaeLd3"
   },
   "source": [
    "The below section includes several data cleaning tasks, including the following:\n",
    "\n",
    "1. Drop unnecessary columns that contain (almost the) same value for every record.\n",
    "2. Covert numeric data to a true numeric data type. This requires the removal of text-based characters.\n",
    "3. Identify and remove outliers"
   ]
  },
  {
   "cell_type": "code",
   "execution_count": 10,
   "metadata": {
    "colab": {
     "base_uri": "https://localhost:8080/",
     "height": 444
    },
    "colab_type": "code",
    "executionInfo": {
     "elapsed": 1967,
     "status": "ok",
     "timestamp": 1592401294565,
     "user": {
      "displayName": "Andrew MacDonald",
      "photoUrl": "https://lh3.googleusercontent.com/a-/AOh14GiL2bfpgT6d24Ro2V3SFX0lN7sDgarNqyJ43259PhE=s64",
      "userId": "13136109802752871845"
     },
     "user_tz": 240
    },
    "id": "r1TT5Vg1eLd4",
    "outputId": "5e62b816-2782-4323-ed39-a99805d00771"
   },
   "outputs": [
    {
     "data": {
      "text/html": [
       "<div>\n",
       "<style scoped>\n",
       "    .dataframe tbody tr th:only-of-type {\n",
       "        vertical-align: middle;\n",
       "    }\n",
       "\n",
       "    .dataframe tbody tr th {\n",
       "        vertical-align: top;\n",
       "    }\n",
       "\n",
       "    .dataframe thead th {\n",
       "        text-align: right;\n",
       "    }\n",
       "</style>\n",
       "<table border=\"1\" class=\"dataframe\">\n",
       "  <thead>\n",
       "    <tr style=\"text-align: right;\">\n",
       "      <th></th>\n",
       "      <th>date_crawled</th>\n",
       "      <th>name</th>\n",
       "      <th>seller</th>\n",
       "      <th>offer_type</th>\n",
       "      <th>price</th>\n",
       "      <th>abtest</th>\n",
       "      <th>vehicle_type</th>\n",
       "      <th>registration_year</th>\n",
       "      <th>gearbox</th>\n",
       "      <th>power_ps</th>\n",
       "      <th>model</th>\n",
       "      <th>odometer</th>\n",
       "      <th>registration_month</th>\n",
       "      <th>fuel_type</th>\n",
       "      <th>brand</th>\n",
       "      <th>unrepaired_damage</th>\n",
       "      <th>ad_created</th>\n",
       "      <th>nr_of_pictures</th>\n",
       "      <th>postal_code</th>\n",
       "      <th>last_seen</th>\n",
       "    </tr>\n",
       "  </thead>\n",
       "  <tbody>\n",
       "    <tr>\n",
       "      <th>count</th>\n",
       "      <td>50000</td>\n",
       "      <td>50000</td>\n",
       "      <td>50000</td>\n",
       "      <td>50000</td>\n",
       "      <td>50000</td>\n",
       "      <td>50000</td>\n",
       "      <td>44905</td>\n",
       "      <td>50000.000000</td>\n",
       "      <td>47320</td>\n",
       "      <td>50000.000000</td>\n",
       "      <td>47242</td>\n",
       "      <td>50000</td>\n",
       "      <td>50000.000000</td>\n",
       "      <td>45518</td>\n",
       "      <td>50000</td>\n",
       "      <td>40171</td>\n",
       "      <td>50000</td>\n",
       "      <td>50000.0</td>\n",
       "      <td>50000.000000</td>\n",
       "      <td>50000</td>\n",
       "    </tr>\n",
       "    <tr>\n",
       "      <th>unique</th>\n",
       "      <td>48213</td>\n",
       "      <td>38754</td>\n",
       "      <td>2</td>\n",
       "      <td>2</td>\n",
       "      <td>2357</td>\n",
       "      <td>2</td>\n",
       "      <td>8</td>\n",
       "      <td>NaN</td>\n",
       "      <td>2</td>\n",
       "      <td>NaN</td>\n",
       "      <td>245</td>\n",
       "      <td>13</td>\n",
       "      <td>NaN</td>\n",
       "      <td>7</td>\n",
       "      <td>40</td>\n",
       "      <td>2</td>\n",
       "      <td>76</td>\n",
       "      <td>NaN</td>\n",
       "      <td>NaN</td>\n",
       "      <td>39481</td>\n",
       "    </tr>\n",
       "    <tr>\n",
       "      <th>top</th>\n",
       "      <td>2016-03-10 15:36:24</td>\n",
       "      <td>Ford_Fiesta</td>\n",
       "      <td>privat</td>\n",
       "      <td>Angebot</td>\n",
       "      <td>$0</td>\n",
       "      <td>test</td>\n",
       "      <td>limousine</td>\n",
       "      <td>NaN</td>\n",
       "      <td>manuell</td>\n",
       "      <td>NaN</td>\n",
       "      <td>golf</td>\n",
       "      <td>150,000km</td>\n",
       "      <td>NaN</td>\n",
       "      <td>benzin</td>\n",
       "      <td>volkswagen</td>\n",
       "      <td>nein</td>\n",
       "      <td>2016-04-03 00:00:00</td>\n",
       "      <td>NaN</td>\n",
       "      <td>NaN</td>\n",
       "      <td>2016-04-07 06:17:27</td>\n",
       "    </tr>\n",
       "    <tr>\n",
       "      <th>freq</th>\n",
       "      <td>3</td>\n",
       "      <td>78</td>\n",
       "      <td>49999</td>\n",
       "      <td>49999</td>\n",
       "      <td>1421</td>\n",
       "      <td>25756</td>\n",
       "      <td>12859</td>\n",
       "      <td>NaN</td>\n",
       "      <td>36993</td>\n",
       "      <td>NaN</td>\n",
       "      <td>4024</td>\n",
       "      <td>32424</td>\n",
       "      <td>NaN</td>\n",
       "      <td>30107</td>\n",
       "      <td>10687</td>\n",
       "      <td>35232</td>\n",
       "      <td>1946</td>\n",
       "      <td>NaN</td>\n",
       "      <td>NaN</td>\n",
       "      <td>8</td>\n",
       "    </tr>\n",
       "    <tr>\n",
       "      <th>mean</th>\n",
       "      <td>NaN</td>\n",
       "      <td>NaN</td>\n",
       "      <td>NaN</td>\n",
       "      <td>NaN</td>\n",
       "      <td>NaN</td>\n",
       "      <td>NaN</td>\n",
       "      <td>NaN</td>\n",
       "      <td>2005.073280</td>\n",
       "      <td>NaN</td>\n",
       "      <td>116.355920</td>\n",
       "      <td>NaN</td>\n",
       "      <td>NaN</td>\n",
       "      <td>5.723360</td>\n",
       "      <td>NaN</td>\n",
       "      <td>NaN</td>\n",
       "      <td>NaN</td>\n",
       "      <td>NaN</td>\n",
       "      <td>0.0</td>\n",
       "      <td>50813.627300</td>\n",
       "      <td>NaN</td>\n",
       "    </tr>\n",
       "    <tr>\n",
       "      <th>std</th>\n",
       "      <td>NaN</td>\n",
       "      <td>NaN</td>\n",
       "      <td>NaN</td>\n",
       "      <td>NaN</td>\n",
       "      <td>NaN</td>\n",
       "      <td>NaN</td>\n",
       "      <td>NaN</td>\n",
       "      <td>105.712813</td>\n",
       "      <td>NaN</td>\n",
       "      <td>209.216627</td>\n",
       "      <td>NaN</td>\n",
       "      <td>NaN</td>\n",
       "      <td>3.711984</td>\n",
       "      <td>NaN</td>\n",
       "      <td>NaN</td>\n",
       "      <td>NaN</td>\n",
       "      <td>NaN</td>\n",
       "      <td>0.0</td>\n",
       "      <td>25779.747957</td>\n",
       "      <td>NaN</td>\n",
       "    </tr>\n",
       "    <tr>\n",
       "      <th>min</th>\n",
       "      <td>NaN</td>\n",
       "      <td>NaN</td>\n",
       "      <td>NaN</td>\n",
       "      <td>NaN</td>\n",
       "      <td>NaN</td>\n",
       "      <td>NaN</td>\n",
       "      <td>NaN</td>\n",
       "      <td>1000.000000</td>\n",
       "      <td>NaN</td>\n",
       "      <td>0.000000</td>\n",
       "      <td>NaN</td>\n",
       "      <td>NaN</td>\n",
       "      <td>0.000000</td>\n",
       "      <td>NaN</td>\n",
       "      <td>NaN</td>\n",
       "      <td>NaN</td>\n",
       "      <td>NaN</td>\n",
       "      <td>0.0</td>\n",
       "      <td>1067.000000</td>\n",
       "      <td>NaN</td>\n",
       "    </tr>\n",
       "    <tr>\n",
       "      <th>25%</th>\n",
       "      <td>NaN</td>\n",
       "      <td>NaN</td>\n",
       "      <td>NaN</td>\n",
       "      <td>NaN</td>\n",
       "      <td>NaN</td>\n",
       "      <td>NaN</td>\n",
       "      <td>NaN</td>\n",
       "      <td>1999.000000</td>\n",
       "      <td>NaN</td>\n",
       "      <td>70.000000</td>\n",
       "      <td>NaN</td>\n",
       "      <td>NaN</td>\n",
       "      <td>3.000000</td>\n",
       "      <td>NaN</td>\n",
       "      <td>NaN</td>\n",
       "      <td>NaN</td>\n",
       "      <td>NaN</td>\n",
       "      <td>0.0</td>\n",
       "      <td>30451.000000</td>\n",
       "      <td>NaN</td>\n",
       "    </tr>\n",
       "    <tr>\n",
       "      <th>50%</th>\n",
       "      <td>NaN</td>\n",
       "      <td>NaN</td>\n",
       "      <td>NaN</td>\n",
       "      <td>NaN</td>\n",
       "      <td>NaN</td>\n",
       "      <td>NaN</td>\n",
       "      <td>NaN</td>\n",
       "      <td>2003.000000</td>\n",
       "      <td>NaN</td>\n",
       "      <td>105.000000</td>\n",
       "      <td>NaN</td>\n",
       "      <td>NaN</td>\n",
       "      <td>6.000000</td>\n",
       "      <td>NaN</td>\n",
       "      <td>NaN</td>\n",
       "      <td>NaN</td>\n",
       "      <td>NaN</td>\n",
       "      <td>0.0</td>\n",
       "      <td>49577.000000</td>\n",
       "      <td>NaN</td>\n",
       "    </tr>\n",
       "    <tr>\n",
       "      <th>75%</th>\n",
       "      <td>NaN</td>\n",
       "      <td>NaN</td>\n",
       "      <td>NaN</td>\n",
       "      <td>NaN</td>\n",
       "      <td>NaN</td>\n",
       "      <td>NaN</td>\n",
       "      <td>NaN</td>\n",
       "      <td>2008.000000</td>\n",
       "      <td>NaN</td>\n",
       "      <td>150.000000</td>\n",
       "      <td>NaN</td>\n",
       "      <td>NaN</td>\n",
       "      <td>9.000000</td>\n",
       "      <td>NaN</td>\n",
       "      <td>NaN</td>\n",
       "      <td>NaN</td>\n",
       "      <td>NaN</td>\n",
       "      <td>0.0</td>\n",
       "      <td>71540.000000</td>\n",
       "      <td>NaN</td>\n",
       "    </tr>\n",
       "    <tr>\n",
       "      <th>max</th>\n",
       "      <td>NaN</td>\n",
       "      <td>NaN</td>\n",
       "      <td>NaN</td>\n",
       "      <td>NaN</td>\n",
       "      <td>NaN</td>\n",
       "      <td>NaN</td>\n",
       "      <td>NaN</td>\n",
       "      <td>9999.000000</td>\n",
       "      <td>NaN</td>\n",
       "      <td>17700.000000</td>\n",
       "      <td>NaN</td>\n",
       "      <td>NaN</td>\n",
       "      <td>12.000000</td>\n",
       "      <td>NaN</td>\n",
       "      <td>NaN</td>\n",
       "      <td>NaN</td>\n",
       "      <td>NaN</td>\n",
       "      <td>0.0</td>\n",
       "      <td>99998.000000</td>\n",
       "      <td>NaN</td>\n",
       "    </tr>\n",
       "  </tbody>\n",
       "</table>\n",
       "</div>"
      ],
      "text/plain": [
       "               date_crawled         name  seller offer_type  price abtest  \\\n",
       "count                 50000        50000   50000      50000  50000  50000   \n",
       "unique                48213        38754       2          2   2357      2   \n",
       "top     2016-03-10 15:36:24  Ford_Fiesta  privat    Angebot     $0   test   \n",
       "freq                      3           78   49999      49999   1421  25756   \n",
       "mean                    NaN          NaN     NaN        NaN    NaN    NaN   \n",
       "std                     NaN          NaN     NaN        NaN    NaN    NaN   \n",
       "min                     NaN          NaN     NaN        NaN    NaN    NaN   \n",
       "25%                     NaN          NaN     NaN        NaN    NaN    NaN   \n",
       "50%                     NaN          NaN     NaN        NaN    NaN    NaN   \n",
       "75%                     NaN          NaN     NaN        NaN    NaN    NaN   \n",
       "max                     NaN          NaN     NaN        NaN    NaN    NaN   \n",
       "\n",
       "       vehicle_type  registration_year  gearbox      power_ps  model  \\\n",
       "count         44905       50000.000000    47320  50000.000000  47242   \n",
       "unique            8                NaN        2           NaN    245   \n",
       "top       limousine                NaN  manuell           NaN   golf   \n",
       "freq          12859                NaN    36993           NaN   4024   \n",
       "mean            NaN        2005.073280      NaN    116.355920    NaN   \n",
       "std             NaN         105.712813      NaN    209.216627    NaN   \n",
       "min             NaN        1000.000000      NaN      0.000000    NaN   \n",
       "25%             NaN        1999.000000      NaN     70.000000    NaN   \n",
       "50%             NaN        2003.000000      NaN    105.000000    NaN   \n",
       "75%             NaN        2008.000000      NaN    150.000000    NaN   \n",
       "max             NaN        9999.000000      NaN  17700.000000    NaN   \n",
       "\n",
       "         odometer  registration_month fuel_type       brand unrepaired_damage  \\\n",
       "count       50000        50000.000000     45518       50000             40171   \n",
       "unique         13                 NaN         7          40                 2   \n",
       "top     150,000km                 NaN    benzin  volkswagen              nein   \n",
       "freq        32424                 NaN     30107       10687             35232   \n",
       "mean          NaN            5.723360       NaN         NaN               NaN   \n",
       "std           NaN            3.711984       NaN         NaN               NaN   \n",
       "min           NaN            0.000000       NaN         NaN               NaN   \n",
       "25%           NaN            3.000000       NaN         NaN               NaN   \n",
       "50%           NaN            6.000000       NaN         NaN               NaN   \n",
       "75%           NaN            9.000000       NaN         NaN               NaN   \n",
       "max           NaN           12.000000       NaN         NaN               NaN   \n",
       "\n",
       "                 ad_created  nr_of_pictures   postal_code            last_seen  \n",
       "count                 50000         50000.0  50000.000000                50000  \n",
       "unique                   76             NaN           NaN                39481  \n",
       "top     2016-04-03 00:00:00             NaN           NaN  2016-04-07 06:17:27  \n",
       "freq                   1946             NaN           NaN                    8  \n",
       "mean                    NaN             0.0  50813.627300                  NaN  \n",
       "std                     NaN             0.0  25779.747957                  NaN  \n",
       "min                     NaN             0.0   1067.000000                  NaN  \n",
       "25%                     NaN             0.0  30451.000000                  NaN  \n",
       "50%                     NaN             0.0  49577.000000                  NaN  \n",
       "75%                     NaN             0.0  71540.000000                  NaN  \n",
       "max                     NaN             0.0  99998.000000                  NaN  "
      ]
     },
     "execution_count": 10,
     "metadata": {},
     "output_type": "execute_result"
    }
   ],
   "source": [
    "autos.describe(include='all')"
   ]
  },
  {
   "cell_type": "markdown",
   "metadata": {
    "colab_type": "text",
    "id": "PMRRe7sDeLd6"
   },
   "source": [
    "### Drop Unnecessary Columns"
   ]
  },
  {
   "cell_type": "markdown",
   "metadata": {
    "colab_type": "text",
    "id": "jByXd7hheLd7"
   },
   "source": [
    "The above results indicate a few columns that appear to show the same value for (almost) every row:\n",
    "* seller\n",
    "* offer_type\n",
    "* abtest\n",
    "* gearbox\n",
    "* unrepaired_damage\n",
    "\n",
    "Below, we'll evaluate each of these five columns to determine the frequency for each unique value. If almost every record is categorized as a single value, we'll drop the respective column from the dataframe."
   ]
  },
  {
   "cell_type": "markdown",
   "metadata": {
    "colab_type": "text",
    "id": "8wd5agWOeLd7"
   },
   "source": [
    "#### Seller"
   ]
  },
  {
   "cell_type": "code",
   "execution_count": 11,
   "metadata": {
    "colab": {
     "base_uri": "https://localhost:8080/",
     "height": 34
    },
    "colab_type": "code",
    "executionInfo": {
     "elapsed": 1969,
     "status": "ok",
     "timestamp": 1592401294574,
     "user": {
      "displayName": "Andrew MacDonald",
      "photoUrl": "https://lh3.googleusercontent.com/a-/AOh14GiL2bfpgT6d24Ro2V3SFX0lN7sDgarNqyJ43259PhE=s64",
      "userId": "13136109802752871845"
     },
     "user_tz": 240
    },
    "id": "-ePkn1d9eLd8",
    "outputId": "aa008797-fe73-4159-8d42-a0a485c3fcb1"
   },
   "outputs": [
    {
     "data": {
      "text/plain": [
       "array(['privat', 'gewerblich'], dtype=object)"
      ]
     },
     "execution_count": 11,
     "metadata": {},
     "output_type": "execute_result"
    }
   ],
   "source": [
    "autos.seller.unique()"
   ]
  },
  {
   "cell_type": "code",
   "execution_count": 12,
   "metadata": {
    "colab": {
     "base_uri": "https://localhost:8080/",
     "height": 162
    },
    "colab_type": "code",
    "executionInfo": {
     "elapsed": 2210,
     "status": "ok",
     "timestamp": 1592401294823,
     "user": {
      "displayName": "Andrew MacDonald",
      "photoUrl": "https://lh3.googleusercontent.com/a-/AOh14GiL2bfpgT6d24Ro2V3SFX0lN7sDgarNqyJ43259PhE=s64",
      "userId": "13136109802752871845"
     },
     "user_tz": 240
    },
    "id": "N2R9bAnEeLd9",
    "outputId": "a4710f37-6baf-4e1f-ed4c-0c08a34eab5e"
   },
   "outputs": [
    {
     "data": {
      "text/html": [
       "<div>\n",
       "<style scoped>\n",
       "    .dataframe tbody tr th:only-of-type {\n",
       "        vertical-align: middle;\n",
       "    }\n",
       "\n",
       "    .dataframe tbody tr th {\n",
       "        vertical-align: top;\n",
       "    }\n",
       "\n",
       "    .dataframe thead th {\n",
       "        text-align: right;\n",
       "    }\n",
       "</style>\n",
       "<table border=\"1\" class=\"dataframe\">\n",
       "  <thead>\n",
       "    <tr style=\"text-align: right;\">\n",
       "      <th></th>\n",
       "      <th>date_crawled</th>\n",
       "      <th>name</th>\n",
       "      <th>offer_type</th>\n",
       "      <th>price</th>\n",
       "      <th>abtest</th>\n",
       "      <th>vehicle_type</th>\n",
       "      <th>registration_year</th>\n",
       "      <th>gearbox</th>\n",
       "      <th>power_ps</th>\n",
       "      <th>model</th>\n",
       "      <th>odometer</th>\n",
       "      <th>registration_month</th>\n",
       "      <th>fuel_type</th>\n",
       "      <th>brand</th>\n",
       "      <th>unrepaired_damage</th>\n",
       "      <th>ad_created</th>\n",
       "      <th>nr_of_pictures</th>\n",
       "      <th>postal_code</th>\n",
       "      <th>last_seen</th>\n",
       "    </tr>\n",
       "    <tr>\n",
       "      <th>seller</th>\n",
       "      <th></th>\n",
       "      <th></th>\n",
       "      <th></th>\n",
       "      <th></th>\n",
       "      <th></th>\n",
       "      <th></th>\n",
       "      <th></th>\n",
       "      <th></th>\n",
       "      <th></th>\n",
       "      <th></th>\n",
       "      <th></th>\n",
       "      <th></th>\n",
       "      <th></th>\n",
       "      <th></th>\n",
       "      <th></th>\n",
       "      <th></th>\n",
       "      <th></th>\n",
       "      <th></th>\n",
       "      <th></th>\n",
       "    </tr>\n",
       "  </thead>\n",
       "  <tbody>\n",
       "    <tr>\n",
       "      <th>gewerblich</th>\n",
       "      <td>1</td>\n",
       "      <td>1</td>\n",
       "      <td>1</td>\n",
       "      <td>1</td>\n",
       "      <td>1</td>\n",
       "      <td>1</td>\n",
       "      <td>1</td>\n",
       "      <td>1</td>\n",
       "      <td>1</td>\n",
       "      <td>1</td>\n",
       "      <td>1</td>\n",
       "      <td>1</td>\n",
       "      <td>1</td>\n",
       "      <td>1</td>\n",
       "      <td>0</td>\n",
       "      <td>1</td>\n",
       "      <td>1</td>\n",
       "      <td>1</td>\n",
       "      <td>1</td>\n",
       "    </tr>\n",
       "    <tr>\n",
       "      <th>privat</th>\n",
       "      <td>49999</td>\n",
       "      <td>49999</td>\n",
       "      <td>49999</td>\n",
       "      <td>49999</td>\n",
       "      <td>49999</td>\n",
       "      <td>44904</td>\n",
       "      <td>49999</td>\n",
       "      <td>47319</td>\n",
       "      <td>49999</td>\n",
       "      <td>47241</td>\n",
       "      <td>49999</td>\n",
       "      <td>49999</td>\n",
       "      <td>45517</td>\n",
       "      <td>49999</td>\n",
       "      <td>40171</td>\n",
       "      <td>49999</td>\n",
       "      <td>49999</td>\n",
       "      <td>49999</td>\n",
       "      <td>49999</td>\n",
       "    </tr>\n",
       "  </tbody>\n",
       "</table>\n",
       "</div>"
      ],
      "text/plain": [
       "            date_crawled   name  offer_type  price  abtest  vehicle_type  \\\n",
       "seller                                                                     \n",
       "gewerblich             1      1           1      1       1             1   \n",
       "privat             49999  49999       49999  49999   49999         44904   \n",
       "\n",
       "            registration_year  gearbox  power_ps  model  odometer  \\\n",
       "seller                                                              \n",
       "gewerblich                  1        1         1      1         1   \n",
       "privat                  49999    47319     49999  47241     49999   \n",
       "\n",
       "            registration_month  fuel_type  brand  unrepaired_damage  \\\n",
       "seller                                                                \n",
       "gewerblich                   1          1      1                  0   \n",
       "privat                   49999      45517  49999              40171   \n",
       "\n",
       "            ad_created  nr_of_pictures  postal_code  last_seen  \n",
       "seller                                                          \n",
       "gewerblich           1               1            1          1  \n",
       "privat           49999           49999        49999      49999  "
      ]
     },
     "execution_count": 12,
     "metadata": {},
     "output_type": "execute_result"
    }
   ],
   "source": [
    "autos.groupby('seller').count()"
   ]
  },
  {
   "cell_type": "code",
   "execution_count": 13,
   "metadata": {
    "colab": {},
    "colab_type": "code",
    "executionInfo": {
     "elapsed": 2202,
     "status": "ok",
     "timestamp": 1592401294825,
     "user": {
      "displayName": "Andrew MacDonald",
      "photoUrl": "https://lh3.googleusercontent.com/a-/AOh14GiL2bfpgT6d24Ro2V3SFX0lN7sDgarNqyJ43259PhE=s64",
      "userId": "13136109802752871845"
     },
     "user_tz": 240
    },
    "id": "PRT2xMLTeLeA"
   },
   "outputs": [],
   "source": [
    "autos.drop('seller', axis=1, inplace=True)"
   ]
  },
  {
   "cell_type": "markdown",
   "metadata": {
    "colab_type": "text",
    "id": "DYPFnYgFeLeC"
   },
   "source": [
    "#### Offer Type"
   ]
  },
  {
   "cell_type": "code",
   "execution_count": 14,
   "metadata": {
    "colab": {
     "base_uri": "https://localhost:8080/",
     "height": 34
    },
    "colab_type": "code",
    "executionInfo": {
     "elapsed": 2195,
     "status": "ok",
     "timestamp": 1592401294828,
     "user": {
      "displayName": "Andrew MacDonald",
      "photoUrl": "https://lh3.googleusercontent.com/a-/AOh14GiL2bfpgT6d24Ro2V3SFX0lN7sDgarNqyJ43259PhE=s64",
      "userId": "13136109802752871845"
     },
     "user_tz": 240
    },
    "id": "1BjZXR6TeLeD",
    "outputId": "2b347f24-bcc4-4348-a513-4f14732c7588"
   },
   "outputs": [
    {
     "data": {
      "text/plain": [
       "array(['Angebot', 'Gesuch'], dtype=object)"
      ]
     },
     "execution_count": 14,
     "metadata": {},
     "output_type": "execute_result"
    }
   ],
   "source": [
    "autos.offer_type.unique()"
   ]
  },
  {
   "cell_type": "code",
   "execution_count": 15,
   "metadata": {
    "colab": {
     "base_uri": "https://localhost:8080/",
     "height": 142
    },
    "colab_type": "code",
    "executionInfo": {
     "elapsed": 2188,
     "status": "ok",
     "timestamp": 1592401294830,
     "user": {
      "displayName": "Andrew MacDonald",
      "photoUrl": "https://lh3.googleusercontent.com/a-/AOh14GiL2bfpgT6d24Ro2V3SFX0lN7sDgarNqyJ43259PhE=s64",
      "userId": "13136109802752871845"
     },
     "user_tz": 240
    },
    "id": "mwdkva7leLeF",
    "outputId": "6bb8c88e-3d11-4774-ced3-33f44d2ce04c"
   },
   "outputs": [
    {
     "data": {
      "text/html": [
       "<div>\n",
       "<style scoped>\n",
       "    .dataframe tbody tr th:only-of-type {\n",
       "        vertical-align: middle;\n",
       "    }\n",
       "\n",
       "    .dataframe tbody tr th {\n",
       "        vertical-align: top;\n",
       "    }\n",
       "\n",
       "    .dataframe thead th {\n",
       "        text-align: right;\n",
       "    }\n",
       "</style>\n",
       "<table border=\"1\" class=\"dataframe\">\n",
       "  <thead>\n",
       "    <tr style=\"text-align: right;\">\n",
       "      <th></th>\n",
       "      <th>date_crawled</th>\n",
       "      <th>name</th>\n",
       "      <th>price</th>\n",
       "      <th>abtest</th>\n",
       "      <th>vehicle_type</th>\n",
       "      <th>registration_year</th>\n",
       "      <th>gearbox</th>\n",
       "      <th>power_ps</th>\n",
       "      <th>model</th>\n",
       "      <th>odometer</th>\n",
       "      <th>registration_month</th>\n",
       "      <th>fuel_type</th>\n",
       "      <th>brand</th>\n",
       "      <th>unrepaired_damage</th>\n",
       "      <th>ad_created</th>\n",
       "      <th>nr_of_pictures</th>\n",
       "      <th>postal_code</th>\n",
       "      <th>last_seen</th>\n",
       "    </tr>\n",
       "    <tr>\n",
       "      <th>offer_type</th>\n",
       "      <th></th>\n",
       "      <th></th>\n",
       "      <th></th>\n",
       "      <th></th>\n",
       "      <th></th>\n",
       "      <th></th>\n",
       "      <th></th>\n",
       "      <th></th>\n",
       "      <th></th>\n",
       "      <th></th>\n",
       "      <th></th>\n",
       "      <th></th>\n",
       "      <th></th>\n",
       "      <th></th>\n",
       "      <th></th>\n",
       "      <th></th>\n",
       "      <th></th>\n",
       "      <th></th>\n",
       "    </tr>\n",
       "  </thead>\n",
       "  <tbody>\n",
       "    <tr>\n",
       "      <th>Angebot</th>\n",
       "      <td>49999</td>\n",
       "      <td>49999</td>\n",
       "      <td>49999</td>\n",
       "      <td>49999</td>\n",
       "      <td>44904</td>\n",
       "      <td>49999</td>\n",
       "      <td>47320</td>\n",
       "      <td>49999</td>\n",
       "      <td>47241</td>\n",
       "      <td>49999</td>\n",
       "      <td>49999</td>\n",
       "      <td>45518</td>\n",
       "      <td>49999</td>\n",
       "      <td>40171</td>\n",
       "      <td>49999</td>\n",
       "      <td>49999</td>\n",
       "      <td>49999</td>\n",
       "      <td>49999</td>\n",
       "    </tr>\n",
       "    <tr>\n",
       "      <th>Gesuch</th>\n",
       "      <td>1</td>\n",
       "      <td>1</td>\n",
       "      <td>1</td>\n",
       "      <td>1</td>\n",
       "      <td>1</td>\n",
       "      <td>1</td>\n",
       "      <td>0</td>\n",
       "      <td>1</td>\n",
       "      <td>1</td>\n",
       "      <td>1</td>\n",
       "      <td>1</td>\n",
       "      <td>0</td>\n",
       "      <td>1</td>\n",
       "      <td>0</td>\n",
       "      <td>1</td>\n",
       "      <td>1</td>\n",
       "      <td>1</td>\n",
       "      <td>1</td>\n",
       "    </tr>\n",
       "  </tbody>\n",
       "</table>\n",
       "</div>"
      ],
      "text/plain": [
       "            date_crawled   name  price  abtest  vehicle_type  \\\n",
       "offer_type                                                     \n",
       "Angebot            49999  49999  49999   49999         44904   \n",
       "Gesuch                 1      1      1       1             1   \n",
       "\n",
       "            registration_year  gearbox  power_ps  model  odometer  \\\n",
       "offer_type                                                          \n",
       "Angebot                 49999    47320     49999  47241     49999   \n",
       "Gesuch                      1        0         1      1         1   \n",
       "\n",
       "            registration_month  fuel_type  brand  unrepaired_damage  \\\n",
       "offer_type                                                            \n",
       "Angebot                  49999      45518  49999              40171   \n",
       "Gesuch                       1          0      1                  0   \n",
       "\n",
       "            ad_created  nr_of_pictures  postal_code  last_seen  \n",
       "offer_type                                                      \n",
       "Angebot          49999           49999        49999      49999  \n",
       "Gesuch               1               1            1          1  "
      ]
     },
     "execution_count": 15,
     "metadata": {},
     "output_type": "execute_result"
    }
   ],
   "source": [
    "autos.groupby('offer_type').count()"
   ]
  },
  {
   "cell_type": "code",
   "execution_count": 16,
   "metadata": {
    "colab": {},
    "colab_type": "code",
    "executionInfo": {
     "elapsed": 2184,
     "status": "ok",
     "timestamp": 1592401294833,
     "user": {
      "displayName": "Andrew MacDonald",
      "photoUrl": "https://lh3.googleusercontent.com/a-/AOh14GiL2bfpgT6d24Ro2V3SFX0lN7sDgarNqyJ43259PhE=s64",
      "userId": "13136109802752871845"
     },
     "user_tz": 240
    },
    "id": "fk4GvnLCeLeI"
   },
   "outputs": [],
   "source": [
    "autos.drop('offer_type', axis=1, inplace=True)"
   ]
  },
  {
   "cell_type": "markdown",
   "metadata": {
    "colab_type": "text",
    "id": "vChDGBd5eLeK"
   },
   "source": [
    "#### AB Test"
   ]
  },
  {
   "cell_type": "code",
   "execution_count": 17,
   "metadata": {
    "colab": {
     "base_uri": "https://localhost:8080/",
     "height": 34
    },
    "colab_type": "code",
    "executionInfo": {
     "elapsed": 2179,
     "status": "ok",
     "timestamp": 1592401294835,
     "user": {
      "displayName": "Andrew MacDonald",
      "photoUrl": "https://lh3.googleusercontent.com/a-/AOh14GiL2bfpgT6d24Ro2V3SFX0lN7sDgarNqyJ43259PhE=s64",
      "userId": "13136109802752871845"
     },
     "user_tz": 240
    },
    "id": "x3horRvieLeL",
    "outputId": "fcc06781-6384-42e7-b3e6-fdff013c1ad2"
   },
   "outputs": [
    {
     "data": {
      "text/plain": [
       "array(['control', 'test'], dtype=object)"
      ]
     },
     "execution_count": 17,
     "metadata": {},
     "output_type": "execute_result"
    }
   ],
   "source": [
    "autos.abtest.unique()"
   ]
  },
  {
   "cell_type": "code",
   "execution_count": 18,
   "metadata": {
    "colab": {
     "base_uri": "https://localhost:8080/",
     "height": 142
    },
    "colab_type": "code",
    "executionInfo": {
     "elapsed": 2382,
     "status": "ok",
     "timestamp": 1592401295045,
     "user": {
      "displayName": "Andrew MacDonald",
      "photoUrl": "https://lh3.googleusercontent.com/a-/AOh14GiL2bfpgT6d24Ro2V3SFX0lN7sDgarNqyJ43259PhE=s64",
      "userId": "13136109802752871845"
     },
     "user_tz": 240
    },
    "id": "D7IcT47CeLeN",
    "outputId": "3f539e87-ea78-4bf6-82af-38c772067440"
   },
   "outputs": [
    {
     "data": {
      "text/html": [
       "<div>\n",
       "<style scoped>\n",
       "    .dataframe tbody tr th:only-of-type {\n",
       "        vertical-align: middle;\n",
       "    }\n",
       "\n",
       "    .dataframe tbody tr th {\n",
       "        vertical-align: top;\n",
       "    }\n",
       "\n",
       "    .dataframe thead th {\n",
       "        text-align: right;\n",
       "    }\n",
       "</style>\n",
       "<table border=\"1\" class=\"dataframe\">\n",
       "  <thead>\n",
       "    <tr style=\"text-align: right;\">\n",
       "      <th></th>\n",
       "      <th>date_crawled</th>\n",
       "      <th>name</th>\n",
       "      <th>price</th>\n",
       "      <th>vehicle_type</th>\n",
       "      <th>registration_year</th>\n",
       "      <th>gearbox</th>\n",
       "      <th>power_ps</th>\n",
       "      <th>model</th>\n",
       "      <th>odometer</th>\n",
       "      <th>registration_month</th>\n",
       "      <th>fuel_type</th>\n",
       "      <th>brand</th>\n",
       "      <th>unrepaired_damage</th>\n",
       "      <th>ad_created</th>\n",
       "      <th>nr_of_pictures</th>\n",
       "      <th>postal_code</th>\n",
       "      <th>last_seen</th>\n",
       "    </tr>\n",
       "    <tr>\n",
       "      <th>abtest</th>\n",
       "      <th></th>\n",
       "      <th></th>\n",
       "      <th></th>\n",
       "      <th></th>\n",
       "      <th></th>\n",
       "      <th></th>\n",
       "      <th></th>\n",
       "      <th></th>\n",
       "      <th></th>\n",
       "      <th></th>\n",
       "      <th></th>\n",
       "      <th></th>\n",
       "      <th></th>\n",
       "      <th></th>\n",
       "      <th></th>\n",
       "      <th></th>\n",
       "      <th></th>\n",
       "    </tr>\n",
       "  </thead>\n",
       "  <tbody>\n",
       "    <tr>\n",
       "      <th>control</th>\n",
       "      <td>24244</td>\n",
       "      <td>24244</td>\n",
       "      <td>24244</td>\n",
       "      <td>21752</td>\n",
       "      <td>24244</td>\n",
       "      <td>22963</td>\n",
       "      <td>24244</td>\n",
       "      <td>22879</td>\n",
       "      <td>24244</td>\n",
       "      <td>24244</td>\n",
       "      <td>22104</td>\n",
       "      <td>24244</td>\n",
       "      <td>19461</td>\n",
       "      <td>24244</td>\n",
       "      <td>24244</td>\n",
       "      <td>24244</td>\n",
       "      <td>24244</td>\n",
       "    </tr>\n",
       "    <tr>\n",
       "      <th>test</th>\n",
       "      <td>25756</td>\n",
       "      <td>25756</td>\n",
       "      <td>25756</td>\n",
       "      <td>23153</td>\n",
       "      <td>25756</td>\n",
       "      <td>24357</td>\n",
       "      <td>25756</td>\n",
       "      <td>24363</td>\n",
       "      <td>25756</td>\n",
       "      <td>25756</td>\n",
       "      <td>23414</td>\n",
       "      <td>25756</td>\n",
       "      <td>20710</td>\n",
       "      <td>25756</td>\n",
       "      <td>25756</td>\n",
       "      <td>25756</td>\n",
       "      <td>25756</td>\n",
       "    </tr>\n",
       "  </tbody>\n",
       "</table>\n",
       "</div>"
      ],
      "text/plain": [
       "         date_crawled   name  price  vehicle_type  registration_year  gearbox  \\\n",
       "abtest                                                                          \n",
       "control         24244  24244  24244         21752              24244    22963   \n",
       "test            25756  25756  25756         23153              25756    24357   \n",
       "\n",
       "         power_ps  model  odometer  registration_month  fuel_type  brand  \\\n",
       "abtest                                                                     \n",
       "control     24244  22879     24244               24244      22104  24244   \n",
       "test        25756  24363     25756               25756      23414  25756   \n",
       "\n",
       "         unrepaired_damage  ad_created  nr_of_pictures  postal_code  last_seen  \n",
       "abtest                                                                          \n",
       "control              19461       24244           24244        24244      24244  \n",
       "test                 20710       25756           25756        25756      25756  "
      ]
     },
     "execution_count": 18,
     "metadata": {},
     "output_type": "execute_result"
    }
   ],
   "source": [
    "autos.groupby('abtest').count()"
   ]
  },
  {
   "cell_type": "markdown",
   "metadata": {
    "colab_type": "text",
    "id": "hM_OtZobeLeP"
   },
   "source": [
    "#### Gearbox"
   ]
  },
  {
   "cell_type": "code",
   "execution_count": 19,
   "metadata": {
    "colab": {
     "base_uri": "https://localhost:8080/",
     "height": 34
    },
    "colab_type": "code",
    "executionInfo": {
     "elapsed": 2379,
     "status": "ok",
     "timestamp": 1592401295048,
     "user": {
      "displayName": "Andrew MacDonald",
      "photoUrl": "https://lh3.googleusercontent.com/a-/AOh14GiL2bfpgT6d24Ro2V3SFX0lN7sDgarNqyJ43259PhE=s64",
      "userId": "13136109802752871845"
     },
     "user_tz": 240
    },
    "id": "DHq7eG5heLeP",
    "outputId": "4c137e49-e00c-4df5-f285-89f682d5691b"
   },
   "outputs": [
    {
     "data": {
      "text/plain": [
       "array(['manuell', 'automatik', nan], dtype=object)"
      ]
     },
     "execution_count": 19,
     "metadata": {},
     "output_type": "execute_result"
    }
   ],
   "source": [
    "autos.gearbox.unique()"
   ]
  },
  {
   "cell_type": "code",
   "execution_count": 20,
   "metadata": {
    "colab": {
     "base_uri": "https://localhost:8080/",
     "height": 142
    },
    "colab_type": "code",
    "executionInfo": {
     "elapsed": 2375,
     "status": "ok",
     "timestamp": 1592401295051,
     "user": {
      "displayName": "Andrew MacDonald",
      "photoUrl": "https://lh3.googleusercontent.com/a-/AOh14GiL2bfpgT6d24Ro2V3SFX0lN7sDgarNqyJ43259PhE=s64",
      "userId": "13136109802752871845"
     },
     "user_tz": 240
    },
    "id": "PKo3Ic7meLeR",
    "outputId": "775d88fc-501a-4dc7-c6d7-388e33a4cf6e"
   },
   "outputs": [
    {
     "data": {
      "text/html": [
       "<div>\n",
       "<style scoped>\n",
       "    .dataframe tbody tr th:only-of-type {\n",
       "        vertical-align: middle;\n",
       "    }\n",
       "\n",
       "    .dataframe tbody tr th {\n",
       "        vertical-align: top;\n",
       "    }\n",
       "\n",
       "    .dataframe thead th {\n",
       "        text-align: right;\n",
       "    }\n",
       "</style>\n",
       "<table border=\"1\" class=\"dataframe\">\n",
       "  <thead>\n",
       "    <tr style=\"text-align: right;\">\n",
       "      <th></th>\n",
       "      <th>date_crawled</th>\n",
       "      <th>name</th>\n",
       "      <th>price</th>\n",
       "      <th>abtest</th>\n",
       "      <th>vehicle_type</th>\n",
       "      <th>registration_year</th>\n",
       "      <th>power_ps</th>\n",
       "      <th>model</th>\n",
       "      <th>odometer</th>\n",
       "      <th>registration_month</th>\n",
       "      <th>fuel_type</th>\n",
       "      <th>brand</th>\n",
       "      <th>unrepaired_damage</th>\n",
       "      <th>ad_created</th>\n",
       "      <th>nr_of_pictures</th>\n",
       "      <th>postal_code</th>\n",
       "      <th>last_seen</th>\n",
       "    </tr>\n",
       "    <tr>\n",
       "      <th>gearbox</th>\n",
       "      <th></th>\n",
       "      <th></th>\n",
       "      <th></th>\n",
       "      <th></th>\n",
       "      <th></th>\n",
       "      <th></th>\n",
       "      <th></th>\n",
       "      <th></th>\n",
       "      <th></th>\n",
       "      <th></th>\n",
       "      <th></th>\n",
       "      <th></th>\n",
       "      <th></th>\n",
       "      <th></th>\n",
       "      <th></th>\n",
       "      <th></th>\n",
       "      <th></th>\n",
       "    </tr>\n",
       "  </thead>\n",
       "  <tbody>\n",
       "    <tr>\n",
       "      <th>automatik</th>\n",
       "      <td>10327</td>\n",
       "      <td>10327</td>\n",
       "      <td>10327</td>\n",
       "      <td>10327</td>\n",
       "      <td>9752</td>\n",
       "      <td>10327</td>\n",
       "      <td>10327</td>\n",
       "      <td>9805</td>\n",
       "      <td>10327</td>\n",
       "      <td>10327</td>\n",
       "      <td>9796</td>\n",
       "      <td>10327</td>\n",
       "      <td>8861</td>\n",
       "      <td>10327</td>\n",
       "      <td>10327</td>\n",
       "      <td>10327</td>\n",
       "      <td>10327</td>\n",
       "    </tr>\n",
       "    <tr>\n",
       "      <th>manuell</th>\n",
       "      <td>36993</td>\n",
       "      <td>36993</td>\n",
       "      <td>36993</td>\n",
       "      <td>36993</td>\n",
       "      <td>33816</td>\n",
       "      <td>36993</td>\n",
       "      <td>36993</td>\n",
       "      <td>35303</td>\n",
       "      <td>36993</td>\n",
       "      <td>36993</td>\n",
       "      <td>34247</td>\n",
       "      <td>36993</td>\n",
       "      <td>30373</td>\n",
       "      <td>36993</td>\n",
       "      <td>36993</td>\n",
       "      <td>36993</td>\n",
       "      <td>36993</td>\n",
       "    </tr>\n",
       "  </tbody>\n",
       "</table>\n",
       "</div>"
      ],
      "text/plain": [
       "           date_crawled   name  price  abtest  vehicle_type  \\\n",
       "gearbox                                                       \n",
       "automatik         10327  10327  10327   10327          9752   \n",
       "manuell           36993  36993  36993   36993         33816   \n",
       "\n",
       "           registration_year  power_ps  model  odometer  registration_month  \\\n",
       "gearbox                                                                       \n",
       "automatik              10327     10327   9805     10327               10327   \n",
       "manuell                36993     36993  35303     36993               36993   \n",
       "\n",
       "           fuel_type  brand  unrepaired_damage  ad_created  nr_of_pictures  \\\n",
       "gearbox                                                                      \n",
       "automatik       9796  10327               8861       10327           10327   \n",
       "manuell        34247  36993              30373       36993           36993   \n",
       "\n",
       "           postal_code  last_seen  \n",
       "gearbox                            \n",
       "automatik        10327      10327  \n",
       "manuell          36993      36993  "
      ]
     },
     "execution_count": 20,
     "metadata": {},
     "output_type": "execute_result"
    }
   ],
   "source": [
    "autos.groupby('gearbox').count()"
   ]
  },
  {
   "cell_type": "markdown",
   "metadata": {
    "colab_type": "text",
    "id": "ei4yfh0ZeLeT"
   },
   "source": [
    "#### Unrepaired Damage"
   ]
  },
  {
   "cell_type": "code",
   "execution_count": 21,
   "metadata": {
    "colab": {
     "base_uri": "https://localhost:8080/",
     "height": 34
    },
    "colab_type": "code",
    "executionInfo": {
     "elapsed": 2369,
     "status": "ok",
     "timestamp": 1592401295053,
     "user": {
      "displayName": "Andrew MacDonald",
      "photoUrl": "https://lh3.googleusercontent.com/a-/AOh14GiL2bfpgT6d24Ro2V3SFX0lN7sDgarNqyJ43259PhE=s64",
      "userId": "13136109802752871845"
     },
     "user_tz": 240
    },
    "id": "wltG_NeJeLeT",
    "outputId": "4cb266d3-98a4-46a6-c4fa-1729bda4baa9"
   },
   "outputs": [
    {
     "data": {
      "text/plain": [
       "array(['nein', nan, 'ja'], dtype=object)"
      ]
     },
     "execution_count": 21,
     "metadata": {},
     "output_type": "execute_result"
    }
   ],
   "source": [
    "autos.unrepaired_damage.unique()"
   ]
  },
  {
   "cell_type": "code",
   "execution_count": 22,
   "metadata": {
    "colab": {
     "base_uri": "https://localhost:8080/",
     "height": 142
    },
    "colab_type": "code",
    "executionInfo": {
     "elapsed": 2602,
     "status": "ok",
     "timestamp": 1592401295293,
     "user": {
      "displayName": "Andrew MacDonald",
      "photoUrl": "https://lh3.googleusercontent.com/a-/AOh14GiL2bfpgT6d24Ro2V3SFX0lN7sDgarNqyJ43259PhE=s64",
      "userId": "13136109802752871845"
     },
     "user_tz": 240
    },
    "id": "T7EXSY06eLeV",
    "outputId": "6c8b5d11-0481-4b3a-bb23-575ab877dd25"
   },
   "outputs": [
    {
     "data": {
      "text/html": [
       "<div>\n",
       "<style scoped>\n",
       "    .dataframe tbody tr th:only-of-type {\n",
       "        vertical-align: middle;\n",
       "    }\n",
       "\n",
       "    .dataframe tbody tr th {\n",
       "        vertical-align: top;\n",
       "    }\n",
       "\n",
       "    .dataframe thead th {\n",
       "        text-align: right;\n",
       "    }\n",
       "</style>\n",
       "<table border=\"1\" class=\"dataframe\">\n",
       "  <thead>\n",
       "    <tr style=\"text-align: right;\">\n",
       "      <th></th>\n",
       "      <th>date_crawled</th>\n",
       "      <th>name</th>\n",
       "      <th>price</th>\n",
       "      <th>abtest</th>\n",
       "      <th>vehicle_type</th>\n",
       "      <th>registration_year</th>\n",
       "      <th>gearbox</th>\n",
       "      <th>power_ps</th>\n",
       "      <th>model</th>\n",
       "      <th>odometer</th>\n",
       "      <th>registration_month</th>\n",
       "      <th>fuel_type</th>\n",
       "      <th>brand</th>\n",
       "      <th>ad_created</th>\n",
       "      <th>nr_of_pictures</th>\n",
       "      <th>postal_code</th>\n",
       "      <th>last_seen</th>\n",
       "    </tr>\n",
       "    <tr>\n",
       "      <th>unrepaired_damage</th>\n",
       "      <th></th>\n",
       "      <th></th>\n",
       "      <th></th>\n",
       "      <th></th>\n",
       "      <th></th>\n",
       "      <th></th>\n",
       "      <th></th>\n",
       "      <th></th>\n",
       "      <th></th>\n",
       "      <th></th>\n",
       "      <th></th>\n",
       "      <th></th>\n",
       "      <th></th>\n",
       "      <th></th>\n",
       "      <th></th>\n",
       "      <th></th>\n",
       "      <th></th>\n",
       "    </tr>\n",
       "  </thead>\n",
       "  <tbody>\n",
       "    <tr>\n",
       "      <th>ja</th>\n",
       "      <td>4939</td>\n",
       "      <td>4939</td>\n",
       "      <td>4939</td>\n",
       "      <td>4939</td>\n",
       "      <td>4439</td>\n",
       "      <td>4939</td>\n",
       "      <td>4737</td>\n",
       "      <td>4939</td>\n",
       "      <td>4617</td>\n",
       "      <td>4939</td>\n",
       "      <td>4939</td>\n",
       "      <td>4429</td>\n",
       "      <td>4939</td>\n",
       "      <td>4939</td>\n",
       "      <td>4939</td>\n",
       "      <td>4939</td>\n",
       "      <td>4939</td>\n",
       "    </tr>\n",
       "    <tr>\n",
       "      <th>nein</th>\n",
       "      <td>35232</td>\n",
       "      <td>35232</td>\n",
       "      <td>35232</td>\n",
       "      <td>35232</td>\n",
       "      <td>33449</td>\n",
       "      <td>35232</td>\n",
       "      <td>34497</td>\n",
       "      <td>35232</td>\n",
       "      <td>34038</td>\n",
       "      <td>35232</td>\n",
       "      <td>35232</td>\n",
       "      <td>33551</td>\n",
       "      <td>35232</td>\n",
       "      <td>35232</td>\n",
       "      <td>35232</td>\n",
       "      <td>35232</td>\n",
       "      <td>35232</td>\n",
       "    </tr>\n",
       "  </tbody>\n",
       "</table>\n",
       "</div>"
      ],
      "text/plain": [
       "                   date_crawled   name  price  abtest  vehicle_type  \\\n",
       "unrepaired_damage                                                     \n",
       "ja                         4939   4939   4939    4939          4439   \n",
       "nein                      35232  35232  35232   35232         33449   \n",
       "\n",
       "                   registration_year  gearbox  power_ps  model  odometer  \\\n",
       "unrepaired_damage                                                          \n",
       "ja                              4939     4737      4939   4617      4939   \n",
       "nein                           35232    34497     35232  34038     35232   \n",
       "\n",
       "                   registration_month  fuel_type  brand  ad_created  \\\n",
       "unrepaired_damage                                                     \n",
       "ja                               4939       4429   4939        4939   \n",
       "nein                            35232      33551  35232       35232   \n",
       "\n",
       "                   nr_of_pictures  postal_code  last_seen  \n",
       "unrepaired_damage                                          \n",
       "ja                           4939         4939       4939  \n",
       "nein                        35232        35232      35232  "
      ]
     },
     "execution_count": 22,
     "metadata": {},
     "output_type": "execute_result"
    }
   ],
   "source": [
    "autos.groupby('unrepaired_damage').count()"
   ]
  },
  {
   "cell_type": "markdown",
   "metadata": {
    "colab_type": "text",
    "id": "_DNqEWg4eLeX"
   },
   "source": [
    "#### Explanation"
   ]
  },
  {
   "cell_type": "markdown",
   "metadata": {
    "colab_type": "text",
    "id": "g5MuoYYSeLeY"
   },
   "source": [
    "Both the 'Seller' and 'Offer Type' columns contained the same record for 49,999 rows with a single outlier. Because of this, both columns were dropped from the dataframe. Alternatively, the 'Gearbox', 'AB Test', and 'Unrepaired Damage' columns contained only a couple unique values, but they were spread across tens of thousands of rows. This indicates that the columns provide meaningful value, so they were kept."
   ]
  },
  {
   "cell_type": "markdown",
   "metadata": {
    "colab_type": "text",
    "id": "-ptP3-OfeLea"
   },
   "source": [
    "### Convert Columns to Numeric"
   ]
  },
  {
   "cell_type": "markdown",
   "metadata": {
    "colab_type": "text",
    "id": "UwF0L_x6eLeb"
   },
   "source": [
    "The 'Price' and 'Odometer' columns represent numeric data, but they are stored as text. Below, we remove any non-numeric values from these columns and convert the data type."
   ]
  },
  {
   "cell_type": "code",
   "execution_count": 23,
   "metadata": {
    "colab": {
     "base_uri": "https://localhost:8080/",
     "height": 442
    },
    "colab_type": "code",
    "executionInfo": {
     "elapsed": 2591,
     "status": "ok",
     "timestamp": 1592401295295,
     "user": {
      "displayName": "Andrew MacDonald",
      "photoUrl": "https://lh3.googleusercontent.com/a-/AOh14GiL2bfpgT6d24Ro2V3SFX0lN7sDgarNqyJ43259PhE=s64",
      "userId": "13136109802752871845"
     },
     "user_tz": 240
    },
    "id": "tkiF0XHreLeb",
    "outputId": "59c747c6-2ed9-4e85-fb6b-8669c1b84bdb"
   },
   "outputs": [
    {
     "name": "stdout",
     "output_type": "stream",
     "text": [
      "<class 'pandas.core.frame.DataFrame'>\n",
      "RangeIndex: 50000 entries, 0 to 49999\n",
      "Data columns (total 18 columns):\n",
      " #   Column              Non-Null Count  Dtype \n",
      "---  ------              --------------  ----- \n",
      " 0   date_crawled        50000 non-null  object\n",
      " 1   name                50000 non-null  object\n",
      " 2   price               50000 non-null  object\n",
      " 3   abtest              50000 non-null  object\n",
      " 4   vehicle_type        44905 non-null  object\n",
      " 5   registration_year   50000 non-null  int64 \n",
      " 6   gearbox             47320 non-null  object\n",
      " 7   power_ps            50000 non-null  int64 \n",
      " 8   model               47242 non-null  object\n",
      " 9   odometer            50000 non-null  object\n",
      " 10  registration_month  50000 non-null  int64 \n",
      " 11  fuel_type           45518 non-null  object\n",
      " 12  brand               50000 non-null  object\n",
      " 13  unrepaired_damage   40171 non-null  object\n",
      " 14  ad_created          50000 non-null  object\n",
      " 15  nr_of_pictures      50000 non-null  int64 \n",
      " 16  postal_code         50000 non-null  int64 \n",
      " 17  last_seen           50000 non-null  object\n",
      "dtypes: int64(5), object(13)\n",
      "memory usage: 6.9+ MB\n"
     ]
    }
   ],
   "source": [
    "autos.info()"
   ]
  },
  {
   "cell_type": "markdown",
   "metadata": {
    "colab_type": "text",
    "id": "G_6ubPWseLed"
   },
   "source": [
    "#### Price"
   ]
  },
  {
   "cell_type": "code",
   "execution_count": 24,
   "metadata": {
    "colab": {
     "base_uri": "https://localhost:8080/",
     "height": 51
    },
    "colab_type": "code",
    "executionInfo": {
     "elapsed": 2588,
     "status": "ok",
     "timestamp": 1592401295297,
     "user": {
      "displayName": "Andrew MacDonald",
      "photoUrl": "https://lh3.googleusercontent.com/a-/AOh14GiL2bfpgT6d24Ro2V3SFX0lN7sDgarNqyJ43259PhE=s64",
      "userId": "13136109802752871845"
     },
     "user_tz": 240
    },
    "id": "vYLtDg3yeLed",
    "outputId": "a189cdcc-9333-4a1d-adb6-058d5d1496f8"
   },
   "outputs": [
    {
     "data": {
      "text/plain": [
       "array(['$5,000', '$8,500', '$8,990', ..., '$385', '$22,200', '$16,995'],\n",
       "      dtype=object)"
      ]
     },
     "execution_count": 24,
     "metadata": {},
     "output_type": "execute_result"
    }
   ],
   "source": [
    "autos.price.unique()"
   ]
  },
  {
   "cell_type": "code",
   "execution_count": 25,
   "metadata": {
    "colab": {},
    "colab_type": "code",
    "executionInfo": {
     "elapsed": 2577,
     "status": "ok",
     "timestamp": 1592401295298,
     "user": {
      "displayName": "Andrew MacDonald",
      "photoUrl": "https://lh3.googleusercontent.com/a-/AOh14GiL2bfpgT6d24Ro2V3SFX0lN7sDgarNqyJ43259PhE=s64",
      "userId": "13136109802752871845"
     },
     "user_tz": 240
    },
    "id": "t-7tdkl0eLef"
   },
   "outputs": [],
   "source": [
    "autos[autos.columns[2]] = autos[autos.columns[2]].replace('[\\$,]', '', regex=True).astype(float)"
   ]
  },
  {
   "cell_type": "markdown",
   "metadata": {
    "colab_type": "text",
    "id": "kFYdzTvieLeh"
   },
   "source": [
    "#### Odometer"
   ]
  },
  {
   "cell_type": "code",
   "execution_count": 26,
   "metadata": {
    "colab": {
     "base_uri": "https://localhost:8080/",
     "height": 68
    },
    "colab_type": "code",
    "executionInfo": {
     "elapsed": 2574,
     "status": "ok",
     "timestamp": 1592401295300,
     "user": {
      "displayName": "Andrew MacDonald",
      "photoUrl": "https://lh3.googleusercontent.com/a-/AOh14GiL2bfpgT6d24Ro2V3SFX0lN7sDgarNqyJ43259PhE=s64",
      "userId": "13136109802752871845"
     },
     "user_tz": 240
    },
    "id": "fr7mcSyzeLeh",
    "outputId": "b5406b9c-472a-4e41-b8cb-34560bd3f03e"
   },
   "outputs": [
    {
     "data": {
      "text/plain": [
       "array(['150,000km', '70,000km', '50,000km', '80,000km', '10,000km',\n",
       "       '30,000km', '125,000km', '90,000km', '20,000km', '60,000km',\n",
       "       '5,000km', '100,000km', '40,000km'], dtype=object)"
      ]
     },
     "execution_count": 26,
     "metadata": {},
     "output_type": "execute_result"
    }
   ],
   "source": [
    "autos.odometer.unique()"
   ]
  },
  {
   "cell_type": "code",
   "execution_count": 27,
   "metadata": {
    "colab": {},
    "colab_type": "code",
    "executionInfo": {
     "elapsed": 2851,
     "status": "ok",
     "timestamp": 1592401295626,
     "user": {
      "displayName": "Andrew MacDonald",
      "photoUrl": "https://lh3.googleusercontent.com/a-/AOh14GiL2bfpgT6d24Ro2V3SFX0lN7sDgarNqyJ43259PhE=s64",
      "userId": "13136109802752871845"
     },
     "user_tz": 240
    },
    "id": "DIEOaKeXeLej"
   },
   "outputs": [],
   "source": [
    "autos[autos.columns[9]] = autos[autos.columns[9]].replace('[\\,km]', '', regex=True).astype(float)"
   ]
  },
  {
   "cell_type": "code",
   "execution_count": 28,
   "metadata": {
    "colab": {},
    "colab_type": "code",
    "executionInfo": {
     "elapsed": 2838,
     "status": "ok",
     "timestamp": 1592401295627,
     "user": {
      "displayName": "Andrew MacDonald",
      "photoUrl": "https://lh3.googleusercontent.com/a-/AOh14GiL2bfpgT6d24Ro2V3SFX0lN7sDgarNqyJ43259PhE=s64",
      "userId": "13136109802752871845"
     },
     "user_tz": 240
    },
    "id": "zPMDrrNCeLek"
   },
   "outputs": [],
   "source": [
    "autos.rename(columns = {'odometer':'odometer_km'}, inplace=True)"
   ]
  },
  {
   "cell_type": "code",
   "execution_count": 29,
   "metadata": {
    "colab": {
     "base_uri": "https://localhost:8080/",
     "height": 442
    },
    "colab_type": "code",
    "executionInfo": {
     "elapsed": 2819,
     "status": "ok",
     "timestamp": 1592401295628,
     "user": {
      "displayName": "Andrew MacDonald",
      "photoUrl": "https://lh3.googleusercontent.com/a-/AOh14GiL2bfpgT6d24Ro2V3SFX0lN7sDgarNqyJ43259PhE=s64",
      "userId": "13136109802752871845"
     },
     "user_tz": 240
    },
    "id": "5MKFhu_DeLem",
    "outputId": "0368dc04-f46f-4fec-bc9d-e1aaa7f7a8f8"
   },
   "outputs": [
    {
     "name": "stdout",
     "output_type": "stream",
     "text": [
      "<class 'pandas.core.frame.DataFrame'>\n",
      "RangeIndex: 50000 entries, 0 to 49999\n",
      "Data columns (total 18 columns):\n",
      " #   Column              Non-Null Count  Dtype  \n",
      "---  ------              --------------  -----  \n",
      " 0   date_crawled        50000 non-null  object \n",
      " 1   name                50000 non-null  object \n",
      " 2   price               50000 non-null  float64\n",
      " 3   abtest              50000 non-null  object \n",
      " 4   vehicle_type        44905 non-null  object \n",
      " 5   registration_year   50000 non-null  int64  \n",
      " 6   gearbox             47320 non-null  object \n",
      " 7   power_ps            50000 non-null  int64  \n",
      " 8   model               47242 non-null  object \n",
      " 9   odometer_km         50000 non-null  float64\n",
      " 10  registration_month  50000 non-null  int64  \n",
      " 11  fuel_type           45518 non-null  object \n",
      " 12  brand               50000 non-null  object \n",
      " 13  unrepaired_damage   40171 non-null  object \n",
      " 14  ad_created          50000 non-null  object \n",
      " 15  nr_of_pictures      50000 non-null  int64  \n",
      " 16  postal_code         50000 non-null  int64  \n",
      " 17  last_seen           50000 non-null  object \n",
      "dtypes: float64(2), int64(5), object(11)\n",
      "memory usage: 6.9+ MB\n"
     ]
    }
   ],
   "source": [
    "autos.info()"
   ]
  },
  {
   "cell_type": "code",
   "execution_count": 30,
   "metadata": {
    "colab": {
     "base_uri": "https://localhost:8080/",
     "height": 444
    },
    "colab_type": "code",
    "executionInfo": {
     "elapsed": 3091,
     "status": "ok",
     "timestamp": 1592401295907,
     "user": {
      "displayName": "Andrew MacDonald",
      "photoUrl": "https://lh3.googleusercontent.com/a-/AOh14GiL2bfpgT6d24Ro2V3SFX0lN7sDgarNqyJ43259PhE=s64",
      "userId": "13136109802752871845"
     },
     "user_tz": 240
    },
    "id": "IXNoep4weLep",
    "outputId": "22c35a6f-6cfe-41a0-ea2b-6605d6c10289"
   },
   "outputs": [
    {
     "data": {
      "text/html": [
       "<div>\n",
       "<style scoped>\n",
       "    .dataframe tbody tr th:only-of-type {\n",
       "        vertical-align: middle;\n",
       "    }\n",
       "\n",
       "    .dataframe tbody tr th {\n",
       "        vertical-align: top;\n",
       "    }\n",
       "\n",
       "    .dataframe thead th {\n",
       "        text-align: right;\n",
       "    }\n",
       "</style>\n",
       "<table border=\"1\" class=\"dataframe\">\n",
       "  <thead>\n",
       "    <tr style=\"text-align: right;\">\n",
       "      <th></th>\n",
       "      <th>date_crawled</th>\n",
       "      <th>name</th>\n",
       "      <th>price</th>\n",
       "      <th>abtest</th>\n",
       "      <th>vehicle_type</th>\n",
       "      <th>registration_year</th>\n",
       "      <th>gearbox</th>\n",
       "      <th>power_ps</th>\n",
       "      <th>model</th>\n",
       "      <th>odometer_km</th>\n",
       "      <th>registration_month</th>\n",
       "      <th>fuel_type</th>\n",
       "      <th>brand</th>\n",
       "      <th>unrepaired_damage</th>\n",
       "      <th>ad_created</th>\n",
       "      <th>nr_of_pictures</th>\n",
       "      <th>postal_code</th>\n",
       "      <th>last_seen</th>\n",
       "    </tr>\n",
       "  </thead>\n",
       "  <tbody>\n",
       "    <tr>\n",
       "      <th>count</th>\n",
       "      <td>50000</td>\n",
       "      <td>50000</td>\n",
       "      <td>5.000000e+04</td>\n",
       "      <td>50000</td>\n",
       "      <td>44905</td>\n",
       "      <td>50000.000000</td>\n",
       "      <td>47320</td>\n",
       "      <td>50000.000000</td>\n",
       "      <td>47242</td>\n",
       "      <td>50000.000000</td>\n",
       "      <td>50000.000000</td>\n",
       "      <td>45518</td>\n",
       "      <td>50000</td>\n",
       "      <td>40171</td>\n",
       "      <td>50000</td>\n",
       "      <td>50000.0</td>\n",
       "      <td>50000.000000</td>\n",
       "      <td>50000</td>\n",
       "    </tr>\n",
       "    <tr>\n",
       "      <th>unique</th>\n",
       "      <td>48213</td>\n",
       "      <td>38754</td>\n",
       "      <td>NaN</td>\n",
       "      <td>2</td>\n",
       "      <td>8</td>\n",
       "      <td>NaN</td>\n",
       "      <td>2</td>\n",
       "      <td>NaN</td>\n",
       "      <td>245</td>\n",
       "      <td>NaN</td>\n",
       "      <td>NaN</td>\n",
       "      <td>7</td>\n",
       "      <td>40</td>\n",
       "      <td>2</td>\n",
       "      <td>76</td>\n",
       "      <td>NaN</td>\n",
       "      <td>NaN</td>\n",
       "      <td>39481</td>\n",
       "    </tr>\n",
       "    <tr>\n",
       "      <th>top</th>\n",
       "      <td>2016-03-10 15:36:24</td>\n",
       "      <td>Ford_Fiesta</td>\n",
       "      <td>NaN</td>\n",
       "      <td>test</td>\n",
       "      <td>limousine</td>\n",
       "      <td>NaN</td>\n",
       "      <td>manuell</td>\n",
       "      <td>NaN</td>\n",
       "      <td>golf</td>\n",
       "      <td>NaN</td>\n",
       "      <td>NaN</td>\n",
       "      <td>benzin</td>\n",
       "      <td>volkswagen</td>\n",
       "      <td>nein</td>\n",
       "      <td>2016-04-03 00:00:00</td>\n",
       "      <td>NaN</td>\n",
       "      <td>NaN</td>\n",
       "      <td>2016-04-07 06:17:27</td>\n",
       "    </tr>\n",
       "    <tr>\n",
       "      <th>freq</th>\n",
       "      <td>3</td>\n",
       "      <td>78</td>\n",
       "      <td>NaN</td>\n",
       "      <td>25756</td>\n",
       "      <td>12859</td>\n",
       "      <td>NaN</td>\n",
       "      <td>36993</td>\n",
       "      <td>NaN</td>\n",
       "      <td>4024</td>\n",
       "      <td>NaN</td>\n",
       "      <td>NaN</td>\n",
       "      <td>30107</td>\n",
       "      <td>10687</td>\n",
       "      <td>35232</td>\n",
       "      <td>1946</td>\n",
       "      <td>NaN</td>\n",
       "      <td>NaN</td>\n",
       "      <td>8</td>\n",
       "    </tr>\n",
       "    <tr>\n",
       "      <th>mean</th>\n",
       "      <td>NaN</td>\n",
       "      <td>NaN</td>\n",
       "      <td>9.840044e+03</td>\n",
       "      <td>NaN</td>\n",
       "      <td>NaN</td>\n",
       "      <td>2005.073280</td>\n",
       "      <td>NaN</td>\n",
       "      <td>116.355920</td>\n",
       "      <td>NaN</td>\n",
       "      <td>125732.700000</td>\n",
       "      <td>5.723360</td>\n",
       "      <td>NaN</td>\n",
       "      <td>NaN</td>\n",
       "      <td>NaN</td>\n",
       "      <td>NaN</td>\n",
       "      <td>0.0</td>\n",
       "      <td>50813.627300</td>\n",
       "      <td>NaN</td>\n",
       "    </tr>\n",
       "    <tr>\n",
       "      <th>std</th>\n",
       "      <td>NaN</td>\n",
       "      <td>NaN</td>\n",
       "      <td>4.811044e+05</td>\n",
       "      <td>NaN</td>\n",
       "      <td>NaN</td>\n",
       "      <td>105.712813</td>\n",
       "      <td>NaN</td>\n",
       "      <td>209.216627</td>\n",
       "      <td>NaN</td>\n",
       "      <td>40042.211706</td>\n",
       "      <td>3.711984</td>\n",
       "      <td>NaN</td>\n",
       "      <td>NaN</td>\n",
       "      <td>NaN</td>\n",
       "      <td>NaN</td>\n",
       "      <td>0.0</td>\n",
       "      <td>25779.747957</td>\n",
       "      <td>NaN</td>\n",
       "    </tr>\n",
       "    <tr>\n",
       "      <th>min</th>\n",
       "      <td>NaN</td>\n",
       "      <td>NaN</td>\n",
       "      <td>0.000000e+00</td>\n",
       "      <td>NaN</td>\n",
       "      <td>NaN</td>\n",
       "      <td>1000.000000</td>\n",
       "      <td>NaN</td>\n",
       "      <td>0.000000</td>\n",
       "      <td>NaN</td>\n",
       "      <td>5000.000000</td>\n",
       "      <td>0.000000</td>\n",
       "      <td>NaN</td>\n",
       "      <td>NaN</td>\n",
       "      <td>NaN</td>\n",
       "      <td>NaN</td>\n",
       "      <td>0.0</td>\n",
       "      <td>1067.000000</td>\n",
       "      <td>NaN</td>\n",
       "    </tr>\n",
       "    <tr>\n",
       "      <th>25%</th>\n",
       "      <td>NaN</td>\n",
       "      <td>NaN</td>\n",
       "      <td>1.100000e+03</td>\n",
       "      <td>NaN</td>\n",
       "      <td>NaN</td>\n",
       "      <td>1999.000000</td>\n",
       "      <td>NaN</td>\n",
       "      <td>70.000000</td>\n",
       "      <td>NaN</td>\n",
       "      <td>125000.000000</td>\n",
       "      <td>3.000000</td>\n",
       "      <td>NaN</td>\n",
       "      <td>NaN</td>\n",
       "      <td>NaN</td>\n",
       "      <td>NaN</td>\n",
       "      <td>0.0</td>\n",
       "      <td>30451.000000</td>\n",
       "      <td>NaN</td>\n",
       "    </tr>\n",
       "    <tr>\n",
       "      <th>50%</th>\n",
       "      <td>NaN</td>\n",
       "      <td>NaN</td>\n",
       "      <td>2.950000e+03</td>\n",
       "      <td>NaN</td>\n",
       "      <td>NaN</td>\n",
       "      <td>2003.000000</td>\n",
       "      <td>NaN</td>\n",
       "      <td>105.000000</td>\n",
       "      <td>NaN</td>\n",
       "      <td>150000.000000</td>\n",
       "      <td>6.000000</td>\n",
       "      <td>NaN</td>\n",
       "      <td>NaN</td>\n",
       "      <td>NaN</td>\n",
       "      <td>NaN</td>\n",
       "      <td>0.0</td>\n",
       "      <td>49577.000000</td>\n",
       "      <td>NaN</td>\n",
       "    </tr>\n",
       "    <tr>\n",
       "      <th>75%</th>\n",
       "      <td>NaN</td>\n",
       "      <td>NaN</td>\n",
       "      <td>7.200000e+03</td>\n",
       "      <td>NaN</td>\n",
       "      <td>NaN</td>\n",
       "      <td>2008.000000</td>\n",
       "      <td>NaN</td>\n",
       "      <td>150.000000</td>\n",
       "      <td>NaN</td>\n",
       "      <td>150000.000000</td>\n",
       "      <td>9.000000</td>\n",
       "      <td>NaN</td>\n",
       "      <td>NaN</td>\n",
       "      <td>NaN</td>\n",
       "      <td>NaN</td>\n",
       "      <td>0.0</td>\n",
       "      <td>71540.000000</td>\n",
       "      <td>NaN</td>\n",
       "    </tr>\n",
       "    <tr>\n",
       "      <th>max</th>\n",
       "      <td>NaN</td>\n",
       "      <td>NaN</td>\n",
       "      <td>1.000000e+08</td>\n",
       "      <td>NaN</td>\n",
       "      <td>NaN</td>\n",
       "      <td>9999.000000</td>\n",
       "      <td>NaN</td>\n",
       "      <td>17700.000000</td>\n",
       "      <td>NaN</td>\n",
       "      <td>150000.000000</td>\n",
       "      <td>12.000000</td>\n",
       "      <td>NaN</td>\n",
       "      <td>NaN</td>\n",
       "      <td>NaN</td>\n",
       "      <td>NaN</td>\n",
       "      <td>0.0</td>\n",
       "      <td>99998.000000</td>\n",
       "      <td>NaN</td>\n",
       "    </tr>\n",
       "  </tbody>\n",
       "</table>\n",
       "</div>"
      ],
      "text/plain": [
       "               date_crawled         name         price abtest vehicle_type  \\\n",
       "count                 50000        50000  5.000000e+04  50000        44905   \n",
       "unique                48213        38754           NaN      2            8   \n",
       "top     2016-03-10 15:36:24  Ford_Fiesta           NaN   test    limousine   \n",
       "freq                      3           78           NaN  25756        12859   \n",
       "mean                    NaN          NaN  9.840044e+03    NaN          NaN   \n",
       "std                     NaN          NaN  4.811044e+05    NaN          NaN   \n",
       "min                     NaN          NaN  0.000000e+00    NaN          NaN   \n",
       "25%                     NaN          NaN  1.100000e+03    NaN          NaN   \n",
       "50%                     NaN          NaN  2.950000e+03    NaN          NaN   \n",
       "75%                     NaN          NaN  7.200000e+03    NaN          NaN   \n",
       "max                     NaN          NaN  1.000000e+08    NaN          NaN   \n",
       "\n",
       "        registration_year  gearbox      power_ps  model    odometer_km  \\\n",
       "count        50000.000000    47320  50000.000000  47242   50000.000000   \n",
       "unique                NaN        2           NaN    245            NaN   \n",
       "top                   NaN  manuell           NaN   golf            NaN   \n",
       "freq                  NaN    36993           NaN   4024            NaN   \n",
       "mean          2005.073280      NaN    116.355920    NaN  125732.700000   \n",
       "std            105.712813      NaN    209.216627    NaN   40042.211706   \n",
       "min           1000.000000      NaN      0.000000    NaN    5000.000000   \n",
       "25%           1999.000000      NaN     70.000000    NaN  125000.000000   \n",
       "50%           2003.000000      NaN    105.000000    NaN  150000.000000   \n",
       "75%           2008.000000      NaN    150.000000    NaN  150000.000000   \n",
       "max           9999.000000      NaN  17700.000000    NaN  150000.000000   \n",
       "\n",
       "        registration_month fuel_type       brand unrepaired_damage  \\\n",
       "count         50000.000000     45518       50000             40171   \n",
       "unique                 NaN         7          40                 2   \n",
       "top                    NaN    benzin  volkswagen              nein   \n",
       "freq                   NaN     30107       10687             35232   \n",
       "mean              5.723360       NaN         NaN               NaN   \n",
       "std               3.711984       NaN         NaN               NaN   \n",
       "min               0.000000       NaN         NaN               NaN   \n",
       "25%               3.000000       NaN         NaN               NaN   \n",
       "50%               6.000000       NaN         NaN               NaN   \n",
       "75%               9.000000       NaN         NaN               NaN   \n",
       "max              12.000000       NaN         NaN               NaN   \n",
       "\n",
       "                 ad_created  nr_of_pictures   postal_code            last_seen  \n",
       "count                 50000         50000.0  50000.000000                50000  \n",
       "unique                   76             NaN           NaN                39481  \n",
       "top     2016-04-03 00:00:00             NaN           NaN  2016-04-07 06:17:27  \n",
       "freq                   1946             NaN           NaN                    8  \n",
       "mean                    NaN             0.0  50813.627300                  NaN  \n",
       "std                     NaN             0.0  25779.747957                  NaN  \n",
       "min                     NaN             0.0   1067.000000                  NaN  \n",
       "25%                     NaN             0.0  30451.000000                  NaN  \n",
       "50%                     NaN             0.0  49577.000000                  NaN  \n",
       "75%                     NaN             0.0  71540.000000                  NaN  \n",
       "max                     NaN             0.0  99998.000000                  NaN  "
      ]
     },
     "execution_count": 30,
     "metadata": {},
     "output_type": "execute_result"
    }
   ],
   "source": [
    "autos.describe(include='all')"
   ]
  },
  {
   "cell_type": "markdown",
   "metadata": {
    "colab_type": "text",
    "id": "oj0WRliweLer"
   },
   "source": [
    "### Outlier Identification"
   ]
  },
  {
   "cell_type": "markdown",
   "metadata": {
    "colab_type": "text",
    "id": "Wz8ZwBgReLer"
   },
   "source": [
    "Below, we evaluate two columns, Odometer and Price, to determine whether they contain outliers that need to be removed prior to analysis. Ultimately, the Price column includes a \\\\$99M car, as well as many \\\\0 cars. After evaluating these records, we drop the \\\\$99M car and any record with a price under $100."
   ]
  },
  {
   "cell_type": "markdown",
   "metadata": {
    "colab_type": "text",
    "id": "uPdVPOXFeLer"
   },
   "source": [
    "#### Odometer KM"
   ]
  },
  {
   "cell_type": "code",
   "execution_count": 31,
   "metadata": {
    "colab": {
     "base_uri": "https://localhost:8080/",
     "height": 34
    },
    "colab_type": "code",
    "executionInfo": {
     "elapsed": 3085,
     "status": "ok",
     "timestamp": 1592401295908,
     "user": {
      "displayName": "Andrew MacDonald",
      "photoUrl": "https://lh3.googleusercontent.com/a-/AOh14GiL2bfpgT6d24Ro2V3SFX0lN7sDgarNqyJ43259PhE=s64",
      "userId": "13136109802752871845"
     },
     "user_tz": 240
    },
    "id": "bSn4Jn_DeLes",
    "outputId": "3280c93a-7898-41d8-c8d6-b79ec154f7a5"
   },
   "outputs": [
    {
     "data": {
      "text/plain": [
       "(13,)"
      ]
     },
     "execution_count": 31,
     "metadata": {},
     "output_type": "execute_result"
    }
   ],
   "source": [
    "# Identify number of unique odometer values\n",
    "autos.odometer_km.unique().shape"
   ]
  },
  {
   "cell_type": "code",
   "execution_count": 32,
   "metadata": {
    "colab": {
     "base_uri": "https://localhost:8080/",
     "height": 170
    },
    "colab_type": "code",
    "executionInfo": {
     "elapsed": 3081,
     "status": "ok",
     "timestamp": 1592401295909,
     "user": {
      "displayName": "Andrew MacDonald",
      "photoUrl": "https://lh3.googleusercontent.com/a-/AOh14GiL2bfpgT6d24Ro2V3SFX0lN7sDgarNqyJ43259PhE=s64",
      "userId": "13136109802752871845"
     },
     "user_tz": 240
    },
    "id": "t4GvdcFweLet",
    "outputId": "b6f1edba-01f9-4984-9f28-0437422d47a5"
   },
   "outputs": [
    {
     "data": {
      "text/plain": [
       "count     50000.000000\n",
       "mean     125732.700000\n",
       "std       40042.211706\n",
       "min        5000.000000\n",
       "25%      125000.000000\n",
       "50%      150000.000000\n",
       "75%      150000.000000\n",
       "max      150000.000000\n",
       "Name: odometer_km, dtype: float64"
      ]
     },
     "execution_count": 32,
     "metadata": {},
     "output_type": "execute_result"
    }
   ],
   "source": [
    "# Describe odometer to identify glaring outliers shown in the min / max\n",
    "autos.odometer_km.describe()"
   ]
  },
  {
   "cell_type": "code",
   "execution_count": 33,
   "metadata": {
    "colab": {
     "base_uri": "https://localhost:8080/",
     "height": 255
    },
    "colab_type": "code",
    "executionInfo": {
     "elapsed": 3070,
     "status": "ok",
     "timestamp": 1592401295910,
     "user": {
      "displayName": "Andrew MacDonald",
      "photoUrl": "https://lh3.googleusercontent.com/a-/AOh14GiL2bfpgT6d24Ro2V3SFX0lN7sDgarNqyJ43259PhE=s64",
      "userId": "13136109802752871845"
     },
     "user_tz": 240
    },
    "id": "_1AnS4KkeLex",
    "outputId": "69f73bd8-fde5-49f9-b7eb-c2acbd677f33"
   },
   "outputs": [
    {
     "data": {
      "text/plain": [
       "150000.0    32424\n",
       "125000.0     5170\n",
       "100000.0     2169\n",
       "90000.0      1757\n",
       "80000.0      1436\n",
       "70000.0      1230\n",
       "60000.0      1164\n",
       "50000.0      1027\n",
       "5000.0        967\n",
       "40000.0       819\n",
       "30000.0       789\n",
       "20000.0       784\n",
       "10000.0       264\n",
       "Name: odometer_km, dtype: int64"
      ]
     },
     "execution_count": 33,
     "metadata": {},
     "output_type": "execute_result"
    }
   ],
   "source": [
    "# determine number of records for each of the 13 odometer values\n",
    "autos.odometer_km.value_counts()"
   ]
  },
  {
   "cell_type": "markdown",
   "metadata": {
    "colab_type": "text",
    "id": "3bcxrYMYeLez"
   },
   "source": [
    "#### Price"
   ]
  },
  {
   "cell_type": "code",
   "execution_count": 34,
   "metadata": {
    "colab": {
     "base_uri": "https://localhost:8080/",
     "height": 34
    },
    "colab_type": "code",
    "executionInfo": {
     "elapsed": 3064,
     "status": "ok",
     "timestamp": 1592401295910,
     "user": {
      "displayName": "Andrew MacDonald",
      "photoUrl": "https://lh3.googleusercontent.com/a-/AOh14GiL2bfpgT6d24Ro2V3SFX0lN7sDgarNqyJ43259PhE=s64",
      "userId": "13136109802752871845"
     },
     "user_tz": 240
    },
    "id": "ybUkdJwYeLez",
    "outputId": "5eea584d-2101-4967-d040-24c361fdbec1"
   },
   "outputs": [
    {
     "data": {
      "text/plain": [
       "(2357,)"
      ]
     },
     "execution_count": 34,
     "metadata": {},
     "output_type": "execute_result"
    }
   ],
   "source": [
    "# Identify number of unique price values\n",
    "autos.price.unique().shape"
   ]
  },
  {
   "cell_type": "code",
   "execution_count": 35,
   "metadata": {
    "colab": {
     "base_uri": "https://localhost:8080/",
     "height": 170
    },
    "colab_type": "code",
    "executionInfo": {
     "elapsed": 3060,
     "status": "ok",
     "timestamp": 1592401295911,
     "user": {
      "displayName": "Andrew MacDonald",
      "photoUrl": "https://lh3.googleusercontent.com/a-/AOh14GiL2bfpgT6d24Ro2V3SFX0lN7sDgarNqyJ43259PhE=s64",
      "userId": "13136109802752871845"
     },
     "user_tz": 240
    },
    "id": "E8Bg5T8MeLe2",
    "outputId": "f9c3cb2d-b299-4d85-a0f2-ae12574cb15d"
   },
   "outputs": [
    {
     "data": {
      "text/plain": [
       "count    5.000000e+04\n",
       "mean     9.840044e+03\n",
       "std      4.811044e+05\n",
       "min      0.000000e+00\n",
       "25%      1.100000e+03\n",
       "50%      2.950000e+03\n",
       "75%      7.200000e+03\n",
       "max      1.000000e+08\n",
       "Name: price, dtype: float64"
      ]
     },
     "execution_count": 35,
     "metadata": {},
     "output_type": "execute_result"
    }
   ],
   "source": [
    "# Describe price to identify glaring outliers shown in the min / max\n",
    "autos.price.describe()"
   ]
  },
  {
   "cell_type": "code",
   "execution_count": 36,
   "metadata": {
    "colab": {
     "base_uri": "https://localhost:8080/",
     "height": 221
    },
    "colab_type": "code",
    "executionInfo": {
     "elapsed": 3056,
     "status": "ok",
     "timestamp": 1592401295912,
     "user": {
      "displayName": "Andrew MacDonald",
      "photoUrl": "https://lh3.googleusercontent.com/a-/AOh14GiL2bfpgT6d24Ro2V3SFX0lN7sDgarNqyJ43259PhE=s64",
      "userId": "13136109802752871845"
     },
     "user_tz": 240
    },
    "id": "zoFSU-eTeLe4",
    "outputId": "1b7dc3a7-925a-4731-f889-4d20d2b0cfc9"
   },
   "outputs": [
    {
     "data": {
      "text/plain": [
       "99999999.0       1\n",
       "27322222.0       1\n",
       "12345678.0       3\n",
       "11111111.0       2\n",
       "10000000.0       1\n",
       "              ... \n",
       "5.0              2\n",
       "3.0              1\n",
       "2.0              3\n",
       "1.0            156\n",
       "0.0           1421\n",
       "Name: price, Length: 2357, dtype: int64"
      ]
     },
     "execution_count": 36,
     "metadata": {},
     "output_type": "execute_result"
    }
   ],
   "source": [
    "# determine number of records for each of the values\n",
    "autos.price.value_counts().sort_index(ascending=False)"
   ]
  },
  {
   "cell_type": "code",
   "execution_count": 37,
   "metadata": {
    "colab": {
     "base_uri": "https://localhost:8080/",
     "height": 589
    },
    "colab_type": "code",
    "executionInfo": {
     "elapsed": 3050,
     "status": "ok",
     "timestamp": 1592401295912,
     "user": {
      "displayName": "Andrew MacDonald",
      "photoUrl": "https://lh3.googleusercontent.com/a-/AOh14GiL2bfpgT6d24Ro2V3SFX0lN7sDgarNqyJ43259PhE=s64",
      "userId": "13136109802752871845"
     },
     "user_tz": 240
    },
    "id": "NQls_As4eLe6",
    "outputId": "abd8551b-748b-408d-c35a-dea0eb86c381"
   },
   "outputs": [
    {
     "data": {
      "text/html": [
       "<div>\n",
       "<style scoped>\n",
       "    .dataframe tbody tr th:only-of-type {\n",
       "        vertical-align: middle;\n",
       "    }\n",
       "\n",
       "    .dataframe tbody tr th {\n",
       "        vertical-align: top;\n",
       "    }\n",
       "\n",
       "    .dataframe thead th {\n",
       "        text-align: right;\n",
       "    }\n",
       "</style>\n",
       "<table border=\"1\" class=\"dataframe\">\n",
       "  <thead>\n",
       "    <tr style=\"text-align: right;\">\n",
       "      <th></th>\n",
       "      <th>date_crawled</th>\n",
       "      <th>name</th>\n",
       "      <th>price</th>\n",
       "      <th>abtest</th>\n",
       "      <th>vehicle_type</th>\n",
       "      <th>registration_year</th>\n",
       "      <th>gearbox</th>\n",
       "      <th>power_ps</th>\n",
       "      <th>model</th>\n",
       "      <th>odometer_km</th>\n",
       "      <th>registration_month</th>\n",
       "      <th>fuel_type</th>\n",
       "      <th>brand</th>\n",
       "      <th>unrepaired_damage</th>\n",
       "      <th>ad_created</th>\n",
       "      <th>nr_of_pictures</th>\n",
       "      <th>postal_code</th>\n",
       "      <th>last_seen</th>\n",
       "    </tr>\n",
       "  </thead>\n",
       "  <tbody>\n",
       "    <tr>\n",
       "      <th>2897</th>\n",
       "      <td>2016-03-12 21:50:57</td>\n",
       "      <td>Escort_MK_1_Hundeknochen_zum_umbauen_auf_RS_2000</td>\n",
       "      <td>11111111.0</td>\n",
       "      <td>test</td>\n",
       "      <td>limousine</td>\n",
       "      <td>1973</td>\n",
       "      <td>manuell</td>\n",
       "      <td>48</td>\n",
       "      <td>escort</td>\n",
       "      <td>50000.0</td>\n",
       "      <td>3</td>\n",
       "      <td>benzin</td>\n",
       "      <td>ford</td>\n",
       "      <td>nein</td>\n",
       "      <td>2016-03-12 00:00:00</td>\n",
       "      <td>0</td>\n",
       "      <td>94469</td>\n",
       "      <td>2016-03-12 22:45:27</td>\n",
       "    </tr>\n",
       "    <tr>\n",
       "      <th>11137</th>\n",
       "      <td>2016-03-29 23:52:57</td>\n",
       "      <td>suche_maserati_3200_gt_Zustand_unwichtig_laufe...</td>\n",
       "      <td>10000000.0</td>\n",
       "      <td>control</td>\n",
       "      <td>coupe</td>\n",
       "      <td>1960</td>\n",
       "      <td>manuell</td>\n",
       "      <td>368</td>\n",
       "      <td>NaN</td>\n",
       "      <td>100000.0</td>\n",
       "      <td>1</td>\n",
       "      <td>benzin</td>\n",
       "      <td>sonstige_autos</td>\n",
       "      <td>nein</td>\n",
       "      <td>2016-03-29 00:00:00</td>\n",
       "      <td>0</td>\n",
       "      <td>73033</td>\n",
       "      <td>2016-04-06 21:18:11</td>\n",
       "    </tr>\n",
       "    <tr>\n",
       "      <th>24384</th>\n",
       "      <td>2016-03-21 13:57:51</td>\n",
       "      <td>Schlachte_Golf_3_gt_tdi</td>\n",
       "      <td>11111111.0</td>\n",
       "      <td>test</td>\n",
       "      <td>NaN</td>\n",
       "      <td>1995</td>\n",
       "      <td>NaN</td>\n",
       "      <td>0</td>\n",
       "      <td>NaN</td>\n",
       "      <td>150000.0</td>\n",
       "      <td>0</td>\n",
       "      <td>NaN</td>\n",
       "      <td>volkswagen</td>\n",
       "      <td>NaN</td>\n",
       "      <td>2016-03-21 00:00:00</td>\n",
       "      <td>0</td>\n",
       "      <td>18519</td>\n",
       "      <td>2016-03-21 14:40:18</td>\n",
       "    </tr>\n",
       "    <tr>\n",
       "      <th>27371</th>\n",
       "      <td>2016-03-09 15:45:47</td>\n",
       "      <td>Fiat_Punto</td>\n",
       "      <td>12345678.0</td>\n",
       "      <td>control</td>\n",
       "      <td>NaN</td>\n",
       "      <td>2017</td>\n",
       "      <td>NaN</td>\n",
       "      <td>95</td>\n",
       "      <td>punto</td>\n",
       "      <td>150000.0</td>\n",
       "      <td>0</td>\n",
       "      <td>NaN</td>\n",
       "      <td>fiat</td>\n",
       "      <td>NaN</td>\n",
       "      <td>2016-03-09 00:00:00</td>\n",
       "      <td>0</td>\n",
       "      <td>96110</td>\n",
       "      <td>2016-03-09 15:45:47</td>\n",
       "    </tr>\n",
       "    <tr>\n",
       "      <th>39377</th>\n",
       "      <td>2016-03-08 23:53:51</td>\n",
       "      <td>Tausche_volvo_v40_gegen_van</td>\n",
       "      <td>12345678.0</td>\n",
       "      <td>control</td>\n",
       "      <td>NaN</td>\n",
       "      <td>2018</td>\n",
       "      <td>manuell</td>\n",
       "      <td>95</td>\n",
       "      <td>v40</td>\n",
       "      <td>150000.0</td>\n",
       "      <td>6</td>\n",
       "      <td>NaN</td>\n",
       "      <td>volvo</td>\n",
       "      <td>nein</td>\n",
       "      <td>2016-03-08 00:00:00</td>\n",
       "      <td>0</td>\n",
       "      <td>14542</td>\n",
       "      <td>2016-04-06 23:17:31</td>\n",
       "    </tr>\n",
       "    <tr>\n",
       "      <th>39705</th>\n",
       "      <td>2016-03-22 14:58:27</td>\n",
       "      <td>Tausch_gegen_gleichwertiges</td>\n",
       "      <td>99999999.0</td>\n",
       "      <td>control</td>\n",
       "      <td>limousine</td>\n",
       "      <td>1999</td>\n",
       "      <td>automatik</td>\n",
       "      <td>224</td>\n",
       "      <td>s_klasse</td>\n",
       "      <td>150000.0</td>\n",
       "      <td>9</td>\n",
       "      <td>benzin</td>\n",
       "      <td>mercedes_benz</td>\n",
       "      <td>NaN</td>\n",
       "      <td>2016-03-22 00:00:00</td>\n",
       "      <td>0</td>\n",
       "      <td>73525</td>\n",
       "      <td>2016-04-06 05:15:30</td>\n",
       "    </tr>\n",
       "    <tr>\n",
       "      <th>42221</th>\n",
       "      <td>2016-03-08 20:39:05</td>\n",
       "      <td>Leasinguebernahme</td>\n",
       "      <td>27322222.0</td>\n",
       "      <td>control</td>\n",
       "      <td>limousine</td>\n",
       "      <td>2014</td>\n",
       "      <td>manuell</td>\n",
       "      <td>163</td>\n",
       "      <td>c4</td>\n",
       "      <td>40000.0</td>\n",
       "      <td>2</td>\n",
       "      <td>diesel</td>\n",
       "      <td>citroen</td>\n",
       "      <td>NaN</td>\n",
       "      <td>2016-03-08 00:00:00</td>\n",
       "      <td>0</td>\n",
       "      <td>76532</td>\n",
       "      <td>2016-03-08 20:39:05</td>\n",
       "    </tr>\n",
       "    <tr>\n",
       "      <th>47598</th>\n",
       "      <td>2016-03-31 18:56:54</td>\n",
       "      <td>Opel_Vectra_B_1_6i_16V_Facelift_Tuning_Showcar...</td>\n",
       "      <td>12345678.0</td>\n",
       "      <td>control</td>\n",
       "      <td>limousine</td>\n",
       "      <td>2001</td>\n",
       "      <td>manuell</td>\n",
       "      <td>101</td>\n",
       "      <td>vectra</td>\n",
       "      <td>150000.0</td>\n",
       "      <td>3</td>\n",
       "      <td>benzin</td>\n",
       "      <td>opel</td>\n",
       "      <td>nein</td>\n",
       "      <td>2016-03-31 00:00:00</td>\n",
       "      <td>0</td>\n",
       "      <td>4356</td>\n",
       "      <td>2016-03-31 18:56:54</td>\n",
       "    </tr>\n",
       "  </tbody>\n",
       "</table>\n",
       "</div>"
      ],
      "text/plain": [
       "              date_crawled                                               name  \\\n",
       "2897   2016-03-12 21:50:57   Escort_MK_1_Hundeknochen_zum_umbauen_auf_RS_2000   \n",
       "11137  2016-03-29 23:52:57  suche_maserati_3200_gt_Zustand_unwichtig_laufe...   \n",
       "24384  2016-03-21 13:57:51                            Schlachte_Golf_3_gt_tdi   \n",
       "27371  2016-03-09 15:45:47                                         Fiat_Punto   \n",
       "39377  2016-03-08 23:53:51                        Tausche_volvo_v40_gegen_van   \n",
       "39705  2016-03-22 14:58:27                        Tausch_gegen_gleichwertiges   \n",
       "42221  2016-03-08 20:39:05                                  Leasinguebernahme   \n",
       "47598  2016-03-31 18:56:54  Opel_Vectra_B_1_6i_16V_Facelift_Tuning_Showcar...   \n",
       "\n",
       "            price   abtest vehicle_type  registration_year    gearbox  \\\n",
       "2897   11111111.0     test    limousine               1973    manuell   \n",
       "11137  10000000.0  control        coupe               1960    manuell   \n",
       "24384  11111111.0     test          NaN               1995        NaN   \n",
       "27371  12345678.0  control          NaN               2017        NaN   \n",
       "39377  12345678.0  control          NaN               2018    manuell   \n",
       "39705  99999999.0  control    limousine               1999  automatik   \n",
       "42221  27322222.0  control    limousine               2014    manuell   \n",
       "47598  12345678.0  control    limousine               2001    manuell   \n",
       "\n",
       "       power_ps     model  odometer_km  registration_month fuel_type  \\\n",
       "2897         48    escort      50000.0                   3    benzin   \n",
       "11137       368       NaN     100000.0                   1    benzin   \n",
       "24384         0       NaN     150000.0                   0       NaN   \n",
       "27371        95     punto     150000.0                   0       NaN   \n",
       "39377        95       v40     150000.0                   6       NaN   \n",
       "39705       224  s_klasse     150000.0                   9    benzin   \n",
       "42221       163        c4      40000.0                   2    diesel   \n",
       "47598       101    vectra     150000.0                   3    benzin   \n",
       "\n",
       "                brand unrepaired_damage           ad_created  nr_of_pictures  \\\n",
       "2897             ford              nein  2016-03-12 00:00:00               0   \n",
       "11137  sonstige_autos              nein  2016-03-29 00:00:00               0   \n",
       "24384      volkswagen               NaN  2016-03-21 00:00:00               0   \n",
       "27371            fiat               NaN  2016-03-09 00:00:00               0   \n",
       "39377           volvo              nein  2016-03-08 00:00:00               0   \n",
       "39705   mercedes_benz               NaN  2016-03-22 00:00:00               0   \n",
       "42221         citroen               NaN  2016-03-08 00:00:00               0   \n",
       "47598            opel              nein  2016-03-31 00:00:00               0   \n",
       "\n",
       "       postal_code            last_seen  \n",
       "2897         94469  2016-03-12 22:45:27  \n",
       "11137        73033  2016-04-06 21:18:11  \n",
       "24384        18519  2016-03-21 14:40:18  \n",
       "27371        96110  2016-03-09 15:45:47  \n",
       "39377        14542  2016-04-06 23:17:31  \n",
       "39705        73525  2016-04-06 05:15:30  \n",
       "42221        76532  2016-03-08 20:39:05  \n",
       "47598         4356  2016-03-31 18:56:54  "
      ]
     },
     "execution_count": 37,
     "metadata": {},
     "output_type": "execute_result"
    }
   ],
   "source": [
    "# review high-end cars to determine whether they are outliers\n",
    "autos[autos[\"price\"] > 9999998]"
   ]
  },
  {
   "cell_type": "code",
   "execution_count": 38,
   "metadata": {
    "colab": {
     "base_uri": "https://localhost:8080/",
     "height": 779
    },
    "colab_type": "code",
    "executionInfo": {
     "elapsed": 3291,
     "status": "ok",
     "timestamp": 1592401296160,
     "user": {
      "displayName": "Andrew MacDonald",
      "photoUrl": "https://lh3.googleusercontent.com/a-/AOh14GiL2bfpgT6d24Ro2V3SFX0lN7sDgarNqyJ43259PhE=s64",
      "userId": "13136109802752871845"
     },
     "user_tz": 240
    },
    "id": "MR1i9dMteLe8",
    "outputId": "239593a7-51d5-48db-c05d-ae5e253428fd"
   },
   "outputs": [
    {
     "data": {
      "text/html": [
       "<div>\n",
       "<style scoped>\n",
       "    .dataframe tbody tr th:only-of-type {\n",
       "        vertical-align: middle;\n",
       "    }\n",
       "\n",
       "    .dataframe tbody tr th {\n",
       "        vertical-align: top;\n",
       "    }\n",
       "\n",
       "    .dataframe thead th {\n",
       "        text-align: right;\n",
       "    }\n",
       "</style>\n",
       "<table border=\"1\" class=\"dataframe\">\n",
       "  <thead>\n",
       "    <tr style=\"text-align: right;\">\n",
       "      <th></th>\n",
       "      <th>date_crawled</th>\n",
       "      <th>name</th>\n",
       "      <th>price</th>\n",
       "      <th>abtest</th>\n",
       "      <th>vehicle_type</th>\n",
       "      <th>registration_year</th>\n",
       "      <th>gearbox</th>\n",
       "      <th>power_ps</th>\n",
       "      <th>model</th>\n",
       "      <th>odometer_km</th>\n",
       "      <th>registration_month</th>\n",
       "      <th>fuel_type</th>\n",
       "      <th>brand</th>\n",
       "      <th>unrepaired_damage</th>\n",
       "      <th>ad_created</th>\n",
       "      <th>nr_of_pictures</th>\n",
       "      <th>postal_code</th>\n",
       "      <th>last_seen</th>\n",
       "    </tr>\n",
       "  </thead>\n",
       "  <tbody>\n",
       "    <tr>\n",
       "      <th>25</th>\n",
       "      <td>2016-03-21 21:56:18</td>\n",
       "      <td>Ford_escort_kombi_an_bastler_mit_ghia_ausstattung</td>\n",
       "      <td>90.0</td>\n",
       "      <td>control</td>\n",
       "      <td>kombi</td>\n",
       "      <td>1996</td>\n",
       "      <td>manuell</td>\n",
       "      <td>116</td>\n",
       "      <td>NaN</td>\n",
       "      <td>150000.0</td>\n",
       "      <td>4</td>\n",
       "      <td>benzin</td>\n",
       "      <td>ford</td>\n",
       "      <td>ja</td>\n",
       "      <td>2016-03-21 00:00:00</td>\n",
       "      <td>0</td>\n",
       "      <td>27574</td>\n",
       "      <td>2016-04-01 05:16:49</td>\n",
       "    </tr>\n",
       "    <tr>\n",
       "      <th>30</th>\n",
       "      <td>2016-03-14 11:47:31</td>\n",
       "      <td>Peugeot_206_Unfallfahrzeug</td>\n",
       "      <td>80.0</td>\n",
       "      <td>test</td>\n",
       "      <td>kleinwagen</td>\n",
       "      <td>2002</td>\n",
       "      <td>manuell</td>\n",
       "      <td>60</td>\n",
       "      <td>2_reihe</td>\n",
       "      <td>150000.0</td>\n",
       "      <td>6</td>\n",
       "      <td>benzin</td>\n",
       "      <td>peugeot</td>\n",
       "      <td>ja</td>\n",
       "      <td>2016-03-14 00:00:00</td>\n",
       "      <td>0</td>\n",
       "      <td>57076</td>\n",
       "      <td>2016-03-14 11:47:31</td>\n",
       "    </tr>\n",
       "    <tr>\n",
       "      <th>64</th>\n",
       "      <td>2016-04-05 07:36:19</td>\n",
       "      <td>Autotransport__Abschlepp_Schlepper</td>\n",
       "      <td>40.0</td>\n",
       "      <td>test</td>\n",
       "      <td>NaN</td>\n",
       "      <td>2011</td>\n",
       "      <td>NaN</td>\n",
       "      <td>0</td>\n",
       "      <td>5er</td>\n",
       "      <td>150000.0</td>\n",
       "      <td>5</td>\n",
       "      <td>NaN</td>\n",
       "      <td>bmw</td>\n",
       "      <td>NaN</td>\n",
       "      <td>2016-04-05 00:00:00</td>\n",
       "      <td>0</td>\n",
       "      <td>40591</td>\n",
       "      <td>2016-04-07 12:16:01</td>\n",
       "    </tr>\n",
       "    <tr>\n",
       "      <th>245</th>\n",
       "      <td>2016-03-30 12:45:44</td>\n",
       "      <td>Renault_Twingo</td>\n",
       "      <td>50.0</td>\n",
       "      <td>control</td>\n",
       "      <td>kleinwagen</td>\n",
       "      <td>1997</td>\n",
       "      <td>manuell</td>\n",
       "      <td>60</td>\n",
       "      <td>twingo</td>\n",
       "      <td>30000.0</td>\n",
       "      <td>5</td>\n",
       "      <td>benzin</td>\n",
       "      <td>renault</td>\n",
       "      <td>NaN</td>\n",
       "      <td>2016-03-30 00:00:00</td>\n",
       "      <td>0</td>\n",
       "      <td>31249</td>\n",
       "      <td>2016-04-07 03:16:36</td>\n",
       "    </tr>\n",
       "    <tr>\n",
       "      <th>461</th>\n",
       "      <td>2016-03-17 12:54:04</td>\n",
       "      <td>Gut_erhaltene_Alufelgen</td>\n",
       "      <td>100.0</td>\n",
       "      <td>test</td>\n",
       "      <td>NaN</td>\n",
       "      <td>2008</td>\n",
       "      <td>NaN</td>\n",
       "      <td>0</td>\n",
       "      <td>NaN</td>\n",
       "      <td>30000.0</td>\n",
       "      <td>0</td>\n",
       "      <td>NaN</td>\n",
       "      <td>sonstige_autos</td>\n",
       "      <td>NaN</td>\n",
       "      <td>2016-03-17 00:00:00</td>\n",
       "      <td>0</td>\n",
       "      <td>66440</td>\n",
       "      <td>2016-03-27 00:16:38</td>\n",
       "    </tr>\n",
       "    <tr>\n",
       "      <th>...</th>\n",
       "      <td>...</td>\n",
       "      <td>...</td>\n",
       "      <td>...</td>\n",
       "      <td>...</td>\n",
       "      <td>...</td>\n",
       "      <td>...</td>\n",
       "      <td>...</td>\n",
       "      <td>...</td>\n",
       "      <td>...</td>\n",
       "      <td>...</td>\n",
       "      <td>...</td>\n",
       "      <td>...</td>\n",
       "      <td>...</td>\n",
       "      <td>...</td>\n",
       "      <td>...</td>\n",
       "      <td>...</td>\n",
       "      <td>...</td>\n",
       "      <td>...</td>\n",
       "    </tr>\n",
       "    <tr>\n",
       "      <th>48662</th>\n",
       "      <td>2016-03-31 14:37:38</td>\n",
       "      <td>Golf_II_GL_2_tuerig___alltagstauglich___TÜV_ab...</td>\n",
       "      <td>100.0</td>\n",
       "      <td>control</td>\n",
       "      <td>NaN</td>\n",
       "      <td>1990</td>\n",
       "      <td>manuell</td>\n",
       "      <td>71</td>\n",
       "      <td>golf</td>\n",
       "      <td>150000.0</td>\n",
       "      <td>7</td>\n",
       "      <td>benzin</td>\n",
       "      <td>volkswagen</td>\n",
       "      <td>ja</td>\n",
       "      <td>2016-03-31 00:00:00</td>\n",
       "      <td>0</td>\n",
       "      <td>83700</td>\n",
       "      <td>2016-03-31 14:37:38</td>\n",
       "    </tr>\n",
       "    <tr>\n",
       "      <th>48795</th>\n",
       "      <td>2016-03-14 19:50:28</td>\n",
       "      <td>Golf_3_1_9l_Diesel_64_PS_zum_Ausschlachten</td>\n",
       "      <td>100.0</td>\n",
       "      <td>control</td>\n",
       "      <td>andere</td>\n",
       "      <td>1991</td>\n",
       "      <td>manuell</td>\n",
       "      <td>64</td>\n",
       "      <td>golf</td>\n",
       "      <td>150000.0</td>\n",
       "      <td>7</td>\n",
       "      <td>diesel</td>\n",
       "      <td>volkswagen</td>\n",
       "      <td>nein</td>\n",
       "      <td>2016-03-14 00:00:00</td>\n",
       "      <td>0</td>\n",
       "      <td>79348</td>\n",
       "      <td>2016-03-28 06:16:02</td>\n",
       "    </tr>\n",
       "    <tr>\n",
       "      <th>49187</th>\n",
       "      <td>2016-03-20 13:43:20</td>\n",
       "      <td>B_Corsa_Bastlerfahrzeug</td>\n",
       "      <td>100.0</td>\n",
       "      <td>test</td>\n",
       "      <td>kleinwagen</td>\n",
       "      <td>1996</td>\n",
       "      <td>manuell</td>\n",
       "      <td>45</td>\n",
       "      <td>corsa</td>\n",
       "      <td>150000.0</td>\n",
       "      <td>12</td>\n",
       "      <td>benzin</td>\n",
       "      <td>opel</td>\n",
       "      <td>ja</td>\n",
       "      <td>2016-03-20 00:00:00</td>\n",
       "      <td>0</td>\n",
       "      <td>30880</td>\n",
       "      <td>2016-03-20 13:43:20</td>\n",
       "    </tr>\n",
       "    <tr>\n",
       "      <th>49843</th>\n",
       "      <td>2016-04-01 08:56:18</td>\n",
       "      <td>Mazda_323_F_1.4</td>\n",
       "      <td>60.0</td>\n",
       "      <td>test</td>\n",
       "      <td>kleinwagen</td>\n",
       "      <td>1998</td>\n",
       "      <td>manuell</td>\n",
       "      <td>73</td>\n",
       "      <td>3_reihe</td>\n",
       "      <td>150000.0</td>\n",
       "      <td>3</td>\n",
       "      <td>benzin</td>\n",
       "      <td>mazda</td>\n",
       "      <td>NaN</td>\n",
       "      <td>2016-04-01 00:00:00</td>\n",
       "      <td>0</td>\n",
       "      <td>34317</td>\n",
       "      <td>2016-04-03 04:45:16</td>\n",
       "    </tr>\n",
       "    <tr>\n",
       "      <th>49874</th>\n",
       "      <td>2016-04-02 18:25:23</td>\n",
       "      <td>Ford_KA_mit_Tuev_2017</td>\n",
       "      <td>100.0</td>\n",
       "      <td>test</td>\n",
       "      <td>kleinwagen</td>\n",
       "      <td>1999</td>\n",
       "      <td>manuell</td>\n",
       "      <td>0</td>\n",
       "      <td>ka</td>\n",
       "      <td>150000.0</td>\n",
       "      <td>6</td>\n",
       "      <td>benzin</td>\n",
       "      <td>ford</td>\n",
       "      <td>ja</td>\n",
       "      <td>2016-04-02 00:00:00</td>\n",
       "      <td>0</td>\n",
       "      <td>55131</td>\n",
       "      <td>2016-04-04 05:29:37</td>\n",
       "    </tr>\n",
       "  </tbody>\n",
       "</table>\n",
       "<p>311 rows × 18 columns</p>\n",
       "</div>"
      ],
      "text/plain": [
       "              date_crawled                                               name  \\\n",
       "25     2016-03-21 21:56:18  Ford_escort_kombi_an_bastler_mit_ghia_ausstattung   \n",
       "30     2016-03-14 11:47:31                         Peugeot_206_Unfallfahrzeug   \n",
       "64     2016-04-05 07:36:19                 Autotransport__Abschlepp_Schlepper   \n",
       "245    2016-03-30 12:45:44                                     Renault_Twingo   \n",
       "461    2016-03-17 12:54:04                            Gut_erhaltene_Alufelgen   \n",
       "...                    ...                                                ...   \n",
       "48662  2016-03-31 14:37:38  Golf_II_GL_2_tuerig___alltagstauglich___TÜV_ab...   \n",
       "48795  2016-03-14 19:50:28         Golf_3_1_9l_Diesel_64_PS_zum_Ausschlachten   \n",
       "49187  2016-03-20 13:43:20                            B_Corsa_Bastlerfahrzeug   \n",
       "49843  2016-04-01 08:56:18                                    Mazda_323_F_1.4   \n",
       "49874  2016-04-02 18:25:23                              Ford_KA_mit_Tuev_2017   \n",
       "\n",
       "       price   abtest vehicle_type  registration_year  gearbox  power_ps  \\\n",
       "25      90.0  control        kombi               1996  manuell       116   \n",
       "30      80.0     test   kleinwagen               2002  manuell        60   \n",
       "64      40.0     test          NaN               2011      NaN         0   \n",
       "245     50.0  control   kleinwagen               1997  manuell        60   \n",
       "461    100.0     test          NaN               2008      NaN         0   \n",
       "...      ...      ...          ...                ...      ...       ...   \n",
       "48662  100.0  control          NaN               1990  manuell        71   \n",
       "48795  100.0  control       andere               1991  manuell        64   \n",
       "49187  100.0     test   kleinwagen               1996  manuell        45   \n",
       "49843   60.0     test   kleinwagen               1998  manuell        73   \n",
       "49874  100.0     test   kleinwagen               1999  manuell         0   \n",
       "\n",
       "         model  odometer_km  registration_month fuel_type           brand  \\\n",
       "25         NaN     150000.0                   4    benzin            ford   \n",
       "30     2_reihe     150000.0                   6    benzin         peugeot   \n",
       "64         5er     150000.0                   5       NaN             bmw   \n",
       "245     twingo      30000.0                   5    benzin         renault   \n",
       "461        NaN      30000.0                   0       NaN  sonstige_autos   \n",
       "...        ...          ...                 ...       ...             ...   \n",
       "48662     golf     150000.0                   7    benzin      volkswagen   \n",
       "48795     golf     150000.0                   7    diesel      volkswagen   \n",
       "49187    corsa     150000.0                  12    benzin            opel   \n",
       "49843  3_reihe     150000.0                   3    benzin           mazda   \n",
       "49874       ka     150000.0                   6    benzin            ford   \n",
       "\n",
       "      unrepaired_damage           ad_created  nr_of_pictures  postal_code  \\\n",
       "25                   ja  2016-03-21 00:00:00               0        27574   \n",
       "30                   ja  2016-03-14 00:00:00               0        57076   \n",
       "64                  NaN  2016-04-05 00:00:00               0        40591   \n",
       "245                 NaN  2016-03-30 00:00:00               0        31249   \n",
       "461                 NaN  2016-03-17 00:00:00               0        66440   \n",
       "...                 ...                  ...             ...          ...   \n",
       "48662                ja  2016-03-31 00:00:00               0        83700   \n",
       "48795              nein  2016-03-14 00:00:00               0        79348   \n",
       "49187                ja  2016-03-20 00:00:00               0        30880   \n",
       "49843               NaN  2016-04-01 00:00:00               0        34317   \n",
       "49874                ja  2016-04-02 00:00:00               0        55131   \n",
       "\n",
       "                 last_seen  \n",
       "25     2016-04-01 05:16:49  \n",
       "30     2016-03-14 11:47:31  \n",
       "64     2016-04-07 12:16:01  \n",
       "245    2016-04-07 03:16:36  \n",
       "461    2016-03-27 00:16:38  \n",
       "...                    ...  \n",
       "48662  2016-03-31 14:37:38  \n",
       "48795  2016-03-28 06:16:02  \n",
       "49187  2016-03-20 13:43:20  \n",
       "49843  2016-04-03 04:45:16  \n",
       "49874  2016-04-04 05:29:37  \n",
       "\n",
       "[311 rows x 18 columns]"
      ]
     },
     "execution_count": 38,
     "metadata": {},
     "output_type": "execute_result"
    }
   ],
   "source": [
    "# review low-end cars to determine whether they are outliers\n",
    "autos[autos[\"price\"].between(10,100)]"
   ]
  },
  {
   "cell_type": "code",
   "execution_count": 39,
   "metadata": {
    "colab": {},
    "colab_type": "code",
    "executionInfo": {
     "elapsed": 3287,
     "status": "ok",
     "timestamp": 1592401296162,
     "user": {
      "displayName": "Andrew MacDonald",
      "photoUrl": "https://lh3.googleusercontent.com/a-/AOh14GiL2bfpgT6d24Ro2V3SFX0lN7sDgarNqyJ43259PhE=s64",
      "userId": "13136109802752871845"
     },
     "user_tz": 240
    },
    "id": "Zf4N2ca1eLe-"
   },
   "outputs": [],
   "source": [
    "# remove outlier - record with $99M price\n",
    "autos = autos[autos[\"price\"].between(100,30000000)]"
   ]
  },
  {
   "cell_type": "markdown",
   "metadata": {
    "colab_type": "text",
    "id": "by1FIZ7peLfA"
   },
   "source": [
    "### Date Formatting"
   ]
  },
  {
   "cell_type": "markdown",
   "metadata": {
    "colab_type": "text",
    "id": "YSbxdj0xeLfA"
   },
   "source": [
    "#### Date Crawled"
   ]
  },
  {
   "cell_type": "markdown",
   "metadata": {
    "colab_type": "text",
    "id": "hH5VqbN2eLfB"
   },
   "source": [
    "The code below describes a distribution of dates on which the respective data was crawled from the source website. The results indicate that the data was crawled over about a month period from March 5, 2016 through April 7, 2016."
   ]
  },
  {
   "cell_type": "code",
   "execution_count": 40,
   "metadata": {
    "colab": {
     "base_uri": "https://localhost:8080/",
     "height": 612
    },
    "colab_type": "code",
    "executionInfo": {
     "elapsed": 3276,
     "status": "ok",
     "timestamp": 1592401296163,
     "user": {
      "displayName": "Andrew MacDonald",
      "photoUrl": "https://lh3.googleusercontent.com/a-/AOh14GiL2bfpgT6d24Ro2V3SFX0lN7sDgarNqyJ43259PhE=s64",
      "userId": "13136109802752871845"
     },
     "user_tz": 240
    },
    "id": "dR1zHvYUeLfB",
    "outputId": "bbcd3546-5c01-4325-ce99-e94f0854201f"
   },
   "outputs": [
    {
     "data": {
      "text/plain": [
       "2016-03-05    0.025354\n",
       "2016-03-06    0.014035\n",
       "2016-03-07    0.036051\n",
       "2016-03-08    0.033211\n",
       "2016-03-09    0.033024\n",
       "2016-03-10    0.032278\n",
       "2016-03-11    0.032589\n",
       "2016-03-12    0.036922\n",
       "2016-03-13    0.015673\n",
       "2016-03-14    0.036652\n",
       "2016-03-15    0.034310\n",
       "2016-03-16    0.029459\n",
       "2016-03-17    0.031511\n",
       "2016-03-18    0.012895\n",
       "2016-03-19    0.034724\n",
       "2016-03-20    0.037793\n",
       "2016-03-21    0.037233\n",
       "2016-03-22    0.032900\n",
       "2016-03-23    0.032278\n",
       "2016-03-24    0.029438\n",
       "2016-03-25    0.031490\n",
       "2016-03-26    0.032299\n",
       "2016-03-27    0.031117\n",
       "2016-03-28    0.034952\n",
       "2016-03-29    0.034144\n",
       "2016-03-30    0.033729\n",
       "2016-03-31    0.031864\n",
       "2016-04-01    0.033688\n",
       "2016-04-02    0.035595\n",
       "2016-04-03    0.038601\n",
       "2016-04-04    0.036569\n",
       "2016-04-05    0.013061\n",
       "2016-04-06    0.003172\n",
       "2016-04-07    0.001389\n",
       "Name: date_crawled, dtype: float64"
      ]
     },
     "execution_count": 40,
     "metadata": {},
     "output_type": "execute_result"
    }
   ],
   "source": [
    "autos['date_crawled'].str[:10].value_counts(normalize=True, dropna=False).sort_index()"
   ]
  },
  {
   "cell_type": "markdown",
   "metadata": {
    "colab_type": "text",
    "id": "LpHP3PxCeLfE"
   },
   "source": [
    "#### Ad Created"
   ]
  },
  {
   "cell_type": "markdown",
   "metadata": {
    "colab_type": "text",
    "id": "b3vkAf-6eLfE"
   },
   "source": [
    "The code below describes a distribution of dates on which the ad was created by the end user. Because they spanned over abbout a year, the corresponding daily result-set is difficult to analyze. The second calculation groups the distribution based on month. We can see that the overwhelming majority of ads were created in March 2016."
   ]
  },
  {
   "cell_type": "code",
   "execution_count": 41,
   "metadata": {
    "colab": {
     "base_uri": "https://localhost:8080/",
     "height": 221
    },
    "colab_type": "code",
    "executionInfo": {
     "elapsed": 3271,
     "status": "ok",
     "timestamp": 1592401296164,
     "user": {
      "displayName": "Andrew MacDonald",
      "photoUrl": "https://lh3.googleusercontent.com/a-/AOh14GiL2bfpgT6d24Ro2V3SFX0lN7sDgarNqyJ43259PhE=s64",
      "userId": "13136109802752871845"
     },
     "user_tz": 240
    },
    "id": "kyr7zyqReLfE",
    "outputId": "a4a72010-f92a-4d0a-e323-7e4cc647053d"
   },
   "outputs": [
    {
     "data": {
      "text/plain": [
       "2015-06-11    0.000021\n",
       "2015-08-10    0.000021\n",
       "2015-09-09    0.000021\n",
       "2015-11-10    0.000021\n",
       "2015-12-05    0.000021\n",
       "                ...   \n",
       "2016-04-03    0.038850\n",
       "2016-04-04    0.036922\n",
       "2016-04-05    0.011796\n",
       "2016-04-06    0.003255\n",
       "2016-04-07    0.001244\n",
       "Name: ad_created, Length: 76, dtype: float64"
      ]
     },
     "execution_count": 41,
     "metadata": {},
     "output_type": "execute_result"
    }
   ],
   "source": [
    "autos['ad_created'].str[:10].value_counts(normalize=True, dropna=False).sort_index()"
   ]
  },
  {
   "cell_type": "code",
   "execution_count": 42,
   "metadata": {
    "colab": {
     "base_uri": "https://localhost:8080/",
     "height": 187
    },
    "colab_type": "code",
    "executionInfo": {
     "elapsed": 3260,
     "status": "ok",
     "timestamp": 1592401296165,
     "user": {
      "displayName": "Andrew MacDonald",
      "photoUrl": "https://lh3.googleusercontent.com/a-/AOh14GiL2bfpgT6d24Ro2V3SFX0lN7sDgarNqyJ43259PhE=s64",
      "userId": "13136109802752871845"
     },
     "user_tz": 240
    },
    "id": "qsUJe5vheLfG",
    "outputId": "7af42566-185f-4e1e-8e3c-12eea3fea678"
   },
   "outputs": [
    {
     "data": {
      "text/plain": [
       "2015-06    0.000021\n",
       "2015-08    0.000021\n",
       "2015-09    0.000021\n",
       "2015-11    0.000021\n",
       "2015-12    0.000041\n",
       "2016-01    0.000249\n",
       "2016-02    0.001265\n",
       "2016-03    0.837345\n",
       "2016-04    0.161017\n",
       "Name: ad_created, dtype: float64"
      ]
     },
     "execution_count": 42,
     "metadata": {},
     "output_type": "execute_result"
    }
   ],
   "source": [
    "autos['ad_created'].str[:7].value_counts(normalize=True, dropna=False).sort_index()"
   ]
  },
  {
   "cell_type": "markdown",
   "metadata": {
    "colab_type": "text",
    "id": "5o0v7V9BeLfI"
   },
   "source": [
    "#### Last Seen"
   ]
  },
  {
   "cell_type": "markdown",
   "metadata": {
    "colab_type": "text",
    "id": "QAOKzq7ueLfI"
   },
   "source": [
    "The code below describes the last time at which the web crawler last saw the corresponding ad on the website. The distribution skews toward the last few days, indicating that ads stayed on the website through the end of the crawling period."
   ]
  },
  {
   "cell_type": "code",
   "execution_count": 43,
   "metadata": {
    "colab": {
     "base_uri": "https://localhost:8080/",
     "height": 612
    },
    "colab_type": "code",
    "executionInfo": {
     "elapsed": 3254,
     "status": "ok",
     "timestamp": 1592401296165,
     "user": {
      "displayName": "Andrew MacDonald",
      "photoUrl": "https://lh3.googleusercontent.com/a-/AOh14GiL2bfpgT6d24Ro2V3SFX0lN7sDgarNqyJ43259PhE=s64",
      "userId": "13136109802752871845"
     },
     "user_tz": 240
    },
    "id": "XsBiOb2yeLfJ",
    "outputId": "1eeca2c4-a31f-445a-ca84-c4612ee3aba2"
   },
   "outputs": [
    {
     "data": {
      "text/plain": [
       "2016-03-05    0.001078\n",
       "2016-03-06    0.004312\n",
       "2016-03-07    0.005432\n",
       "2016-03-08    0.007339\n",
       "2016-03-09    0.009598\n",
       "2016-03-10    0.010635\n",
       "2016-03-11    0.012397\n",
       "2016-03-12    0.023799\n",
       "2016-03-13    0.008873\n",
       "2016-03-14    0.012625\n",
       "2016-03-15    0.015859\n",
       "2016-03-16    0.016440\n",
       "2016-03-17    0.028090\n",
       "2016-03-18    0.007318\n",
       "2016-03-19    0.015756\n",
       "2016-03-20    0.020648\n",
       "2016-03-21    0.020565\n",
       "2016-03-22    0.021353\n",
       "2016-03-23    0.018575\n",
       "2016-03-24    0.019757\n",
       "2016-03-25    0.019093\n",
       "2016-03-26    0.016668\n",
       "2016-03-27    0.015548\n",
       "2016-03-28    0.020855\n",
       "2016-03-29    0.022307\n",
       "2016-03-30    0.024691\n",
       "2016-03-31    0.023841\n",
       "2016-04-01    0.022846\n",
       "2016-04-02    0.024898\n",
       "2016-04-03    0.025126\n",
       "2016-04-04    0.024525\n",
       "2016-04-05    0.125070\n",
       "2016-04-06    0.221967\n",
       "2016-04-07    0.132118\n",
       "Name: last_seen, dtype: float64"
      ]
     },
     "execution_count": 43,
     "metadata": {},
     "output_type": "execute_result"
    }
   ],
   "source": [
    "autos['last_seen'].str[:10].value_counts(normalize=True, dropna=False).sort_index()"
   ]
  },
  {
   "cell_type": "markdown",
   "metadata": {
    "colab_type": "text",
    "id": "0DP9qUiceLfL"
   },
   "source": [
    "#### Registration Year"
   ]
  },
  {
   "cell_type": "markdown",
   "metadata": {
    "colab_type": "text",
    "id": "uN-FSp77eLfM"
   },
   "source": [
    "The code below describes the Registration Year data. The results indicate a minimum year of 1000 and maximum year of 9999, indicating that incorrect data exists (as cars were not invented in 1000 AD and we have not yet entered year 9999)."
   ]
  },
  {
   "cell_type": "code",
   "execution_count": 44,
   "metadata": {
    "colab": {
     "base_uri": "https://localhost:8080/",
     "height": 170
    },
    "colab_type": "code",
    "executionInfo": {
     "elapsed": 3238,
     "status": "ok",
     "timestamp": 1592401296166,
     "user": {
      "displayName": "Andrew MacDonald",
      "photoUrl": "https://lh3.googleusercontent.com/a-/AOh14GiL2bfpgT6d24Ro2V3SFX0lN7sDgarNqyJ43259PhE=s64",
      "userId": "13136109802752871845"
     },
     "user_tz": 240
    },
    "id": "pnwYAadteLfM",
    "outputId": "b7eb7f5e-efed-4442-ce75-939adcfe6bee"
   },
   "outputs": [
    {
     "data": {
      "text/plain": [
       "count    48237.000000\n",
       "mean      2004.728652\n",
       "std         87.886096\n",
       "min       1000.000000\n",
       "25%       1999.000000\n",
       "50%       2004.000000\n",
       "75%       2008.000000\n",
       "max       9999.000000\n",
       "Name: registration_year, dtype: float64"
      ]
     },
     "execution_count": 44,
     "metadata": {},
     "output_type": "execute_result"
    }
   ],
   "source": [
    "autos['registration_year'].describe()"
   ]
  },
  {
   "cell_type": "code",
   "execution_count": 45,
   "metadata": {
    "colab": {
     "base_uri": "https://localhost:8080/",
     "height": 394
    },
    "colab_type": "code",
    "executionInfo": {
     "elapsed": 3226,
     "status": "ok",
     "timestamp": 1592401296167,
     "user": {
      "displayName": "Andrew MacDonald",
      "photoUrl": "https://lh3.googleusercontent.com/a-/AOh14GiL2bfpgT6d24Ro2V3SFX0lN7sDgarNqyJ43259PhE=s64",
      "userId": "13136109802752871845"
     },
     "user_tz": 240
    },
    "id": "9NP3UFZheLfO",
    "outputId": "e7d1c954-09ea-4754-8c5c-28cc3f08aa77"
   },
   "outputs": [
    {
     "data": {
      "text/html": [
       "<div>\n",
       "<style scoped>\n",
       "    .dataframe tbody tr th:only-of-type {\n",
       "        vertical-align: middle;\n",
       "    }\n",
       "\n",
       "    .dataframe tbody tr th {\n",
       "        vertical-align: top;\n",
       "    }\n",
       "\n",
       "    .dataframe thead th {\n",
       "        text-align: right;\n",
       "    }\n",
       "</style>\n",
       "<table border=\"1\" class=\"dataframe\">\n",
       "  <thead>\n",
       "    <tr style=\"text-align: right;\">\n",
       "      <th></th>\n",
       "      <th>date_crawled</th>\n",
       "      <th>name</th>\n",
       "      <th>price</th>\n",
       "      <th>abtest</th>\n",
       "      <th>vehicle_type</th>\n",
       "      <th>registration_year</th>\n",
       "      <th>gearbox</th>\n",
       "      <th>power_ps</th>\n",
       "      <th>model</th>\n",
       "      <th>odometer_km</th>\n",
       "      <th>registration_month</th>\n",
       "      <th>fuel_type</th>\n",
       "      <th>brand</th>\n",
       "      <th>unrepaired_damage</th>\n",
       "      <th>ad_created</th>\n",
       "      <th>nr_of_pictures</th>\n",
       "      <th>postal_code</th>\n",
       "      <th>last_seen</th>\n",
       "    </tr>\n",
       "  </thead>\n",
       "  <tbody>\n",
       "    <tr>\n",
       "      <th>10556</th>\n",
       "      <td>2016-04-01 06:02:10</td>\n",
       "      <td>UNFAL_Auto</td>\n",
       "      <td>450.0</td>\n",
       "      <td>control</td>\n",
       "      <td>NaN</td>\n",
       "      <td>1800</td>\n",
       "      <td>NaN</td>\n",
       "      <td>1800</td>\n",
       "      <td>NaN</td>\n",
       "      <td>5000.0</td>\n",
       "      <td>2</td>\n",
       "      <td>NaN</td>\n",
       "      <td>mitsubishi</td>\n",
       "      <td>nein</td>\n",
       "      <td>2016-04-01 00:00:00</td>\n",
       "      <td>0</td>\n",
       "      <td>63322</td>\n",
       "      <td>2016-04-01 09:42:30</td>\n",
       "    </tr>\n",
       "    <tr>\n",
       "      <th>22316</th>\n",
       "      <td>2016-03-29 16:56:41</td>\n",
       "      <td>VW_Kaefer.__Zwei_zum_Preis_von_einem.</td>\n",
       "      <td>1500.0</td>\n",
       "      <td>control</td>\n",
       "      <td>NaN</td>\n",
       "      <td>1000</td>\n",
       "      <td>manuell</td>\n",
       "      <td>0</td>\n",
       "      <td>kaefer</td>\n",
       "      <td>5000.0</td>\n",
       "      <td>0</td>\n",
       "      <td>benzin</td>\n",
       "      <td>volkswagen</td>\n",
       "      <td>NaN</td>\n",
       "      <td>2016-03-29 00:00:00</td>\n",
       "      <td>0</td>\n",
       "      <td>48324</td>\n",
       "      <td>2016-03-31 10:15:28</td>\n",
       "    </tr>\n",
       "    <tr>\n",
       "      <th>24511</th>\n",
       "      <td>2016-03-17 19:45:11</td>\n",
       "      <td>Trabant__wartburg__Ostalgie</td>\n",
       "      <td>490.0</td>\n",
       "      <td>control</td>\n",
       "      <td>NaN</td>\n",
       "      <td>1111</td>\n",
       "      <td>NaN</td>\n",
       "      <td>0</td>\n",
       "      <td>NaN</td>\n",
       "      <td>5000.0</td>\n",
       "      <td>0</td>\n",
       "      <td>NaN</td>\n",
       "      <td>trabant</td>\n",
       "      <td>NaN</td>\n",
       "      <td>2016-03-17 00:00:00</td>\n",
       "      <td>0</td>\n",
       "      <td>16818</td>\n",
       "      <td>2016-04-07 07:17:29</td>\n",
       "    </tr>\n",
       "    <tr>\n",
       "      <th>32585</th>\n",
       "      <td>2016-04-02 16:56:39</td>\n",
       "      <td>UNFAL_Auto</td>\n",
       "      <td>450.0</td>\n",
       "      <td>control</td>\n",
       "      <td>NaN</td>\n",
       "      <td>1800</td>\n",
       "      <td>NaN</td>\n",
       "      <td>1800</td>\n",
       "      <td>NaN</td>\n",
       "      <td>5000.0</td>\n",
       "      <td>2</td>\n",
       "      <td>NaN</td>\n",
       "      <td>mitsubishi</td>\n",
       "      <td>nein</td>\n",
       "      <td>2016-04-02 00:00:00</td>\n",
       "      <td>0</td>\n",
       "      <td>63322</td>\n",
       "      <td>2016-04-04 14:46:21</td>\n",
       "    </tr>\n",
       "    <tr>\n",
       "      <th>49283</th>\n",
       "      <td>2016-03-15 18:38:53</td>\n",
       "      <td>Citroen_HY</td>\n",
       "      <td>7750.0</td>\n",
       "      <td>control</td>\n",
       "      <td>NaN</td>\n",
       "      <td>1001</td>\n",
       "      <td>NaN</td>\n",
       "      <td>0</td>\n",
       "      <td>andere</td>\n",
       "      <td>5000.0</td>\n",
       "      <td>0</td>\n",
       "      <td>NaN</td>\n",
       "      <td>citroen</td>\n",
       "      <td>NaN</td>\n",
       "      <td>2016-03-15 00:00:00</td>\n",
       "      <td>0</td>\n",
       "      <td>66706</td>\n",
       "      <td>2016-04-06 18:47:20</td>\n",
       "    </tr>\n",
       "  </tbody>\n",
       "</table>\n",
       "</div>"
      ],
      "text/plain": [
       "              date_crawled                                   name   price  \\\n",
       "10556  2016-04-01 06:02:10                             UNFAL_Auto   450.0   \n",
       "22316  2016-03-29 16:56:41  VW_Kaefer.__Zwei_zum_Preis_von_einem.  1500.0   \n",
       "24511  2016-03-17 19:45:11            Trabant__wartburg__Ostalgie   490.0   \n",
       "32585  2016-04-02 16:56:39                             UNFAL_Auto   450.0   \n",
       "49283  2016-03-15 18:38:53                             Citroen_HY  7750.0   \n",
       "\n",
       "        abtest vehicle_type  registration_year  gearbox  power_ps   model  \\\n",
       "10556  control          NaN               1800      NaN      1800     NaN   \n",
       "22316  control          NaN               1000  manuell         0  kaefer   \n",
       "24511  control          NaN               1111      NaN         0     NaN   \n",
       "32585  control          NaN               1800      NaN      1800     NaN   \n",
       "49283  control          NaN               1001      NaN         0  andere   \n",
       "\n",
       "       odometer_km  registration_month fuel_type       brand  \\\n",
       "10556       5000.0                   2       NaN  mitsubishi   \n",
       "22316       5000.0                   0    benzin  volkswagen   \n",
       "24511       5000.0                   0       NaN     trabant   \n",
       "32585       5000.0                   2       NaN  mitsubishi   \n",
       "49283       5000.0                   0       NaN     citroen   \n",
       "\n",
       "      unrepaired_damage           ad_created  nr_of_pictures  postal_code  \\\n",
       "10556              nein  2016-04-01 00:00:00               0        63322   \n",
       "22316               NaN  2016-03-29 00:00:00               0        48324   \n",
       "24511               NaN  2016-03-17 00:00:00               0        16818   \n",
       "32585              nein  2016-04-02 00:00:00               0        63322   \n",
       "49283               NaN  2016-03-15 00:00:00               0        66706   \n",
       "\n",
       "                 last_seen  \n",
       "10556  2016-04-01 09:42:30  \n",
       "22316  2016-03-31 10:15:28  \n",
       "24511  2016-04-07 07:17:29  \n",
       "32585  2016-04-04 14:46:21  \n",
       "49283  2016-04-06 18:47:20  "
      ]
     },
     "execution_count": 45,
     "metadata": {},
     "output_type": "execute_result"
    }
   ],
   "source": [
    "# determine outliers - cars with registration year before 1900\n",
    "autos[autos['registration_year'] < 1900]"
   ]
  },
  {
   "cell_type": "code",
   "execution_count": 46,
   "metadata": {
    "colab": {
     "base_uri": "https://localhost:8080/",
     "height": 779
    },
    "colab_type": "code",
    "executionInfo": {
     "elapsed": 3438,
     "status": "ok",
     "timestamp": 1592401296392,
     "user": {
      "displayName": "Andrew MacDonald",
      "photoUrl": "https://lh3.googleusercontent.com/a-/AOh14GiL2bfpgT6d24Ro2V3SFX0lN7sDgarNqyJ43259PhE=s64",
      "userId": "13136109802752871845"
     },
     "user_tz": 240
    },
    "id": "1CmGIEGseLfP",
    "outputId": "ab6d729e-edb6-475a-f168-e5cc8100cefc"
   },
   "outputs": [
    {
     "data": {
      "text/html": [
       "<div>\n",
       "<style scoped>\n",
       "    .dataframe tbody tr th:only-of-type {\n",
       "        vertical-align: middle;\n",
       "    }\n",
       "\n",
       "    .dataframe tbody tr th {\n",
       "        vertical-align: top;\n",
       "    }\n",
       "\n",
       "    .dataframe thead th {\n",
       "        text-align: right;\n",
       "    }\n",
       "</style>\n",
       "<table border=\"1\" class=\"dataframe\">\n",
       "  <thead>\n",
       "    <tr style=\"text-align: right;\">\n",
       "      <th></th>\n",
       "      <th>date_crawled</th>\n",
       "      <th>name</th>\n",
       "      <th>price</th>\n",
       "      <th>abtest</th>\n",
       "      <th>vehicle_type</th>\n",
       "      <th>registration_year</th>\n",
       "      <th>gearbox</th>\n",
       "      <th>power_ps</th>\n",
       "      <th>model</th>\n",
       "      <th>odometer_km</th>\n",
       "      <th>registration_month</th>\n",
       "      <th>fuel_type</th>\n",
       "      <th>brand</th>\n",
       "      <th>unrepaired_damage</th>\n",
       "      <th>ad_created</th>\n",
       "      <th>nr_of_pictures</th>\n",
       "      <th>postal_code</th>\n",
       "      <th>last_seen</th>\n",
       "    </tr>\n",
       "  </thead>\n",
       "  <tbody>\n",
       "    <tr>\n",
       "      <th>84</th>\n",
       "      <td>2016-03-27 19:52:54</td>\n",
       "      <td>Renault_twingo</td>\n",
       "      <td>900.0</td>\n",
       "      <td>control</td>\n",
       "      <td>NaN</td>\n",
       "      <td>2018</td>\n",
       "      <td>NaN</td>\n",
       "      <td>60</td>\n",
       "      <td>twingo</td>\n",
       "      <td>150000.0</td>\n",
       "      <td>0</td>\n",
       "      <td>NaN</td>\n",
       "      <td>renault</td>\n",
       "      <td>NaN</td>\n",
       "      <td>2016-03-27 00:00:00</td>\n",
       "      <td>0</td>\n",
       "      <td>40589</td>\n",
       "      <td>2016-04-05 18:46:49</td>\n",
       "    </tr>\n",
       "    <tr>\n",
       "      <th>164</th>\n",
       "      <td>2016-03-13 20:39:16</td>\n",
       "      <td>Opel_Meriva__nur_76000_Km__unfallfrei__scheckh...</td>\n",
       "      <td>4800.0</td>\n",
       "      <td>control</td>\n",
       "      <td>NaN</td>\n",
       "      <td>2018</td>\n",
       "      <td>manuell</td>\n",
       "      <td>0</td>\n",
       "      <td>meriva</td>\n",
       "      <td>80000.0</td>\n",
       "      <td>4</td>\n",
       "      <td>benzin</td>\n",
       "      <td>opel</td>\n",
       "      <td>nein</td>\n",
       "      <td>2016-03-13 00:00:00</td>\n",
       "      <td>0</td>\n",
       "      <td>37627</td>\n",
       "      <td>2016-04-04 16:48:02</td>\n",
       "    </tr>\n",
       "    <tr>\n",
       "      <th>390</th>\n",
       "      <td>2016-03-25 12:59:06</td>\n",
       "      <td>Fiat_Bertone_X_1_9__X_1/9__X19__X_19__X1_9__X_19</td>\n",
       "      <td>7750.0</td>\n",
       "      <td>test</td>\n",
       "      <td>NaN</td>\n",
       "      <td>2018</td>\n",
       "      <td>manuell</td>\n",
       "      <td>76</td>\n",
       "      <td>andere</td>\n",
       "      <td>150000.0</td>\n",
       "      <td>6</td>\n",
       "      <td>benzin</td>\n",
       "      <td>fiat</td>\n",
       "      <td>nein</td>\n",
       "      <td>2016-03-25 00:00:00</td>\n",
       "      <td>0</td>\n",
       "      <td>78239</td>\n",
       "      <td>2016-03-28 12:16:50</td>\n",
       "    </tr>\n",
       "    <tr>\n",
       "      <th>453</th>\n",
       "      <td>2016-03-28 13:51:12</td>\n",
       "      <td>Armee_Jeep</td>\n",
       "      <td>9800.0</td>\n",
       "      <td>test</td>\n",
       "      <td>NaN</td>\n",
       "      <td>4500</td>\n",
       "      <td>manuell</td>\n",
       "      <td>0</td>\n",
       "      <td>andere</td>\n",
       "      <td>5000.0</td>\n",
       "      <td>0</td>\n",
       "      <td>NaN</td>\n",
       "      <td>jeep</td>\n",
       "      <td>NaN</td>\n",
       "      <td>2016-03-28 00:00:00</td>\n",
       "      <td>0</td>\n",
       "      <td>7545</td>\n",
       "      <td>2016-04-06 17:45:49</td>\n",
       "    </tr>\n",
       "    <tr>\n",
       "      <th>802</th>\n",
       "      <td>2016-03-19 11:37:23</td>\n",
       "      <td>Lada_mit_wenig_km_neuem_Tuev_bj_08</td>\n",
       "      <td>2100.0</td>\n",
       "      <td>test</td>\n",
       "      <td>NaN</td>\n",
       "      <td>2018</td>\n",
       "      <td>manuell</td>\n",
       "      <td>0</td>\n",
       "      <td>kalina</td>\n",
       "      <td>150000.0</td>\n",
       "      <td>0</td>\n",
       "      <td>benzin</td>\n",
       "      <td>lada</td>\n",
       "      <td>NaN</td>\n",
       "      <td>2016-03-19 00:00:00</td>\n",
       "      <td>0</td>\n",
       "      <td>12621</td>\n",
       "      <td>2016-03-21 15:20:00</td>\n",
       "    </tr>\n",
       "    <tr>\n",
       "      <th>...</th>\n",
       "      <td>...</td>\n",
       "      <td>...</td>\n",
       "      <td>...</td>\n",
       "      <td>...</td>\n",
       "      <td>...</td>\n",
       "      <td>...</td>\n",
       "      <td>...</td>\n",
       "      <td>...</td>\n",
       "      <td>...</td>\n",
       "      <td>...</td>\n",
       "      <td>...</td>\n",
       "      <td>...</td>\n",
       "      <td>...</td>\n",
       "      <td>...</td>\n",
       "      <td>...</td>\n",
       "      <td>...</td>\n",
       "      <td>...</td>\n",
       "      <td>...</td>\n",
       "    </tr>\n",
       "    <tr>\n",
       "      <th>49262</th>\n",
       "      <td>2016-03-26 18:31:21</td>\n",
       "      <td>Opel_vectra</td>\n",
       "      <td>2000.0</td>\n",
       "      <td>test</td>\n",
       "      <td>NaN</td>\n",
       "      <td>2018</td>\n",
       "      <td>NaN</td>\n",
       "      <td>0</td>\n",
       "      <td>NaN</td>\n",
       "      <td>150000.0</td>\n",
       "      <td>0</td>\n",
       "      <td>NaN</td>\n",
       "      <td>opel</td>\n",
       "      <td>NaN</td>\n",
       "      <td>2016-03-26 00:00:00</td>\n",
       "      <td>0</td>\n",
       "      <td>65549</td>\n",
       "      <td>2016-04-06 18:19:01</td>\n",
       "    </tr>\n",
       "    <tr>\n",
       "      <th>49354</th>\n",
       "      <td>2016-04-05 10:31:29</td>\n",
       "      <td>Bmw_e39_523i_mit_neuem_Tuev</td>\n",
       "      <td>2499.0</td>\n",
       "      <td>control</td>\n",
       "      <td>NaN</td>\n",
       "      <td>2018</td>\n",
       "      <td>manuell</td>\n",
       "      <td>174</td>\n",
       "      <td>5er</td>\n",
       "      <td>150000.0</td>\n",
       "      <td>8</td>\n",
       "      <td>NaN</td>\n",
       "      <td>bmw</td>\n",
       "      <td>nein</td>\n",
       "      <td>2016-04-05 00:00:00</td>\n",
       "      <td>0</td>\n",
       "      <td>65207</td>\n",
       "      <td>2016-04-05 12:27:15</td>\n",
       "    </tr>\n",
       "    <tr>\n",
       "      <th>49411</th>\n",
       "      <td>2016-03-28 12:58:19</td>\n",
       "      <td>Renault_twingo_Tuev_neu</td>\n",
       "      <td>1550.0</td>\n",
       "      <td>test</td>\n",
       "      <td>NaN</td>\n",
       "      <td>2018</td>\n",
       "      <td>NaN</td>\n",
       "      <td>0</td>\n",
       "      <td>twingo</td>\n",
       "      <td>100000.0</td>\n",
       "      <td>0</td>\n",
       "      <td>NaN</td>\n",
       "      <td>renault</td>\n",
       "      <td>NaN</td>\n",
       "      <td>2016-03-28 00:00:00</td>\n",
       "      <td>0</td>\n",
       "      <td>48739</td>\n",
       "      <td>2016-03-28 13:41:18</td>\n",
       "    </tr>\n",
       "    <tr>\n",
       "      <th>49770</th>\n",
       "      <td>2016-03-15 12:54:26</td>\n",
       "      <td>VW_Polo_6n_Tuev_Neu!__1.6_75PS</td>\n",
       "      <td>999.0</td>\n",
       "      <td>control</td>\n",
       "      <td>NaN</td>\n",
       "      <td>2018</td>\n",
       "      <td>manuell</td>\n",
       "      <td>75</td>\n",
       "      <td>polo</td>\n",
       "      <td>150000.0</td>\n",
       "      <td>12</td>\n",
       "      <td>benzin</td>\n",
       "      <td>volkswagen</td>\n",
       "      <td>nein</td>\n",
       "      <td>2016-03-15 00:00:00</td>\n",
       "      <td>0</td>\n",
       "      <td>24321</td>\n",
       "      <td>2016-04-06 02:16:02</td>\n",
       "    </tr>\n",
       "    <tr>\n",
       "      <th>49910</th>\n",
       "      <td>2016-04-03 21:39:15</td>\n",
       "      <td>Schoener_fast_neuer_Opel_Mokka_in_Zell_Mosel_m...</td>\n",
       "      <td>22200.0</td>\n",
       "      <td>test</td>\n",
       "      <td>NaN</td>\n",
       "      <td>9000</td>\n",
       "      <td>automatik</td>\n",
       "      <td>140</td>\n",
       "      <td>andere</td>\n",
       "      <td>10000.0</td>\n",
       "      <td>3</td>\n",
       "      <td>benzin</td>\n",
       "      <td>opel</td>\n",
       "      <td>NaN</td>\n",
       "      <td>2016-04-03 00:00:00</td>\n",
       "      <td>0</td>\n",
       "      <td>56856</td>\n",
       "      <td>2016-04-05 22:18:26</td>\n",
       "    </tr>\n",
       "  </tbody>\n",
       "</table>\n",
       "<p>485 rows × 18 columns</p>\n",
       "</div>"
      ],
      "text/plain": [
       "              date_crawled                                               name  \\\n",
       "84     2016-03-27 19:52:54                                     Renault_twingo   \n",
       "164    2016-03-13 20:39:16  Opel_Meriva__nur_76000_Km__unfallfrei__scheckh...   \n",
       "390    2016-03-25 12:59:06   Fiat_Bertone_X_1_9__X_1/9__X19__X_19__X1_9__X_19   \n",
       "453    2016-03-28 13:51:12                                         Armee_Jeep   \n",
       "802    2016-03-19 11:37:23                 Lada_mit_wenig_km_neuem_Tuev_bj_08   \n",
       "...                    ...                                                ...   \n",
       "49262  2016-03-26 18:31:21                                        Opel_vectra   \n",
       "49354  2016-04-05 10:31:29                        Bmw_e39_523i_mit_neuem_Tuev   \n",
       "49411  2016-03-28 12:58:19                            Renault_twingo_Tuev_neu   \n",
       "49770  2016-03-15 12:54:26                     VW_Polo_6n_Tuev_Neu!__1.6_75PS   \n",
       "49910  2016-04-03 21:39:15  Schoener_fast_neuer_Opel_Mokka_in_Zell_Mosel_m...   \n",
       "\n",
       "         price   abtest vehicle_type  registration_year    gearbox  power_ps  \\\n",
       "84       900.0  control          NaN               2018        NaN        60   \n",
       "164     4800.0  control          NaN               2018    manuell         0   \n",
       "390     7750.0     test          NaN               2018    manuell        76   \n",
       "453     9800.0     test          NaN               4500    manuell         0   \n",
       "802     2100.0     test          NaN               2018    manuell         0   \n",
       "...        ...      ...          ...                ...        ...       ...   \n",
       "49262   2000.0     test          NaN               2018        NaN         0   \n",
       "49354   2499.0  control          NaN               2018    manuell       174   \n",
       "49411   1550.0     test          NaN               2018        NaN         0   \n",
       "49770    999.0  control          NaN               2018    manuell        75   \n",
       "49910  22200.0     test          NaN               9000  automatik       140   \n",
       "\n",
       "        model  odometer_km  registration_month fuel_type       brand  \\\n",
       "84     twingo     150000.0                   0       NaN     renault   \n",
       "164    meriva      80000.0                   4    benzin        opel   \n",
       "390    andere     150000.0                   6    benzin        fiat   \n",
       "453    andere       5000.0                   0       NaN        jeep   \n",
       "802    kalina     150000.0                   0    benzin        lada   \n",
       "...       ...          ...                 ...       ...         ...   \n",
       "49262     NaN     150000.0                   0       NaN        opel   \n",
       "49354     5er     150000.0                   8       NaN         bmw   \n",
       "49411  twingo     100000.0                   0       NaN     renault   \n",
       "49770    polo     150000.0                  12    benzin  volkswagen   \n",
       "49910  andere      10000.0                   3    benzin        opel   \n",
       "\n",
       "      unrepaired_damage           ad_created  nr_of_pictures  postal_code  \\\n",
       "84                  NaN  2016-03-27 00:00:00               0        40589   \n",
       "164                nein  2016-03-13 00:00:00               0        37627   \n",
       "390                nein  2016-03-25 00:00:00               0        78239   \n",
       "453                 NaN  2016-03-28 00:00:00               0         7545   \n",
       "802                 NaN  2016-03-19 00:00:00               0        12621   \n",
       "...                 ...                  ...             ...          ...   \n",
       "49262               NaN  2016-03-26 00:00:00               0        65549   \n",
       "49354              nein  2016-04-05 00:00:00               0        65207   \n",
       "49411               NaN  2016-03-28 00:00:00               0        48739   \n",
       "49770              nein  2016-03-15 00:00:00               0        24321   \n",
       "49910               NaN  2016-04-03 00:00:00               0        56856   \n",
       "\n",
       "                 last_seen  \n",
       "84     2016-04-05 18:46:49  \n",
       "164    2016-04-04 16:48:02  \n",
       "390    2016-03-28 12:16:50  \n",
       "453    2016-04-06 17:45:49  \n",
       "802    2016-03-21 15:20:00  \n",
       "...                    ...  \n",
       "49262  2016-04-06 18:19:01  \n",
       "49354  2016-04-05 12:27:15  \n",
       "49411  2016-03-28 13:41:18  \n",
       "49770  2016-04-06 02:16:02  \n",
       "49910  2016-04-05 22:18:26  \n",
       "\n",
       "[485 rows x 18 columns]"
      ]
     },
     "execution_count": 46,
     "metadata": {},
     "output_type": "execute_result"
    }
   ],
   "source": [
    "# determine outliers - cars with registration year after 2017 (the year after the data was obtained)\n",
    "autos[autos['registration_year'] > 2017]"
   ]
  },
  {
   "cell_type": "code",
   "execution_count": 47,
   "metadata": {
    "colab": {},
    "colab_type": "code",
    "executionInfo": {
     "elapsed": 3434,
     "status": "ok",
     "timestamp": 1592401296393,
     "user": {
      "displayName": "Andrew MacDonald",
      "photoUrl": "https://lh3.googleusercontent.com/a-/AOh14GiL2bfpgT6d24Ro2V3SFX0lN7sDgarNqyJ43259PhE=s64",
      "userId": "13136109802752871845"
     },
     "user_tz": 240
    },
    "id": "KEQNdq9jeLfR"
   },
   "outputs": [],
   "source": [
    "# remove outliers\n",
    "autos = autos[autos['registration_year'].between(1900,2017)]"
   ]
  },
  {
   "cell_type": "code",
   "execution_count": 48,
   "metadata": {
    "colab": {
     "base_uri": "https://localhost:8080/",
     "height": 1000
    },
    "colab_type": "code",
    "executionInfo": {
     "elapsed": 3423,
     "status": "ok",
     "timestamp": 1592401296393,
     "user": {
      "displayName": "Andrew MacDonald",
      "photoUrl": "https://lh3.googleusercontent.com/a-/AOh14GiL2bfpgT6d24Ro2V3SFX0lN7sDgarNqyJ43259PhE=s64",
      "userId": "13136109802752871845"
     },
     "user_tz": 240
    },
    "id": "XWzud4hgeLfT",
    "outputId": "14753e89-0086-4ae0-954d-255d74062ae5"
   },
   "outputs": [
    {
     "name": "stdout",
     "output_type": "stream",
     "text": [
      "1910    0.000042\n",
      "1927    0.000021\n",
      "1929    0.000021\n",
      "1931    0.000021\n",
      "1934    0.000042\n",
      "1937    0.000084\n",
      "1938    0.000021\n",
      "1939    0.000021\n",
      "1941    0.000042\n",
      "1943    0.000021\n",
      "1948    0.000021\n",
      "1950    0.000021\n",
      "1951    0.000042\n",
      "1952    0.000021\n",
      "1953    0.000021\n",
      "1954    0.000042\n",
      "1955    0.000042\n",
      "1956    0.000084\n",
      "1957    0.000042\n",
      "1958    0.000084\n",
      "1959    0.000126\n",
      "1960    0.000482\n",
      "1961    0.000126\n",
      "1962    0.000084\n",
      "1963    0.000168\n",
      "1964    0.000251\n",
      "1965    0.000356\n",
      "1966    0.000461\n",
      "1967    0.000545\n",
      "1968    0.000545\n",
      "1969    0.000398\n",
      "1970    0.000775\n",
      "1971    0.000545\n",
      "1972    0.000691\n",
      "1973    0.000503\n",
      "1974    0.000503\n",
      "1975    0.000377\n",
      "1976    0.000440\n",
      "1977    0.000461\n",
      "1978    0.000880\n",
      "1979    0.000712\n",
      "1980    0.001696\n",
      "1981    0.000586\n",
      "1982    0.000859\n",
      "1983    0.001068\n",
      "1984    0.001068\n",
      "1985    0.001969\n",
      "1986    0.001487\n",
      "1987    0.001508\n",
      "1988    0.002786\n",
      "1989    0.003581\n",
      "1990    0.006953\n",
      "1991    0.007079\n",
      "1992    0.007707\n",
      "1993    0.008796\n",
      "1994    0.013111\n",
      "1995    0.025007\n",
      "1996    0.028379\n",
      "1997    0.040317\n",
      "1998    0.049008\n",
      "1999    0.060318\n",
      "2000    0.065009\n",
      "2001    0.055082\n",
      "2002    0.051878\n",
      "2003    0.056401\n",
      "2004    0.056527\n",
      "2005    0.060967\n",
      "2006    0.055899\n",
      "2007    0.047605\n",
      "2008    0.046286\n",
      "2009    0.043584\n",
      "2010    0.033238\n",
      "2011    0.033887\n",
      "2012    0.027394\n",
      "2013    0.016776\n",
      "2014    0.013886\n",
      "2015    0.007959\n",
      "2016    0.025174\n",
      "2017    0.028986\n",
      "Name: registration_year, dtype: float64\n"
     ]
    }
   ],
   "source": [
    "with pd.option_context('display.max_rows', None, 'display.max_columns', None):  # more options can be specified also\n",
    "    print(autos['registration_year'].value_counts(normalize=True).sort_index())"
   ]
  },
  {
   "cell_type": "markdown",
   "metadata": {
    "colab_type": "text",
    "id": "WP6-1c82xJKV"
   },
   "source": [
    "### Aggregation"
   ]
  },
  {
   "cell_type": "code",
   "execution_count": 76,
   "metadata": {
    "colab": {
     "base_uri": "https://localhost:8080/",
     "height": 714
    },
    "colab_type": "code",
    "executionInfo": {
     "elapsed": 800,
     "status": "ok",
     "timestamp": 1592405869518,
     "user": {
      "displayName": "Andrew MacDonald",
      "photoUrl": "https://lh3.googleusercontent.com/a-/AOh14GiL2bfpgT6d24Ro2V3SFX0lN7sDgarNqyJ43259PhE=s64",
      "userId": "13136109802752871845"
     },
     "user_tz": 240
    },
    "id": "mr2O_fD_eLfW",
    "outputId": "b23ecc6e-ac22-44e1-f269-edf22c9d0068"
   },
   "outputs": [
    {
     "data": {
      "text/plain": [
       "volkswagen        0.212788\n",
       "bmw               0.108949\n",
       "opel              0.108007\n",
       "mercedes_benz     0.096048\n",
       "audi              0.086246\n",
       "ford              0.069805\n",
       "renault           0.047605\n",
       "peugeot           0.029593\n",
       "fiat              0.025824\n",
       "seat              0.018598\n",
       "skoda             0.016169\n",
       "nissan            0.015373\n",
       "mazda             0.015289\n",
       "smart             0.014326\n",
       "citroen           0.014137\n",
       "toyota            0.012755\n",
       "hyundai           0.009969\n",
       "sonstige_autos    0.009425\n",
       "volvo             0.009069\n",
       "mini              0.008734\n",
       "mitsubishi        0.008105\n",
       "honda             0.007938\n",
       "kia               0.007121\n",
       "alfa_romeo        0.006660\n",
       "suzuki            0.005864\n",
       "porsche           0.005843\n",
       "chevrolet         0.005613\n",
       "chrysler          0.003519\n",
       "dacia             0.002681\n",
       "daihatsu          0.002492\n",
       "jeep              0.002241\n",
       "land_rover        0.002073\n",
       "subaru            0.002073\n",
       "saab              0.001634\n",
       "daewoo            0.001550\n",
       "jaguar            0.001487\n",
       "trabant           0.001361\n",
       "rover             0.001361\n",
       "lancia            0.001110\n",
       "lada              0.000565\n",
       "Name: brand, dtype: float64"
      ]
     },
     "execution_count": 76,
     "metadata": {},
     "output_type": "execute_result"
    }
   ],
   "source": [
    "# Determine percentage of cars in dataset per brand\n",
    "brand_series = autos.brand.value_counts(normalize=True)\n",
    "brand_series"
   ]
  },
  {
   "cell_type": "code",
   "execution_count": 77,
   "metadata": {
    "colab": {},
    "colab_type": "code",
    "id": "5UBgEakWxdK3"
   },
   "outputs": [
    {
     "data": {
      "text/plain": [
       "volkswagen    0.212788\n",
       "bmw           0.108949\n",
       "opel          0.108007\n",
       "Name: brand, dtype: float64"
      ]
     },
     "execution_count": 77,
     "metadata": {},
     "output_type": "execute_result"
    }
   ],
   "source": [
    "# Create pandas series of only the brands with greater than 10% share\n",
    "brands_over_10_percent = brand_series[brand_series > 0.1]\n",
    "brands_over_10_percent"
   ]
  },
  {
   "cell_type": "code",
   "execution_count": 79,
   "metadata": {},
   "outputs": [
    {
     "data": {
      "text/plain": [
       "{'volkswagen': 6673.283562992126,\n",
       " 'bmw': 8567.470203767782,\n",
       " 'opel': 5376.428931549351}"
      ]
     },
     "execution_count": 79,
     "metadata": {},
     "output_type": "execute_result"
    }
   ],
   "source": [
    "# Create and load a dictionary of the average price for each of the top brands\n",
    "price_dict = {}\n",
    "\n",
    "for cur_brand in brands_over_10_percent.index:\n",
    "    temp_autos = autos[autos['brand'] == cur_brand]\n",
    "    price_mean = temp_autos['price'].mean()\n",
    "    price_dict[cur_brand] = price_mean\n",
    "\n",
    "price_dict"
   ]
  },
  {
   "cell_type": "code",
   "execution_count": 78,
   "metadata": {},
   "outputs": [
    {
     "data": {
      "text/plain": [
       "{'volkswagen': 2002.9902559055117,\n",
       " 'bmw': 2003.2954632833525,\n",
       " 'opel': 2002.793872406438}"
      ]
     },
     "execution_count": 78,
     "metadata": {},
     "output_type": "execute_result"
    }
   ],
   "source": [
    "# Create and load a dictionary of the average registration year for each of the top brands\n",
    "reg_dict = {}\n",
    "\n",
    "for cur_brand in brands_over_10_percent.index:\n",
    "    temp_autos = autos[autos['brand'] == cur_brand]\n",
    "    reg_mean = temp_autos['registration_year'].mean()\n",
    "    reg_dict[cur_brand] = reg_mean\n",
    "\n",
    "reg_dict"
   ]
  },
  {
   "cell_type": "code",
   "execution_count": 81,
   "metadata": {},
   "outputs": [],
   "source": [
    "# Convert dictionaries to pandas series\n",
    "price_series = pd.Series(price_dict)\n",
    "reg_series = pd.Series(reg_dict)"
   ]
  },
  {
   "cell_type": "code",
   "execution_count": 86,
   "metadata": {},
   "outputs": [
    {
     "data": {
      "text/html": [
       "<div>\n",
       "<style scoped>\n",
       "    .dataframe tbody tr th:only-of-type {\n",
       "        vertical-align: middle;\n",
       "    }\n",
       "\n",
       "    .dataframe tbody tr th {\n",
       "        vertical-align: top;\n",
       "    }\n",
       "\n",
       "    .dataframe thead th {\n",
       "        text-align: right;\n",
       "    }\n",
       "</style>\n",
       "<table border=\"1\" class=\"dataframe\">\n",
       "  <thead>\n",
       "    <tr style=\"text-align: right;\">\n",
       "      <th></th>\n",
       "      <th>avg_price</th>\n",
       "      <th>avg_reg_year</th>\n",
       "    </tr>\n",
       "  </thead>\n",
       "  <tbody>\n",
       "    <tr>\n",
       "      <th>volkswagen</th>\n",
       "      <td>6673.283563</td>\n",
       "      <td>2002.990256</td>\n",
       "    </tr>\n",
       "    <tr>\n",
       "      <th>bmw</th>\n",
       "      <td>8567.470204</td>\n",
       "      <td>2003.295463</td>\n",
       "    </tr>\n",
       "    <tr>\n",
       "      <th>opel</th>\n",
       "      <td>5376.428932</td>\n",
       "      <td>2002.793872</td>\n",
       "    </tr>\n",
       "  </tbody>\n",
       "</table>\n",
       "</div>"
      ],
      "text/plain": [
       "              avg_price  avg_reg_year\n",
       "volkswagen  6673.283563   2002.990256\n",
       "bmw         8567.470204   2003.295463\n",
       "opel        5376.428932   2002.793872"
      ]
     },
     "execution_count": 86,
     "metadata": {},
     "output_type": "execute_result"
    }
   ],
   "source": [
    "# Create pandas dataframe combining the two series\n",
    "frame = {'avg_price': price_series, 'avg_reg_year': reg_series}\n",
    "aggregate_autos = pd.DataFrame(frame)\n",
    "aggregate_autos"
   ]
  },
  {
   "cell_type": "code",
   "execution_count": null,
   "metadata": {},
   "outputs": [],
   "source": []
  }
 ],
 "metadata": {
  "colab": {
   "collapsed_sections": [
    "8wd5agWOeLd7",
    "DYPFnYgFeLeC",
    "vChDGBd5eLeK",
    "hM_OtZobeLeP",
    "ei4yfh0ZeLeT",
    "_DNqEWg4eLeX",
    "G_6ubPWseLed",
    "kFYdzTvieLeh",
    "uPdVPOXFeLer",
    "3bcxrYMYeLez",
    "YSbxdj0xeLfA",
    "LpHP3PxCeLfE",
    "5o0v7V9BeLfI",
    "0DP9qUiceLfL"
   ],
   "name": "ebay_analysis.ipynb",
   "provenance": []
  },
  "kernelspec": {
   "display_name": "Python 3",
   "language": "python",
   "name": "python3"
  },
  "language_info": {
   "codemirror_mode": {
    "name": "ipython",
    "version": 3
   },
   "file_extension": ".py",
   "mimetype": "text/x-python",
   "name": "python",
   "nbconvert_exporter": "python",
   "pygments_lexer": "ipython3",
   "version": "3.7.6"
  }
 },
 "nbformat": 4,
 "nbformat_minor": 4
}
