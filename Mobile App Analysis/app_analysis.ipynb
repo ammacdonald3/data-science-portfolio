{
 "cells": [
  {
   "cell_type": "markdown",
   "metadata": {
    "colab_type": "text",
    "id": "_l7pAJ5U2WqV"
   },
   "source": [
    "# Mobile App Profitability Analysis"
   ]
  },
  {
   "cell_type": "markdown",
   "metadata": {
    "colab_type": "text",
    "id": "_eVbtDX82WqY"
   },
   "source": [
    "### Open dataset"
   ]
  },
  {
   "cell_type": "code",
   "execution_count": 8,
   "metadata": {
    "colab": {},
    "colab_type": "code",
    "id": "4f541YcD2Wqa"
   },
   "outputs": [],
   "source": [
    "apple_opened_file = open(\"AppleStore.csv\")\n",
    "google_opened_file = open(\"googleplaystore.csv\")"
   ]
  },
  {
   "cell_type": "code",
   "execution_count": 9,
   "metadata": {
    "colab": {
     "base_uri": "https://localhost:8080/",
     "height": 122
    },
    "colab_type": "code",
    "executionInfo": {
     "elapsed": 23980,
     "status": "ok",
     "timestamp": 1582553856497,
     "user": {
      "displayName": "Andrew MacDonald",
      "photoUrl": "https://lh3.googleusercontent.com/a-/AAuE7mC5ZuArjMnEK2juELoWTHq0Kx8g_aMEAerHAPnBBXg=s64",
      "userId": "13136109802752871845"
     },
     "user_tz": 300
    },
    "id": "PYsZbDVt3KNc",
    "outputId": "b4d1a63b-c311-451d-abcd-2d169c39a17e"
   },
   "outputs": [],
   "source": [
    "#from google.colab import drive\n",
    "#drive.mount('/content/drive')\n",
    "#apple_opened_file = open('/content/drive/My Drive/Colab Notebooks/App Analysis/AppleStore.csv')\n",
    "#google_opened_file = open('/content/drive/My Drive/Colab Notebooks/App Analysis/googleplaystore.csv')"
   ]
  },
  {
   "cell_type": "code",
   "execution_count": 10,
   "metadata": {
    "colab": {},
    "colab_type": "code",
    "id": "8F0jVVtm2agL"
   },
   "outputs": [],
   "source": [
    "from csv import reader"
   ]
  },
  {
   "cell_type": "code",
   "execution_count": 11,
   "metadata": {
    "colab": {},
    "colab_type": "code",
    "id": "eASDj98E2Wqe"
   },
   "outputs": [],
   "source": [
    "apple_read_file = reader(apple_opened_file)\n",
    "apple_apps_data_with_header = list(apple_read_file)\n",
    "apple_header = apple_apps_data_with_header[0]\n",
    "apple_apps_data = apple_apps_data_with_header[1:]"
   ]
  },
  {
   "cell_type": "code",
   "execution_count": 12,
   "metadata": {
    "colab": {},
    "colab_type": "code",
    "id": "Ur4gkuQv2Wqh"
   },
   "outputs": [],
   "source": [
    "google_read_file = reader(google_opened_file)\n",
    "google_apps_data_with_header = list(google_read_file)\n",
    "google_header = google_apps_data_with_header[0]\n",
    "google_apps_data = google_apps_data_with_header[1:]"
   ]
  },
  {
   "cell_type": "markdown",
   "metadata": {
    "colab_type": "text",
    "id": "P7MuZOKz2Wql"
   },
   "source": [
    "### Perform Basic Analysis"
   ]
  },
  {
   "cell_type": "code",
   "execution_count": 13,
   "metadata": {
    "colab": {
     "base_uri": "https://localhost:8080/",
     "height": 34
    },
    "colab_type": "code",
    "executionInfo": {
     "elapsed": 29594,
     "status": "ok",
     "timestamp": 1582553862131,
     "user": {
      "displayName": "Andrew MacDonald",
      "photoUrl": "https://lh3.googleusercontent.com/a-/AAuE7mC5ZuArjMnEK2juELoWTHq0Kx8g_aMEAerHAPnBBXg=s64",
      "userId": "13136109802752871845"
     },
     "user_tz": 300
    },
    "id": "RlEWxVn62Wqm",
    "outputId": "bd718336-f98d-4eeb-c1cb-be2f6002d108"
   },
   "outputs": [
    {
     "data": {
      "text/plain": [
       "7197"
      ]
     },
     "execution_count": 13,
     "metadata": {},
     "output_type": "execute_result"
    }
   ],
   "source": [
    "# Identify length of dataset\n",
    "len(apple_apps_data)"
   ]
  },
  {
   "cell_type": "code",
   "execution_count": 14,
   "metadata": {
    "colab": {
     "base_uri": "https://localhost:8080/",
     "height": 289
    },
    "colab_type": "code",
    "executionInfo": {
     "elapsed": 29587,
     "status": "ok",
     "timestamp": 1582553862132,
     "user": {
      "displayName": "Andrew MacDonald",
      "photoUrl": "https://lh3.googleusercontent.com/a-/AAuE7mC5ZuArjMnEK2juELoWTHq0Kx8g_aMEAerHAPnBBXg=s64",
      "userId": "13136109802752871845"
     },
     "user_tz": 300
    },
    "id": "B1jM9il12Wqr",
    "outputId": "85e9cfee-2a53-4b95-bbcd-5f0859cb8db6"
   },
   "outputs": [
    {
     "data": {
      "text/plain": [
       "['id',\n",
       " 'track_name',\n",
       " 'size_bytes',\n",
       " 'currency',\n",
       " 'price',\n",
       " 'rating_count_tot',\n",
       " 'rating_count_ver',\n",
       " 'user_rating',\n",
       " 'user_rating_ver',\n",
       " 'ver',\n",
       " 'cont_rating',\n",
       " 'prime_genre',\n",
       " 'sup_devices.num',\n",
       " 'ipadSc_urls.num',\n",
       " 'lang.num',\n",
       " 'vpp_lic']"
      ]
     },
     "execution_count": 14,
     "metadata": {},
     "output_type": "execute_result"
    }
   ],
   "source": [
    "apple_header"
   ]
  },
  {
   "cell_type": "code",
   "execution_count": 15,
   "metadata": {
    "colab": {
     "base_uri": "https://localhost:8080/",
     "height": 238
    },
    "colab_type": "code",
    "executionInfo": {
     "elapsed": 29582,
     "status": "ok",
     "timestamp": 1582553862133,
     "user": {
      "displayName": "Andrew MacDonald",
      "photoUrl": "https://lh3.googleusercontent.com/a-/AAuE7mC5ZuArjMnEK2juELoWTHq0Kx8g_aMEAerHAPnBBXg=s64",
      "userId": "13136109802752871845"
     },
     "user_tz": 300
    },
    "id": "iKrpSvQW2Wqv",
    "outputId": "afd8143a-9f6c-4657-8569-ed9dee4cf854"
   },
   "outputs": [
    {
     "data": {
      "text/plain": [
       "['App',\n",
       " 'Category',\n",
       " 'Rating',\n",
       " 'Reviews',\n",
       " 'Size',\n",
       " 'Installs',\n",
       " 'Type',\n",
       " 'Price',\n",
       " 'Content Rating',\n",
       " 'Genres',\n",
       " 'Last Updated',\n",
       " 'Current Ver',\n",
       " 'Android Ver']"
      ]
     },
     "execution_count": 15,
     "metadata": {},
     "output_type": "execute_result"
    }
   ],
   "source": [
    "google_header"
   ]
  },
  {
   "cell_type": "code",
   "execution_count": 16,
   "metadata": {
    "colab": {
     "base_uri": "https://localhost:8080/",
     "height": 561
    },
    "colab_type": "code",
    "executionInfo": {
     "elapsed": 29575,
     "status": "ok",
     "timestamp": 1582553862133,
     "user": {
      "displayName": "Andrew MacDonald",
      "photoUrl": "https://lh3.googleusercontent.com/a-/AAuE7mC5ZuArjMnEK2juELoWTHq0Kx8g_aMEAerHAPnBBXg=s64",
      "userId": "13136109802752871845"
     },
     "user_tz": 300
    },
    "id": "YfGC4bw72Wqy",
    "outputId": "f8f13e13-80fd-46cd-f5f8-1baa3bf70e4c"
   },
   "outputs": [
    {
     "data": {
      "text/plain": [
       "[['284882215',\n",
       "  'Facebook',\n",
       "  '389879808',\n",
       "  'USD',\n",
       "  '0.0',\n",
       "  '2974676',\n",
       "  '212',\n",
       "  '3.5',\n",
       "  '3.5',\n",
       "  '95.0',\n",
       "  '4+',\n",
       "  'Social Networking',\n",
       "  '37',\n",
       "  '1',\n",
       "  '29',\n",
       "  '1'],\n",
       " ['389801252',\n",
       "  'Instagram',\n",
       "  '113954816',\n",
       "  'USD',\n",
       "  '0.0',\n",
       "  '2161558',\n",
       "  '1289',\n",
       "  '4.5',\n",
       "  '4.0',\n",
       "  '10.23',\n",
       "  '12+',\n",
       "  'Photo & Video',\n",
       "  '37',\n",
       "  '0',\n",
       "  '29',\n",
       "  '1']]"
      ]
     },
     "execution_count": 16,
     "metadata": {},
     "output_type": "execute_result"
    }
   ],
   "source": [
    "# Print first few rows\n",
    "apple_apps_data[:2]"
   ]
  },
  {
   "cell_type": "code",
   "execution_count": 17,
   "metadata": {
    "colab": {
     "base_uri": "https://localhost:8080/",
     "height": 459
    },
    "colab_type": "code",
    "executionInfo": {
     "elapsed": 539,
     "status": "ok",
     "timestamp": 1582555969726,
     "user": {
      "displayName": "Andrew MacDonald",
      "photoUrl": "https://lh3.googleusercontent.com/a-/AAuE7mC5ZuArjMnEK2juELoWTHq0Kx8g_aMEAerHAPnBBXg=s64",
      "userId": "13136109802752871845"
     },
     "user_tz": 300
    },
    "id": "yLbHhoLqr5dq",
    "outputId": "49f8511e-e528-4d40-8390-c255a0d8dd3f"
   },
   "outputs": [
    {
     "data": {
      "text/plain": [
       "[['Photo Editor & Candy Camera & Grid & ScrapBook',\n",
       "  'ART_AND_DESIGN',\n",
       "  '4.1',\n",
       "  '159',\n",
       "  '19M',\n",
       "  '10,000+',\n",
       "  'Free',\n",
       "  '0',\n",
       "  'Everyone',\n",
       "  'Art & Design',\n",
       "  'January 7, 2018',\n",
       "  '1.0.0',\n",
       "  '4.0.3 and up'],\n",
       " ['Coloring book moana',\n",
       "  'ART_AND_DESIGN',\n",
       "  '3.9',\n",
       "  '967',\n",
       "  '14M',\n",
       "  '500,000+',\n",
       "  'Free',\n",
       "  '0',\n",
       "  'Everyone',\n",
       "  'Art & Design;Pretend Play',\n",
       "  'January 15, 2018',\n",
       "  '2.0.0',\n",
       "  '4.0.3 and up']]"
      ]
     },
     "execution_count": 17,
     "metadata": {},
     "output_type": "execute_result"
    }
   ],
   "source": [
    "# Print first few rows\n",
    "google_apps_data[:2]"
   ]
  },
  {
   "cell_type": "code",
   "execution_count": 18,
   "metadata": {
    "colab": {},
    "colab_type": "code",
    "id": "41Wkmawn2Wq1"
   },
   "outputs": [],
   "source": [
    "# Print all rows\n",
    "#for row in apple_apps_data:\n",
    "#    print(row)"
   ]
  },
  {
   "cell_type": "markdown",
   "metadata": {
    "colab_type": "text",
    "id": "oH2NB5aw2Wq4"
   },
   "source": [
    "### Filter Dataset to First Few Rows for Initial Analysis"
   ]
  },
  {
   "cell_type": "code",
   "execution_count": 19,
   "metadata": {
    "colab": {},
    "colab_type": "code",
    "id": "IPtoZlXh2Wq6"
   },
   "outputs": [],
   "source": [
    "filtered_data = apple_apps_data[:5]"
   ]
  },
  {
   "cell_type": "code",
   "execution_count": 20,
   "metadata": {
    "colab": {
     "base_uri": "https://localhost:8080/",
     "height": 34
    },
    "colab_type": "code",
    "executionInfo": {
     "elapsed": 29567,
     "status": "ok",
     "timestamp": 1582553862135,
     "user": {
      "displayName": "Andrew MacDonald",
      "photoUrl": "https://lh3.googleusercontent.com/a-/AAuE7mC5ZuArjMnEK2juELoWTHq0Kx8g_aMEAerHAPnBBXg=s64",
      "userId": "13136109802752871845"
     },
     "user_tz": 300
    },
    "id": "TjRdq_jO2Wq9",
    "outputId": "7e7a991f-83ad-41fb-8896-3895d4bba8f7"
   },
   "outputs": [
    {
     "name": "stdout",
     "output_type": "stream",
     "text": [
      "4.2\n"
     ]
    }
   ],
   "source": [
    "# Compute the average app rating\n",
    "count = 0\n",
    "rating_sum = 0\n",
    "\n",
    "for row in filtered_data:\n",
    "    rating = float(row[7])\n",
    "    rating_sum += rating\n",
    "    count += 1\n",
    "    \n",
    "avg_rating = rating_sum / count\n",
    "\n",
    "print(avg_rating)"
   ]
  },
  {
   "cell_type": "markdown",
   "metadata": {
    "colab_type": "text",
    "id": "AQn8Z2vE2WrA"
   },
   "source": [
    "### Compute Average Rating for Entire Dataset"
   ]
  },
  {
   "cell_type": "code",
   "execution_count": 21,
   "metadata": {
    "colab": {
     "base_uri": "https://localhost:8080/",
     "height": 34
    },
    "colab_type": "code",
    "executionInfo": {
     "elapsed": 29562,
     "status": "ok",
     "timestamp": 1582553862136,
     "user": {
      "displayName": "Andrew MacDonald",
      "photoUrl": "https://lh3.googleusercontent.com/a-/AAuE7mC5ZuArjMnEK2juELoWTHq0Kx8g_aMEAerHAPnBBXg=s64",
      "userId": "13136109802752871845"
     },
     "user_tz": 300
    },
    "id": "Z00tvA-N2WrB",
    "outputId": "82330e0f-4eb9-49af-9d47-7479260fb321"
   },
   "outputs": [
    {
     "name": "stdout",
     "output_type": "stream",
     "text": [
      "3.526955675976101\n"
     ]
    }
   ],
   "source": [
    "# Compute the average app rating\n",
    "count = 0\n",
    "rating_sum = 0\n",
    "\n",
    "for row in apple_apps_data:\n",
    "    rating = float(row[7])\n",
    "    rating_sum += rating\n",
    "    count += 1\n",
    "    \n",
    "avg_rating = rating_sum / count\n",
    "\n",
    "print(avg_rating)"
   ]
  },
  {
   "cell_type": "code",
   "execution_count": 22,
   "metadata": {
    "colab": {
     "base_uri": "https://localhost:8080/",
     "height": 34
    },
    "colab_type": "code",
    "executionInfo": {
     "elapsed": 29557,
     "status": "ok",
     "timestamp": 1582553862137,
     "user": {
      "displayName": "Andrew MacDonald",
      "photoUrl": "https://lh3.googleusercontent.com/a-/AAuE7mC5ZuArjMnEK2juELoWTHq0Kx8g_aMEAerHAPnBBXg=s64",
      "userId": "13136109802752871845"
     },
     "user_tz": 300
    },
    "id": "jWcHLVBl2WrE",
    "outputId": "a0d47670-1a7e-45a0-a058-5612c06c3fd1"
   },
   "outputs": [
    {
     "name": "stdout",
     "output_type": "stream",
     "text": [
      "3.526955675976101\n"
     ]
    }
   ],
   "source": [
    "# Alternative method to compute the average app rating\n",
    "all_ratings = []\n",
    "\n",
    "for app in apple_apps_data:\n",
    "    rating = float(app[7])\n",
    "    all_ratings.append(rating)\n",
    "\n",
    "avg_rating = sum(all_ratings) / len(all_ratings)\n",
    "\n",
    "print(avg_rating)"
   ]
  },
  {
   "cell_type": "markdown",
   "metadata": {
    "colab_type": "text",
    "id": "WQMCm3zf2WrH"
   },
   "source": [
    "### Compute Average Rating for Free Apps and Non-Free Apps"
   ]
  },
  {
   "cell_type": "code",
   "execution_count": 23,
   "metadata": {
    "colab": {
     "base_uri": "https://localhost:8080/",
     "height": 34
    },
    "colab_type": "code",
    "executionInfo": {
     "elapsed": 29553,
     "status": "ok",
     "timestamp": 1582553862138,
     "user": {
      "displayName": "Andrew MacDonald",
      "photoUrl": "https://lh3.googleusercontent.com/a-/AAuE7mC5ZuArjMnEK2juELoWTHq0Kx8g_aMEAerHAPnBBXg=s64",
      "userId": "13136109802752871845"
     },
     "user_tz": 300
    },
    "id": "Z2pMuOqC2WrH",
    "outputId": "637ff362-c571-4747-c5bd-2cfee016665e"
   },
   "outputs": [
    {
     "name": "stdout",
     "output_type": "stream",
     "text": [
      "3.3767258382642997\n"
     ]
    }
   ],
   "source": [
    "# Compute the average app rating for free apps\n",
    "free_apps_ratings = []\n",
    "\n",
    "for app in apple_apps_data:\n",
    "    rating = float(app[7])\n",
    "    price = float(app[4])\n",
    "    if price == 0.0:\n",
    "        free_apps_ratings.append(rating)\n",
    "\n",
    "avg_rating_free = sum(free_apps_ratings) / len(free_apps_ratings)\n",
    "\n",
    "print(avg_rating_free)"
   ]
  },
  {
   "cell_type": "code",
   "execution_count": 24,
   "metadata": {
    "colab": {
     "base_uri": "https://localhost:8080/",
     "height": 34
    },
    "colab_type": "code",
    "executionInfo": {
     "elapsed": 29548,
     "status": "ok",
     "timestamp": 1582553862139,
     "user": {
      "displayName": "Andrew MacDonald",
      "photoUrl": "https://lh3.googleusercontent.com/a-/AAuE7mC5ZuArjMnEK2juELoWTHq0Kx8g_aMEAerHAPnBBXg=s64",
      "userId": "13136109802752871845"
     },
     "user_tz": 300
    },
    "id": "crkKuYGF2WrM",
    "outputId": "d8443452-f2f7-4e0b-ca94-7dd420528f09"
   },
   "outputs": [
    {
     "name": "stdout",
     "output_type": "stream",
     "text": [
      "3.3767258382642997\n"
     ]
    }
   ],
   "source": [
    "# Compute the average app rating for non-free apps\n",
    "non_free_apps_ratings = []\n",
    "\n",
    "for app in apple_apps_data:\n",
    "    rating = float(app[7])\n",
    "    price = float(app[4])\n",
    "    if price == 0.0:\n",
    "        non_free_apps_ratings.append(rating)\n",
    "\n",
    "avg_rating_non_free = sum(non_free_apps_ratings) / len(non_free_apps_ratings)\n",
    "\n",
    "print(avg_rating_non_free)"
   ]
  },
  {
   "cell_type": "markdown",
   "metadata": {
    "colab_type": "text",
    "id": "aDqakh612WrQ"
   },
   "source": [
    "### Compute Average Rating for Specific Genres"
   ]
  },
  {
   "cell_type": "code",
   "execution_count": 25,
   "metadata": {
    "colab": {
     "base_uri": "https://localhost:8080/",
     "height": 34
    },
    "colab_type": "code",
    "executionInfo": {
     "elapsed": 29841,
     "status": "ok",
     "timestamp": 1582553862437,
     "user": {
      "displayName": "Andrew MacDonald",
      "photoUrl": "https://lh3.googleusercontent.com/a-/AAuE7mC5ZuArjMnEK2juELoWTHq0Kx8g_aMEAerHAPnBBXg=s64",
      "userId": "13136109802752871845"
     },
     "user_tz": 300
    },
    "id": "ynbkm0nf2WrR",
    "outputId": "3898554b-f644-4b16-fbb0-ccdfb29a6dbc"
   },
   "outputs": [
    {
     "name": "stdout",
     "output_type": "stream",
     "text": [
      "3.343928035982009\n"
     ]
    }
   ],
   "source": [
    "# Compute the average app rating for non-gaming apps\n",
    "non_games_ratings = []\n",
    "\n",
    "for app in apple_apps_data:\n",
    "    rating = float(app[7])\n",
    "    genre = app[11]\n",
    "    if genre != 'Games':\n",
    "        non_games_ratings.append(rating)\n",
    "\n",
    "avg_rating_non_games = sum(non_games_ratings) / len(non_games_ratings)\n",
    "\n",
    "print(avg_rating_non_games)"
   ]
  },
  {
   "cell_type": "markdown",
   "metadata": {
    "colab_type": "text",
    "id": "NPwiY7Wd2WrU"
   },
   "source": [
    "### Compute Average Rating for Free Games"
   ]
  },
  {
   "cell_type": "code",
   "execution_count": 26,
   "metadata": {
    "colab": {
     "base_uri": "https://localhost:8080/",
     "height": 34
    },
    "colab_type": "code",
    "executionInfo": {
     "elapsed": 29836,
     "status": "ok",
     "timestamp": 1582553862438,
     "user": {
      "displayName": "Andrew MacDonald",
      "photoUrl": "https://lh3.googleusercontent.com/a-/AAuE7mC5ZuArjMnEK2juELoWTHq0Kx8g_aMEAerHAPnBBXg=s64",
      "userId": "13136109802752871845"
     },
     "user_tz": 300
    },
    "id": "HD82z3yx2WrV",
    "outputId": "6e853b0b-6a1f-4a6e-89e8-3eae820d71e6"
   },
   "outputs": [
    {
     "name": "stdout",
     "output_type": "stream",
     "text": [
      "3.5285777580859548\n"
     ]
    }
   ],
   "source": [
    "# Compute the average app rating for free games\n",
    "free_games_ratings = []\n",
    "\n",
    "for game in apple_apps_data:\n",
    "    price = float(game[4])\n",
    "    rating = float(game[7])\n",
    "    genre = game[11]\n",
    "    if genre == 'Games' and price == 0.0:\n",
    "        free_games_ratings.append(rating)\n",
    "\n",
    "avg_rating_free_games = sum(free_games_ratings) / len(free_games_ratings)\n",
    "\n",
    "print(avg_rating_free_games)"
   ]
  },
  {
   "cell_type": "markdown",
   "metadata": {
    "colab_type": "text",
    "id": "dsTnwvpY2WrY"
   },
   "source": [
    "### Compute Average Rating for Social Media Apps and Games"
   ]
  },
  {
   "cell_type": "code",
   "execution_count": 27,
   "metadata": {
    "colab": {
     "base_uri": "https://localhost:8080/",
     "height": 34
    },
    "colab_type": "code",
    "executionInfo": {
     "elapsed": 29830,
     "status": "ok",
     "timestamp": 1582553862438,
     "user": {
      "displayName": "Andrew MacDonald",
      "photoUrl": "https://lh3.googleusercontent.com/a-/AAuE7mC5ZuArjMnEK2juELoWTHq0Kx8g_aMEAerHAPnBBXg=s64",
      "userId": "13136109802752871845"
     },
     "user_tz": 300
    },
    "id": "fLwurjxm2WrZ",
    "outputId": "a6bbff7b-cce0-4bed-8f27-9e0ba583eaa6"
   },
   "outputs": [
    {
     "name": "stdout",
     "output_type": "stream",
     "text": [
      "3.655994043186895\n"
     ]
    }
   ],
   "source": [
    "# Compute the average app rating for social media apps and games\n",
    "games_social_ratings = []\n",
    "\n",
    "for game in apple_apps_data:\n",
    "    rating = float(game[7])\n",
    "    genre = game[11]\n",
    "    if genre in ('Social Networking', 'Games'):\n",
    "        games_social_ratings.append(rating)\n",
    "    \n",
    "avg_games_social = sum(games_social_ratings) / len(games_social_ratings)\n",
    "\n",
    "print(avg_games_social)"
   ]
  },
  {
   "cell_type": "code",
   "execution_count": 28,
   "metadata": {
    "colab": {
     "base_uri": "https://localhost:8080/",
     "height": 34
    },
    "colab_type": "code",
    "executionInfo": {
     "elapsed": 29826,
     "status": "ok",
     "timestamp": 1582553862439,
     "user": {
      "displayName": "Andrew MacDonald",
      "photoUrl": "https://lh3.googleusercontent.com/a-/AAuE7mC5ZuArjMnEK2juELoWTHq0Kx8g_aMEAerHAPnBBXg=s64",
      "userId": "13136109802752871845"
     },
     "user_tz": 300
    },
    "id": "T36QMJqV2Wrd",
    "outputId": "b6a31b92-9123-4915-e8c0-9bc9c068a6e1"
   },
   "outputs": [
    {
     "name": "stdout",
     "output_type": "stream",
     "text": [
      "3.8904235727440146\n"
     ]
    }
   ],
   "source": [
    "# Compute the average app rating for social media apps and games that are not free\n",
    "app_list = []\n",
    "\n",
    "for app in apple_apps_data:\n",
    "    price = float(app[4])\n",
    "    rating = float(app[7])\n",
    "    genre = app[11]\n",
    "    if (genre == 'Social Networking' or genre == 'Games') and price != 0.0:\n",
    "        app_list.append(rating)\n",
    "\n",
    "avg_non_free = sum(app_list) / len(app_list)\n",
    "\n",
    "print(avg_non_free)"
   ]
  },
  {
   "cell_type": "markdown",
   "metadata": {
    "colab_type": "text",
    "id": "tZo0pT1G2Wrh"
   },
   "source": [
    "### Compute Ratings Based on Price"
   ]
  },
  {
   "cell_type": "code",
   "execution_count": 29,
   "metadata": {
    "colab": {
     "base_uri": "https://localhost:8080/",
     "height": 85
    },
    "colab_type": "code",
    "executionInfo": {
     "elapsed": 29820,
     "status": "ok",
     "timestamp": 1582553862439,
     "user": {
      "displayName": "Andrew MacDonald",
      "photoUrl": "https://lh3.googleusercontent.com/a-/AAuE7mC5ZuArjMnEK2juELoWTHq0Kx8g_aMEAerHAPnBBXg=s64",
      "userId": "13136109802752871845"
     },
     "user_tz": 300
    },
    "id": "F59lH9JA2Wri",
    "outputId": "c2cc383b-68da-45c5-bfce-4efc22559360"
   },
   "outputs": [
    {
     "name": "stdout",
     "output_type": "stream",
     "text": [
      "178\n",
      "7019\n",
      "19.872022471910043\n",
      "1.2660450206581433\n"
     ]
    }
   ],
   "source": [
    "# Compute average ratings for apps above / below $9\n",
    "above_nine = []\n",
    "below_equal_nine = []\n",
    "\n",
    "for app in apple_apps_data:\n",
    "    price = float(app[4])\n",
    "    if price > 9:\n",
    "        above_nine.append(price)\n",
    "    else:\n",
    "        below_equal_nine.append(price)\n",
    "\n",
    "count_above_nine = len(above_nine)\n",
    "count_below_equal_nine = len(below_equal_nine)\n",
    "avg_price_above_nine = sum(above_nine) / len(above_nine)\n",
    "avg_price_below_equal_nine = sum(below_equal_nine) / len(below_equal_nine)\n",
    "\n",
    "print(count_above_nine)\n",
    "print(count_below_equal_nine)\n",
    "print(avg_price_above_nine)\n",
    "print(avg_price_below_equal_nine)\n"
   ]
  },
  {
   "cell_type": "markdown",
   "metadata": {
    "colab_type": "text",
    "id": "3P_Pbr-32Wrk"
   },
   "source": [
    "### Flag Apps as Free / Non-Free"
   ]
  },
  {
   "cell_type": "code",
   "execution_count": 30,
   "metadata": {
    "colab": {
     "base_uri": "https://localhost:8080/",
     "height": 1000
    },
    "colab_type": "code",
    "executionInfo": {
     "elapsed": 29816,
     "status": "ok",
     "timestamp": 1582553862441,
     "user": {
      "displayName": "Andrew MacDonald",
      "photoUrl": "https://lh3.googleusercontent.com/a-/AAuE7mC5ZuArjMnEK2juELoWTHq0Kx8g_aMEAerHAPnBBXg=s64",
      "userId": "13136109802752871845"
     },
     "user_tz": 300
    },
    "id": "4MkdEUd62Wrl",
    "outputId": "f8b7cbdb-e51e-495e-e117-264a3c1d4fec"
   },
   "outputs": [
    {
     "data": {
      "text/plain": [
       "[['284882215',\n",
       "  'Facebook',\n",
       "  '389879808',\n",
       "  'USD',\n",
       "  '0.0',\n",
       "  '2974676',\n",
       "  '212',\n",
       "  '3.5',\n",
       "  '3.5',\n",
       "  '95.0',\n",
       "  '4+',\n",
       "  'Social Networking',\n",
       "  '37',\n",
       "  '1',\n",
       "  '29',\n",
       "  '1',\n",
       "  'free'],\n",
       " ['389801252',\n",
       "  'Instagram',\n",
       "  '113954816',\n",
       "  'USD',\n",
       "  '0.0',\n",
       "  '2161558',\n",
       "  '1289',\n",
       "  '4.5',\n",
       "  '4.0',\n",
       "  '10.23',\n",
       "  '12+',\n",
       "  'Photo & Video',\n",
       "  '37',\n",
       "  '0',\n",
       "  '29',\n",
       "  '1',\n",
       "  'free'],\n",
       " ['529479190',\n",
       "  'Clash of Clans',\n",
       "  '116476928',\n",
       "  'USD',\n",
       "  '0.0',\n",
       "  '2130805',\n",
       "  '579',\n",
       "  '4.5',\n",
       "  '4.5',\n",
       "  '9.24.12',\n",
       "  '9+',\n",
       "  'Games',\n",
       "  '38',\n",
       "  '5',\n",
       "  '18',\n",
       "  '1',\n",
       "  'free'],\n",
       " ['420009108',\n",
       "  'Temple Run',\n",
       "  '65921024',\n",
       "  'USD',\n",
       "  '0.0',\n",
       "  '1724546',\n",
       "  '3842',\n",
       "  '4.5',\n",
       "  '4.0',\n",
       "  '1.6.2',\n",
       "  '9+',\n",
       "  'Games',\n",
       "  '40',\n",
       "  '5',\n",
       "  '1',\n",
       "  '1',\n",
       "  'free'],\n",
       " ['284035177',\n",
       "  'Pandora - Music & Radio',\n",
       "  '130242560',\n",
       "  'USD',\n",
       "  '0.0',\n",
       "  '1126879',\n",
       "  '3594',\n",
       "  '4.0',\n",
       "  '4.5',\n",
       "  '8.4.1',\n",
       "  '12+',\n",
       "  'Music',\n",
       "  '37',\n",
       "  '4',\n",
       "  '1',\n",
       "  '1',\n",
       "  'free'],\n",
       " ['429047995',\n",
       "  'Pinterest',\n",
       "  '74778624',\n",
       "  'USD',\n",
       "  '0.0',\n",
       "  '1061624',\n",
       "  '1814',\n",
       "  '4.5',\n",
       "  '4.0',\n",
       "  '6.26',\n",
       "  '12+',\n",
       "  'Social Networking',\n",
       "  '37',\n",
       "  '5',\n",
       "  '27',\n",
       "  '1',\n",
       "  'free']]"
      ]
     },
     "execution_count": 30,
     "metadata": {},
     "output_type": "execute_result"
    }
   ],
   "source": [
    "for app in apple_apps_data:\n",
    "    price = float(app[4])\n",
    "    if price == 0.0:\n",
    "        app.append('free')\n",
    "    else:\n",
    "        app.append('non-free')\n",
    "\n",
    "apple_apps_data[:6]"
   ]
  },
  {
   "cell_type": "markdown",
   "metadata": {
    "colab_type": "text",
    "id": "JIQBWwB22Wro"
   },
   "source": [
    "### Flag Apps with Granular Pricing Category"
   ]
  },
  {
   "cell_type": "code",
   "execution_count": 31,
   "metadata": {
    "colab": {
     "base_uri": "https://localhost:8080/",
     "height": 935
    },
    "colab_type": "code",
    "executionInfo": {
     "elapsed": 29811,
     "status": "ok",
     "timestamp": 1582553862442,
     "user": {
      "displayName": "Andrew MacDonald",
      "photoUrl": "https://lh3.googleusercontent.com/a-/AAuE7mC5ZuArjMnEK2juELoWTHq0Kx8g_aMEAerHAPnBBXg=s64",
      "userId": "13136109802752871845"
     },
     "user_tz": 300
    },
    "id": "aKUKxGXG2Wro",
    "outputId": "8737e6c3-5cac-40ac-8c40-d4abbcd27c42"
   },
   "outputs": [
    {
     "data": {
      "text/plain": [
       "[['284882215',\n",
       "  'Facebook',\n",
       "  '389879808',\n",
       "  'USD',\n",
       "  '0.0',\n",
       "  '2974676',\n",
       "  '212',\n",
       "  '3.5',\n",
       "  '3.5',\n",
       "  '95.0',\n",
       "  '4+',\n",
       "  'Social Networking',\n",
       "  '37',\n",
       "  '1',\n",
       "  '29',\n",
       "  '1',\n",
       "  'free',\n",
       "  'free'],\n",
       " ['389801252',\n",
       "  'Instagram',\n",
       "  '113954816',\n",
       "  'USD',\n",
       "  '0.0',\n",
       "  '2161558',\n",
       "  '1289',\n",
       "  '4.5',\n",
       "  '4.0',\n",
       "  '10.23',\n",
       "  '12+',\n",
       "  'Photo & Video',\n",
       "  '37',\n",
       "  '0',\n",
       "  '29',\n",
       "  '1',\n",
       "  'free',\n",
       "  'free'],\n",
       " ['529479190',\n",
       "  'Clash of Clans',\n",
       "  '116476928',\n",
       "  'USD',\n",
       "  '0.0',\n",
       "  '2130805',\n",
       "  '579',\n",
       "  '4.5',\n",
       "  '4.5',\n",
       "  '9.24.12',\n",
       "  '9+',\n",
       "  'Games',\n",
       "  '38',\n",
       "  '5',\n",
       "  '18',\n",
       "  '1',\n",
       "  'free',\n",
       "  'free']]"
      ]
     },
     "execution_count": 31,
     "metadata": {},
     "output_type": "execute_result"
    }
   ],
   "source": [
    "for app in apple_apps_data:\n",
    "    price = float(app[4])\n",
    "    if price <= 0.0:\n",
    "        app.append('free')\n",
    "    elif price < 20:\n",
    "        app.append('affordable')\n",
    "    elif price < 50:\n",
    "        app.append('expensive')\n",
    "    else:\n",
    "        app.append('very expensive')\n",
    "\n",
    "apple_apps_data[:3]"
   ]
  },
  {
   "cell_type": "code",
   "execution_count": 32,
   "metadata": {
    "colab": {
     "base_uri": "https://localhost:8080/",
     "height": 156
    },
    "colab_type": "code",
    "executionInfo": {
     "elapsed": 29806,
     "status": "ok",
     "timestamp": 1582553862442,
     "user": {
      "displayName": "Andrew MacDonald",
      "photoUrl": "https://lh3.googleusercontent.com/a-/AAuE7mC5ZuArjMnEK2juELoWTHq0Kx8g_aMEAerHAPnBBXg=s64",
      "userId": "13136109802752871845"
     },
     "user_tz": 300
    },
    "id": "cUwVchRR2Wrr",
    "outputId": "b9be8b8f-7af4-4810-faa7-da5b7c4fe657"
   },
   "outputs": [
    {
     "name": "stdout",
     "output_type": "stream",
     "text": [
      "['320279293', 'NAVIGON Europe', '144412672', 'USD', '74.99', '927', '3', '3.5', '2.5', '2.17', '4+', 'Navigation', '37', '2', '21', '1', 'non-free', 'very expensive']\n",
      "['308368164', 'Proloquo2Go - Symbol-based AAC', '723764224', 'USD', '249.99', '773', '10', '4.0', '3.5', '5.0.1', '4+', 'Education', '37', '5', '3', '1', 'non-free', 'very expensive']\n",
      "['491998279', 'Articulation Station Pro', '425919488', 'USD', '59.99', '294', '130', '4.5', '5.0', '2.2.3', '4+', 'Education', '38', '5', '1', '1', 'non-free', 'very expensive']\n",
      "['946930094', 'FineScanner Pro - PDF Document Scanner App + OCR', '63974400', 'USD', '59.99', '100', '4', '4.0', '4.5', '6.2.5', '4+', 'Business', '37', '5', '12', '1', 'non-free', 'very expensive']\n",
      "['849732663', 'KNFB Reader', '106429440', 'USD', '99.99', '71', '0', '4.5', '0.0', '2.7.3', '4+', 'Productivity', '37', '5', '14', '1', 'non-free', 'very expensive']\n",
      "['551215116', 'LAMP Words For Life', '583263232', 'USD', '299.99', '41', '0', '4.0', '0.0', '1.5.5', '4+', 'Education', '24', '5', '1', '1', 'non-free', 'very expensive']\n",
      "['700440156', 'Articulation Test Center Pro', '174737408', 'USD', '59.99', '29', '0', '4.5', '0.0', '2.6', '4+', 'Education', '24', '5', '1', '1', 'non-free', 'very expensive']\n"
     ]
    }
   ],
   "source": [
    "for app in apple_apps_data:\n",
    "    if app[-1] == 'very expensive':\n",
    "        print(app)"
   ]
  },
  {
   "cell_type": "markdown",
   "metadata": {
    "colab_type": "text",
    "id": "_mbKCUYj2Wrv"
   },
   "source": [
    "### Crate Frequency Table of Unique Apps per Rating"
   ]
  },
  {
   "cell_type": "code",
   "execution_count": 33,
   "metadata": {
    "colab": {
     "base_uri": "https://localhost:8080/",
     "height": 34
    },
    "colab_type": "code",
    "executionInfo": {
     "elapsed": 29801,
     "status": "ok",
     "timestamp": 1582553862443,
     "user": {
      "displayName": "Andrew MacDonald",
      "photoUrl": "https://lh3.googleusercontent.com/a-/AAuE7mC5ZuArjMnEK2juELoWTHq0Kx8g_aMEAerHAPnBBXg=s64",
      "userId": "13136109802752871845"
     },
     "user_tz": 300
    },
    "id": "RGWwRQ4j2Wrw",
    "outputId": "2273d2f5-be2c-4111-c671-a9d9202881ee"
   },
   "outputs": [
    {
     "name": "stdout",
     "output_type": "stream",
     "text": [
      "{'4+': 4433, '12+': 1155, '9+': 987, '17+': 622}\n"
     ]
    }
   ],
   "source": [
    "# Create empty dict that will contain frequencies\n",
    "rating_dict = {}\n",
    "\n",
    "# Loop through apps and add to dict depending on rating\n",
    "for app in apple_apps_data:\n",
    "    rating = app[10]\n",
    "    if rating in rating_dict:\n",
    "        rating_dict[rating] += 1\n",
    "    else:\n",
    "        rating_dict[rating] = 1\n",
    "\n",
    "# Display frequency table\n",
    "print(rating_dict)"
   ]
  },
  {
   "cell_type": "code",
   "execution_count": 34,
   "metadata": {
    "colab": {
     "base_uri": "https://localhost:8080/",
     "height": 34
    },
    "colab_type": "code",
    "executionInfo": {
     "elapsed": 29794,
     "status": "ok",
     "timestamp": 1582553862443,
     "user": {
      "displayName": "Andrew MacDonald",
      "photoUrl": "https://lh3.googleusercontent.com/a-/AAuE7mC5ZuArjMnEK2juELoWTHq0Kx8g_aMEAerHAPnBBXg=s64",
      "userId": "13136109802752871845"
     },
     "user_tz": 300
    },
    "id": "s6Necd6H2Wrz",
    "outputId": "1f91f765-b6d6-4b15-e6cf-04f164b09bee"
   },
   "outputs": [
    {
     "name": "stdout",
     "output_type": "stream",
     "text": [
      "{'4+': '61.6%', '12+': '16.05%', '9+': '13.71%', '17+': '8.64%'}\n"
     ]
    }
   ],
   "source": [
    "# Create empty dict that will contain frequencies\n",
    "rating_dict = {}\n",
    "count = 0\n",
    "\n",
    "# Loop through apps and add to dict depending on rating\n",
    "for app in apple_apps_data:\n",
    "    count += 1\n",
    "    rating = app[10]\n",
    "    if rating in rating_dict:\n",
    "        rating_dict[rating] += 1\n",
    "    else:\n",
    "        rating_dict[rating] = 1\n",
    "\n",
    "for rating_level in rating_dict:\n",
    "    rating_dict[rating_level] = str(round((rating_dict[rating_level] / count) * 100, 2)) + '%'\n",
    "\n",
    "# Display frequency table\n",
    "print(rating_dict)"
   ]
  },
  {
   "cell_type": "code",
   "execution_count": 35,
   "metadata": {
    "colab": {
     "base_uri": "https://localhost:8080/",
     "height": 51
    },
    "colab_type": "code",
    "executionInfo": {
     "elapsed": 29790,
     "status": "ok",
     "timestamp": 1582553862444,
     "user": {
      "displayName": "Andrew MacDonald",
      "photoUrl": "https://lh3.googleusercontent.com/a-/AAuE7mC5ZuArjMnEK2juELoWTHq0Kx8g_aMEAerHAPnBBXg=s64",
      "userId": "13136109802752871845"
     },
     "user_tz": 300
    },
    "id": "y6C_ueLs2Wr2",
    "outputId": "9ef24112-bc37-4ae0-fdde-2df48cb99a82"
   },
   "outputs": [
    {
     "name": "stdout",
     "output_type": "stream",
     "text": [
      "{'4+': 4433, '12+': 1155, '9+': 987, '17+': 622}\n",
      "{'4+': '61.6%', '12+': '16.05%', '9+': '13.71%', '17+': '8.64%'}\n"
     ]
    }
   ],
   "source": [
    "# Create empty dict that will contain frequencies\n",
    "rating_dict = {}\n",
    "rating_percent = {}\n",
    "count = 0\n",
    "\n",
    "# Loop through apps and add to dict depending on rating\n",
    "for app in apple_apps_data:\n",
    "    count += 1\n",
    "    rating = app[10]\n",
    "    if rating in rating_dict:\n",
    "        rating_dict[rating] += 1\n",
    "    else:\n",
    "        rating_dict[rating] = 1\n",
    "\n",
    "for rating_level in rating_dict:\n",
    "    rating_percent[rating_level] = str(round((rating_dict[rating_level] / count) * 100, 2)) + '%'\n",
    "\n",
    "# Display frequency table\n",
    "print(rating_dict)\n",
    "print(rating_percent)"
   ]
  },
  {
   "cell_type": "markdown",
   "metadata": {
    "colab_type": "text",
    "id": "9p5QrWmK2Wr4"
   },
   "source": [
    "### Create Custom Frequency Table Based on App Size"
   ]
  },
  {
   "cell_type": "code",
   "execution_count": 36,
   "metadata": {
    "colab": {
     "base_uri": "https://localhost:8080/",
     "height": 51
    },
    "colab_type": "code",
    "executionInfo": {
     "elapsed": 29784,
     "status": "ok",
     "timestamp": 1582553862444,
     "user": {
      "displayName": "Andrew MacDonald",
      "photoUrl": "https://lh3.googleusercontent.com/a-/AAuE7mC5ZuArjMnEK2juELoWTHq0Kx8g_aMEAerHAPnBBXg=s64",
      "userId": "13136109802752871845"
     },
     "user_tz": 300
    },
    "id": "DxiHABmp2Wr5",
    "outputId": "e25a0b5a-d6db-4236-ff3e-20b0288802fa"
   },
   "outputs": [
    {
     "name": "stdout",
     "output_type": "stream",
     "text": [
      "589824.0\n",
      "4025969664.0\n"
     ]
    }
   ],
   "source": [
    "data_sizes = []\n",
    "\n",
    "for app in apple_apps_data:\n",
    "    size = float(app[2])\n",
    "    data_sizes.append(size)\n",
    "\n",
    "min_size = min(data_sizes)\n",
    "max_size = max(data_sizes)\n",
    "\n",
    "print(min_size)\n",
    "print(max_size)"
   ]
  },
  {
   "cell_type": "code",
   "execution_count": 37,
   "metadata": {
    "colab": {
     "base_uri": "https://localhost:8080/",
     "height": 34
    },
    "colab_type": "code",
    "executionInfo": {
     "elapsed": 29779,
     "status": "ok",
     "timestamp": 1582553862444,
     "user": {
      "displayName": "Andrew MacDonald",
      "photoUrl": "https://lh3.googleusercontent.com/a-/AAuE7mC5ZuArjMnEK2juELoWTHq0Kx8g_aMEAerHAPnBBXg=s64",
      "userId": "13136109802752871845"
     },
     "user_tz": 300
    },
    "id": "Bi0DWpss2Wr9",
    "outputId": "0a00b8b2-a9bc-4673-b803-58794c995533"
   },
   "outputs": [
    {
     "name": "stdout",
     "output_type": "stream",
     "text": [
      "{'0 - 10 MB': 285, '10 - 50 MB': 1639, '50 - 100 MB': 1778, '100 - 500 MB': 2894, '500+ MB': 601}\n"
     ]
    }
   ],
   "source": [
    "size_dict = {'0 - 10 MB':0, '10 - 50 MB': 0, '50 - 100 MB': 0, '100 - 500 MB': 0, '500+ MB': 0}\n",
    "\n",
    "for app in apple_apps_data:\n",
    "    size = float(app[2])\n",
    "    if 0 <= size < 10000000:\n",
    "        size_dict['0 - 10 MB'] += 1\n",
    "    elif 10000000 <= size < 50000000:\n",
    "        size_dict['10 - 50 MB'] += 1\n",
    "    elif 50000000 <= size < 100000000:\n",
    "        size_dict['50 - 100 MB'] += 1\n",
    "    elif 100000000 <= size < 500000000:\n",
    "        size_dict['100 - 500 MB'] += 1\n",
    "    elif size >= 500000000:\n",
    "        size_dict['500+ MB'] += 1\n",
    "\n",
    "print(size_dict)"
   ]
  },
  {
   "cell_type": "code",
   "execution_count": 38,
   "metadata": {
    "colab": {},
    "colab_type": "code",
    "id": "Gq1b85d-2WsC"
   },
   "outputs": [],
   "source": [
    "### Create a function that generates a frequency table"
   ]
  },
  {
   "cell_type": "code",
   "execution_count": 39,
   "metadata": {
    "colab": {
     "base_uri": "https://localhost:8080/",
     "height": 34
    },
    "colab_type": "code",
    "executionInfo": {
     "elapsed": 29772,
     "status": "ok",
     "timestamp": 1582553862445,
     "user": {
      "displayName": "Andrew MacDonald",
      "photoUrl": "https://lh3.googleusercontent.com/a-/AAuE7mC5ZuArjMnEK2juELoWTHq0Kx8g_aMEAerHAPnBBXg=s64",
      "userId": "13136109802752871845"
     },
     "user_tz": 300
    },
    "id": "F1w8pmYL2WsF",
    "outputId": "6d8289b7-1b3f-4e92-f004-7a4a3289db9e"
   },
   "outputs": [
    {
     "data": {
      "text/plain": [
       "{'4+': 4433, '12+': 1155, '9+': 987, '17+': 622}"
      ]
     },
     "execution_count": 39,
     "metadata": {},
     "output_type": "execute_result"
    }
   ],
   "source": [
    "def freq_table(dataset, index_num):\n",
    "    freq_dict = {}\n",
    "    count = 0\n",
    "    for item in dataset:\n",
    "        count += 1\n",
    "        val = item[index_num]\n",
    "        if val in freq_dict:\n",
    "            freq_dict[val] += 1\n",
    "        else:\n",
    "            freq_dict[val] = 1\n",
    "    return freq_dict\n",
    "\n",
    "freq_table(apple_apps_data, 10)"
   ]
  },
  {
   "cell_type": "code",
   "execution_count": 40,
   "metadata": {
    "colab": {
     "base_uri": "https://localhost:8080/",
     "height": 34
    },
    "colab_type": "code",
    "executionInfo": {
     "elapsed": 30041,
     "status": "ok",
     "timestamp": 1582553862720,
     "user": {
      "displayName": "Andrew MacDonald",
      "photoUrl": "https://lh3.googleusercontent.com/a-/AAuE7mC5ZuArjMnEK2juELoWTHq0Kx8g_aMEAerHAPnBBXg=s64",
      "userId": "13136109802752871845"
     },
     "user_tz": 300
    },
    "id": "cy1qfDsO2WsI",
    "outputId": "763de94f-0f26-4311-afb1-94ae2a00bef0"
   },
   "outputs": [
    {
     "data": {
      "text/plain": [
       "{'USD': 7197}"
      ]
     },
     "execution_count": 40,
     "metadata": {},
     "output_type": "execute_result"
    }
   ],
   "source": [
    "freq_table(apple_apps_data, 3)"
   ]
  },
  {
   "cell_type": "code",
   "execution_count": 41,
   "metadata": {
    "colab": {
     "base_uri": "https://localhost:8080/",
     "height": 408
    },
    "colab_type": "code",
    "executionInfo": {
     "elapsed": 30034,
     "status": "ok",
     "timestamp": 1582553862720,
     "user": {
      "displayName": "Andrew MacDonald",
      "photoUrl": "https://lh3.googleusercontent.com/a-/AAuE7mC5ZuArjMnEK2juELoWTHq0Kx8g_aMEAerHAPnBBXg=s64",
      "userId": "13136109802752871845"
     },
     "user_tz": 300
    },
    "id": "Y5ntmVXl2WsK",
    "outputId": "68bacf83-d0dd-4932-ac34-7967479e375e"
   },
   "outputs": [
    {
     "data": {
      "text/plain": [
       "{'Social Networking': 167,\n",
       " 'Photo & Video': 349,\n",
       " 'Games': 3862,\n",
       " 'Music': 138,\n",
       " 'Reference': 64,\n",
       " 'Health & Fitness': 180,\n",
       " 'Weather': 72,\n",
       " 'Utilities': 248,\n",
       " 'Travel': 81,\n",
       " 'Shopping': 122,\n",
       " 'News': 75,\n",
       " 'Navigation': 46,\n",
       " 'Lifestyle': 144,\n",
       " 'Entertainment': 535,\n",
       " 'Food & Drink': 63,\n",
       " 'Sports': 114,\n",
       " 'Book': 112,\n",
       " 'Finance': 104,\n",
       " 'Education': 453,\n",
       " 'Productivity': 178,\n",
       " 'Business': 57,\n",
       " 'Catalogs': 10,\n",
       " 'Medical': 23}"
      ]
     },
     "execution_count": 41,
     "metadata": {},
     "output_type": "execute_result"
    }
   ],
   "source": [
    "freq_table(apple_apps_data, 11)"
   ]
  },
  {
   "cell_type": "markdown",
   "metadata": {
    "colab_type": "text",
    "id": "aTEriw_UklaB"
   },
   "source": [
    "### Create function that allows us to easily explore the data. \n",
    "Input parameters include the name of the dataset, the starting row to explore, the ending row to explore, and a boolean flag identifying whether to return the number of rows/columns."
   ]
  },
  {
   "cell_type": "code",
   "execution_count": 42,
   "metadata": {
    "colab": {},
    "colab_type": "code",
    "id": "-D7SHCBs2WsO"
   },
   "outputs": [],
   "source": [
    "def explore_data(dataset, start, end, rows_and_columns=False):\n",
    "    dataset_slice = dataset[start:end]    \n",
    "    for row in dataset_slice:\n",
    "        print(row)\n",
    "        print('\\n') # adds a new (empty) line after each row\n",
    "\n",
    "    if rows_and_columns:\n",
    "        print('Number of rows:', len(dataset))\n",
    "        print('Number of columns:', len(dataset[0]))"
   ]
  },
  {
   "cell_type": "code",
   "execution_count": 43,
   "metadata": {
    "colab": {
     "base_uri": "https://localhost:8080/",
     "height": 306
    },
    "colab_type": "code",
    "executionInfo": {
     "elapsed": 30022,
     "status": "ok",
     "timestamp": 1582553862721,
     "user": {
      "displayName": "Andrew MacDonald",
      "photoUrl": "https://lh3.googleusercontent.com/a-/AAuE7mC5ZuArjMnEK2juELoWTHq0Kx8g_aMEAerHAPnBBXg=s64",
      "userId": "13136109802752871845"
     },
     "user_tz": 300
    },
    "id": "0ZCl0IvH2WsQ",
    "outputId": "df058b53-37bd-4c2a-997d-2ed1d87c5425"
   },
   "outputs": [
    {
     "name": "stdout",
     "output_type": "stream",
     "text": [
      "['284882215', 'Facebook', '389879808', 'USD', '0.0', '2974676', '212', '3.5', '3.5', '95.0', '4+', 'Social Networking', '37', '1', '29', '1', 'free', 'free']\n",
      "\n",
      "\n",
      "['389801252', 'Instagram', '113954816', 'USD', '0.0', '2161558', '1289', '4.5', '4.0', '10.23', '12+', 'Photo & Video', '37', '0', '29', '1', 'free', 'free']\n",
      "\n",
      "\n",
      "['529479190', 'Clash of Clans', '116476928', 'USD', '0.0', '2130805', '579', '4.5', '4.5', '9.24.12', '9+', 'Games', '38', '5', '18', '1', 'free', 'free']\n",
      "\n",
      "\n",
      "['420009108', 'Temple Run', '65921024', 'USD', '0.0', '1724546', '3842', '4.5', '4.0', '1.6.2', '9+', 'Games', '40', '5', '1', '1', 'free', 'free']\n",
      "\n",
      "\n",
      "['284035177', 'Pandora - Music & Radio', '130242560', 'USD', '0.0', '1126879', '3594', '4.0', '4.5', '8.4.1', '12+', 'Music', '37', '4', '1', '1', 'free', 'free']\n",
      "\n",
      "\n",
      "Number of rows: 7197\n",
      "Number of columns: 18\n"
     ]
    }
   ],
   "source": [
    "explore_data(apple_apps_data, 0, 5, rows_and_columns=True)"
   ]
  },
  {
   "cell_type": "code",
   "execution_count": 44,
   "metadata": {
    "colab": {
     "base_uri": "https://localhost:8080/",
     "height": 204
    },
    "colab_type": "code",
    "executionInfo": {
     "elapsed": 30017,
     "status": "ok",
     "timestamp": 1582553862722,
     "user": {
      "displayName": "Andrew MacDonald",
      "photoUrl": "https://lh3.googleusercontent.com/a-/AAuE7mC5ZuArjMnEK2juELoWTHq0Kx8g_aMEAerHAPnBBXg=s64",
      "userId": "13136109802752871845"
     },
     "user_tz": 300
    },
    "id": "pnUfRPnT2WsX",
    "outputId": "35c75010-ff64-406e-df34-ad77c3d4317a"
   },
   "outputs": [
    {
     "name": "stdout",
     "output_type": "stream",
     "text": [
      "['Xposed Wi-Fi-Pwd', 'PERSONALIZATION', '3.5', '1042', '404k', '100,000+', 'Free', '0', 'Everyone', 'Personalization', 'August 5, 2014', '3.0.0', '4.0.3 and up']\n",
      "\n",
      "\n",
      "['Life Made WI-Fi Touchscreen Photo Frame', '1.9', '19', '3.0M', '1,000+', 'Free', '0', 'Everyone', '', 'February 11, 2018', '1.0.19', '4.0 and up']\n",
      "\n",
      "\n",
      "['osmino Wi-Fi: free WiFi', 'TOOLS', '4.2', '134203', '4.1M', '10,000,000+', 'Free', '0', 'Everyone', 'Tools', 'August 7, 2018', '6.06.14', '4.4 and up']\n",
      "\n",
      "\n",
      "Number of rows: 10841\n",
      "Number of columns: 13\n"
     ]
    }
   ],
   "source": [
    "explore_data(google_apps_data, 10471, 10474, rows_and_columns=True)"
   ]
  },
  {
   "cell_type": "markdown",
   "metadata": {
    "colab_type": "text",
    "id": "NS-tIx7kk4Fc"
   },
   "source": [
    "After identifying that Row #10472 is missing data (resulting in all columns shifting), we will delete the row."
   ]
  },
  {
   "cell_type": "code",
   "execution_count": 45,
   "metadata": {
    "colab": {},
    "colab_type": "code",
    "id": "fB5xCq5s2Wsa"
   },
   "outputs": [],
   "source": [
    "# Delete row with missing data\n",
    "del google_apps_data[10472]"
   ]
  },
  {
   "cell_type": "markdown",
   "metadata": {
    "colab_type": "text",
    "id": "XUTjIajllJf9"
   },
   "source": [
    "### Delete Historical Versions of Apps\n",
    "We have identified that some apps are listed multiple times in the dataset. This appears to be a result of multiple versions, but we are going to delete records for the previous versions in order to only report the most current data."
   ]
  },
  {
   "cell_type": "code",
   "execution_count": 46,
   "metadata": {
    "colab": {
     "base_uri": "https://localhost:8080/",
     "height": 34
    },
    "colab_type": "code",
    "executionInfo": {
     "elapsed": 30010,
     "status": "ok",
     "timestamp": 1582553862723,
     "user": {
      "displayName": "Andrew MacDonald",
      "photoUrl": "https://lh3.googleusercontent.com/a-/AAuE7mC5ZuArjMnEK2juELoWTHq0Kx8g_aMEAerHAPnBBXg=s64",
      "userId": "13136109802752871845"
     },
     "user_tz": 300
    },
    "id": "fWvPxQDM2Wsc",
    "outputId": "a0c5fbcb-41c5-411c-bd3a-d03f7feeecd9"
   },
   "outputs": [
    {
     "name": "stdout",
     "output_type": "stream",
     "text": [
      "9659\n"
     ]
    }
   ],
   "source": [
    "reviews_max = {}\n",
    "\n",
    "for app in google_apps_data:\n",
    "    name = app[0]\n",
    "    n_reviews = float(app[3])\n",
    "    if name in reviews_max and reviews_max[name] < n_reviews:\n",
    "        reviews_max[name] = n_reviews\n",
    "    elif name not in reviews_max:\n",
    "        reviews_max[name] = n_reviews\n",
    "    \n",
    "print(len(reviews_max))"
   ]
  },
  {
   "cell_type": "code",
   "execution_count": 47,
   "metadata": {
    "colab": {
     "base_uri": "https://localhost:8080/",
     "height": 34
    },
    "colab_type": "code",
    "executionInfo": {
     "elapsed": 30756,
     "status": "ok",
     "timestamp": 1582553863475,
     "user": {
      "displayName": "Andrew MacDonald",
      "photoUrl": "https://lh3.googleusercontent.com/a-/AAuE7mC5ZuArjMnEK2juELoWTHq0Kx8g_aMEAerHAPnBBXg=s64",
      "userId": "13136109802752871845"
     },
     "user_tz": 300
    },
    "id": "RZ6Yo-sLjlrg",
    "outputId": "f70faada-d532-44d5-90ab-621acde5101e"
   },
   "outputs": [
    {
     "name": "stdout",
     "output_type": "stream",
     "text": [
      "9659\n"
     ]
    }
   ],
   "source": [
    "google_clean = []\n",
    "already_added = []\n",
    "\n",
    "for app in google_apps_data:\n",
    "    name = app[0]\n",
    "    n_reviews = float(app[3])\n",
    "    if reviews_max[name] == n_reviews and name not in already_added:\n",
    "        google_clean.append(app)\n",
    "        already_added.append(name)\n",
    "        \n",
    "print(len(google_clean))"
   ]
  },
  {
   "cell_type": "code",
   "execution_count": 48,
   "metadata": {
    "colab": {
     "base_uri": "https://localhost:8080/",
     "height": 34
    },
    "colab_type": "code",
    "executionInfo": {
     "elapsed": 31440,
     "status": "ok",
     "timestamp": 1582553864167,
     "user": {
      "displayName": "Andrew MacDonald",
      "photoUrl": "https://lh3.googleusercontent.com/a-/AAuE7mC5ZuArjMnEK2juELoWTHq0Kx8g_aMEAerHAPnBBXg=s64",
      "userId": "13136109802752871845"
     },
     "user_tz": 300
    },
    "id": "o11wyJknjlri",
    "outputId": "baa9ceb6-56e5-4f32-af36-60cbcc0f38c8"
   },
   "outputs": [
    {
     "name": "stdout",
     "output_type": "stream",
     "text": [
      "0\n"
     ]
    }
   ],
   "source": [
    "all_apps = []\n",
    "dupe_apps = []\n",
    "\n",
    "for app in google_clean:\n",
    "    name = app[0]\n",
    "    if name in all_apps:\n",
    "        dupe_apps.append(name)\n",
    "    all_apps.append(name)\n",
    "\n",
    "print(len(dupe_apps))"
   ]
  },
  {
   "cell_type": "markdown",
   "metadata": {
    "colab_type": "text",
    "id": "g-8jMKfhmqe7"
   },
   "source": [
    "### Remove Non-English Apps\n",
    "The source dataset includes some non-English apps, but for the purpose of this analysis, we're only focused on English-specific apps. Because of this, we will filter out the non-English apps from the results. Sometimes, non-English characters are used in English app names, so will set a threshold of 3 minimum non-English characters in the app name."
   ]
  },
  {
   "cell_type": "code",
   "execution_count": 49,
   "metadata": {
    "colab": {},
    "colab_type": "code",
    "id": "tQ_aUthgm6J4"
   },
   "outputs": [],
   "source": [
    "def english_apps(app_name):\n",
    "  # create counter for number of non-english characters\n",
    "  count_non_english = 0\n",
    "  # loop through every letter in the app name\n",
    "  for letter in app_name:\n",
    "    # increase non-english counter for every letter that isn't english\n",
    "    if ord(letter) > 127:\n",
    "      count_non_english += 1\n",
    "  # after loop completes, return False if number of non-english apps is >= 3, otherwise return True\n",
    "  if count_non_english >= 3:\n",
    "    return False\n",
    "  else:\n",
    "    return True"
   ]
  },
  {
   "cell_type": "code",
   "execution_count": 50,
   "metadata": {
    "colab": {
     "base_uri": "https://localhost:8080/",
     "height": 85
    },
    "colab_type": "code",
    "executionInfo": {
     "elapsed": 554,
     "status": "ok",
     "timestamp": 1582555266638,
     "user": {
      "displayName": "Andrew MacDonald",
      "photoUrl": "https://lh3.googleusercontent.com/a-/AAuE7mC5ZuArjMnEK2juELoWTHq0Kx8g_aMEAerHAPnBBXg=s64",
      "userId": "13136109802752871845"
     },
     "user_tz": 300
    },
    "id": "VgB_uWT2noB4",
    "outputId": "dc251769-68f8-4b23-f71a-65db5e118d3b"
   },
   "outputs": [
    {
     "name": "stdout",
     "output_type": "stream",
     "text": [
      "True\n",
      "False\n",
      "True\n",
      "True\n"
     ]
    }
   ],
   "source": [
    "print(english_apps('Instagram'))\n",
    "print(english_apps('爱奇艺PPS -《欢乐颂2》电视剧热播'))\n",
    "print(english_apps('Docs To Go™ Free Office Suite'))\n",
    "print(english_apps('Instachat 😜'))"
   ]
  },
  {
   "cell_type": "markdown",
   "metadata": {
    "colab_type": "text",
    "id": "yBUKFUZcscJr"
   },
   "source": [
    "### Isolate Free vs. Non-Free Apps"
   ]
  },
  {
   "cell_type": "code",
   "execution_count": 51,
   "metadata": {
    "colab": {
     "base_uri": "https://localhost:8080/",
     "height": 51
    },
    "colab_type": "code",
    "executionInfo": {
     "elapsed": 565,
     "status": "ok",
     "timestamp": 1582556730976,
     "user": {
      "displayName": "Andrew MacDonald",
      "photoUrl": "https://lh3.googleusercontent.com/a-/AAuE7mC5ZuArjMnEK2juELoWTHq0Kx8g_aMEAerHAPnBBXg=s64",
      "userId": "13136109802752871845"
     },
     "user_tz": 300
    },
    "id": "_aTNGvwbnqze",
    "outputId": "4304969b-1439-4a1a-869d-6e4bc51cad63"
   },
   "outputs": [
    {
     "name": "stdout",
     "output_type": "stream",
     "text": [
      "10040\n",
      "800\n"
     ]
    }
   ],
   "source": [
    "free_google_apps = []\n",
    "non_free_google_apps = []\n",
    "for app in google_apps_data:\n",
    "  if app[7] == '0':\n",
    "    free_google_apps.append(app)\n",
    "  else:\n",
    "    non_free_google_apps.append(app)\n",
    "\n",
    "print(len(free_google_apps))\n",
    "print(len(non_free_google_apps))"
   ]
  },
  {
   "cell_type": "code",
   "execution_count": 52,
   "metadata": {
    "colab": {
     "base_uri": "https://localhost:8080/",
     "height": 51
    },
    "colab_type": "code",
    "executionInfo": {
     "elapsed": 524,
     "status": "ok",
     "timestamp": 1582556877743,
     "user": {
      "displayName": "Andrew MacDonald",
      "photoUrl": "https://lh3.googleusercontent.com/a-/AAuE7mC5ZuArjMnEK2juELoWTHq0Kx8g_aMEAerHAPnBBXg=s64",
      "userId": "13136109802752871845"
     },
     "user_tz": 300
    },
    "id": "l2MEZiZDtWo2",
    "outputId": "41f49472-9b35-433d-ae29-b3e318d1018a"
   },
   "outputs": [
    {
     "name": "stdout",
     "output_type": "stream",
     "text": [
      "4056\n",
      "3141\n"
     ]
    }
   ],
   "source": [
    "free_apple_apps = []\n",
    "non_free_apple_apps = []\n",
    "for app in apple_apps_data:\n",
    "  if app[4] == '0.0':\n",
    "    free_apple_apps.append(app)\n",
    "  else:\n",
    "    non_free_apple_apps.append(app)\n",
    "\n",
    "print(len(free_apple_apps))\n",
    "print(len(non_free_apple_apps))"
   ]
  },
  {
   "cell_type": "code",
   "execution_count": 69,
   "metadata": {
    "colab": {},
    "colab_type": "code",
    "id": "lcMU-VjvtiQ7"
   },
   "outputs": [],
   "source": [
    "def freq_table(dataset, index):\n",
    "    freq = {}\n",
    "    for x in dataset:\n",
    "        val = x[index]\n",
    "        if val in freq:\n",
    "            freq[val] += 1\n",
    "        else:\n",
    "            freq[val] = 1\n",
    "            \n",
    "    freq_percent = {}\n",
    "    for y in freq:\n",
    "        freq_percent[y] = round(((freq[y] / len(dataset)) * 100), 2)\n",
    "    return freq_percent\n",
    "            "
   ]
  },
  {
   "cell_type": "code",
   "execution_count": 70,
   "metadata": {},
   "outputs": [
    {
     "name": "stdout",
     "output_type": "stream",
     "text": [
      "{'ART_AND_DESIGN': 0.62, 'AUTO_AND_VEHICLES': 0.82, 'BEAUTY': 0.53, 'BOOKS_AND_REFERENCE': 2.02, 'BUSINESS': 4.44, 'COMICS': 0.6, 'COMMUNICATION': 3.59, 'DATING': 2.26, 'EDUCATION': 1.51, 'ENTERTAINMENT': 1.46, 'EVENTS': 0.63, 'FINANCE': 3.48, 'FOOD_AND_DRINK': 1.25, 'HEALTH_AND_FITNESS': 3.24, 'HOUSE_AND_HOME': 0.88, 'LIBRARIES_AND_DEMO': 0.84, 'LIFESTYLE': 3.62, 'GAME': 10.57, 'FAMILY': 17.74, 'MEDICAL': 3.53, 'SOCIAL': 2.91, 'SHOPPING': 2.57, 'PHOTOGRAPHY': 3.12, 'SPORTS': 3.59, 'TRAVEL_AND_LOCAL': 2.45, 'TOOLS': 7.62, 'PERSONALIZATION': 3.08, 'PRODUCTIVITY': 3.94, 'PARENTING': 0.58, 'WEATHER': 0.74, 'VIDEO_PLAYERS': 1.7, 'NEWS_AND_MAGAZINES': 2.8, 'MAPS_AND_NAVIGATION': 1.31}\n"
     ]
    }
   ],
   "source": [
    "google_freq_dict = freq_table(free_google_apps, 1)\n",
    "print(google_freq_dict)"
   ]
  },
  {
   "cell_type": "code",
   "execution_count": null,
   "metadata": {},
   "outputs": [],
   "source": []
  },
  {
   "cell_type": "code",
   "execution_count": null,
   "metadata": {},
   "outputs": [],
   "source": []
  }
 ],
 "metadata": {
  "colab": {
   "collapsed_sections": [],
   "name": "app_analysis.ipynb",
   "provenance": []
  },
  "kernelspec": {
   "display_name": "Python 3",
   "language": "python",
   "name": "python3"
  },
  "language_info": {
   "codemirror_mode": {
    "name": "ipython",
    "version": 3
   },
   "file_extension": ".py",
   "mimetype": "text/x-python",
   "name": "python",
   "nbconvert_exporter": "python",
   "pygments_lexer": "ipython3",
   "version": "3.7.3"
  }
 },
 "nbformat": 4,
 "nbformat_minor": 4
}
