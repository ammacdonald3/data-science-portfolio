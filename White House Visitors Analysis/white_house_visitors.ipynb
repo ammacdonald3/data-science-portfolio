{
 "cells": [
  {
   "cell_type": "markdown",
   "metadata": {},
   "source": [
    "# White House Visitors"
   ]
  },
  {
   "cell_type": "code",
   "execution_count": 4,
   "metadata": {},
   "outputs": [],
   "source": [
    "from csv import reader"
   ]
  },
  {
   "cell_type": "code",
   "execution_count": 17,
   "metadata": {},
   "outputs": [],
   "source": [
    "def explore_data(dataset, start, end, rows_and_columns=False):\n",
    "    dataset_slice = dataset[start:end]    \n",
    "    for row in dataset_slice:\n",
    "        print(row)\n",
    "        print('\\n') # adds a new (empty) line after each row\n",
    "\n",
    "    if rows_and_columns:\n",
    "        print('Number of rows:', len(dataset))\n",
    "        print('Number of columns:', len(dataset[0]))"
   ]
  },
  {
   "cell_type": "code",
   "execution_count": 31,
   "metadata": {},
   "outputs": [],
   "source": [
    "wh_file = reader(open('wh_2015.csv', encoding='ISO-8859-1'))"
   ]
  },
  {
   "cell_type": "code",
   "execution_count": 32,
   "metadata": {},
   "outputs": [],
   "source": [
    "wh_list = list(wh_file)"
   ]
  },
  {
   "cell_type": "code",
   "execution_count": 24,
   "metadata": {},
   "outputs": [
    {
     "data": {
      "text/plain": [
       "970505"
      ]
     },
     "execution_count": 24,
     "metadata": {},
     "output_type": "execute_result"
    }
   ],
   "source": [
    "len(wh_list)"
   ]
  },
  {
   "cell_type": "code",
   "execution_count": 25,
   "metadata": {},
   "outputs": [
    {
     "data": {
      "text/plain": [
       "[['NAMELAST',\n",
       "  'NAMEFIRST',\n",
       "  'NAMEMID',\n",
       "  'UIN',\n",
       "  'BDGNBR',\n",
       "  'ACCESS_TYPE',\n",
       "  'TOA',\n",
       "  'POA',\n",
       "  'TOD',\n",
       "  'POD',\n",
       "  'APPT_MADE_DATE',\n",
       "  'APPT_START_DATE',\n",
       "  'APPT_END_DATE',\n",
       "  'APPT_CANCEL_DATE',\n",
       "  'Total_People',\n",
       "  'LAST_UPDATEDBY',\n",
       "  'POST',\n",
       "  'LASTENTRYDATE',\n",
       "  'TERMINAL_SUFFIX',\n",
       "  'visitee_namelast',\n",
       "  'visitee_namefirst',\n",
       "  'MEETING_LOC',\n",
       "  'MEETING_ROOM',\n",
       "  'CALLER_NAME_LAST',\n",
       "  'CALLER_NAME_FIRST',\n",
       "  'CALLER_ROOM',\n",
       "  'DESCRIPTION',\n",
       "  'Release_Date']]"
      ]
     },
     "execution_count": 25,
     "metadata": {},
     "output_type": "execute_result"
    }
   ],
   "source": [
    "wh_list[:1]"
   ]
  },
  {
   "cell_type": "code",
   "execution_count": 26,
   "metadata": {},
   "outputs": [
    {
     "name": "stdout",
     "output_type": "stream",
     "text": [
      "['NAMELAST', 'NAMEFIRST', 'NAMEMID', 'UIN', 'BDGNBR', 'ACCESS_TYPE', 'TOA', 'POA', 'TOD', 'POD', 'APPT_MADE_DATE', 'APPT_START_DATE', 'APPT_END_DATE', 'APPT_CANCEL_DATE', 'Total_People', 'LAST_UPDATEDBY', 'POST', 'LASTENTRYDATE', 'TERMINAL_SUFFIX', 'visitee_namelast', 'visitee_namefirst', 'MEETING_LOC', 'MEETING_ROOM', 'CALLER_NAME_LAST', 'CALLER_NAME_FIRST', 'CALLER_ROOM', 'DESCRIPTION', 'Release_Date']\n",
      "\n",
      "\n",
      "['TAJOURIBESSASSI', 'HANENE', '', 'U22101', '', 'VA', '', '', '', '', '9/2/2015 0:00', '10/1/2015 3:00', '10/1/2015 23:59', '', '1', 'AR', 'WIN', '9/2/2015 11:38', 'AR', 'Pelofsky', 'Eric', 'OEOB', '226', 'ROWBERRY', 'ARIANA', '', '', '1/29/2016']\n",
      "\n",
      "\n",
      "['bageant', 'laura', 'j', 'U30528', '', 'VA', '', '', '', '', '9/29/2015 0:00', '10/1/2015 5:00', '9/30/2016 23:59', '', '7', 'WW', 'WIN', '9/29/2015 13:42', 'WW', 'Baskerville', 'Steven', 'WH', 'WH Grounds', 'WARDEN', 'WILLIAM', '', '', '1/29/2016']\n",
      "\n",
      "\n",
      "['Broemson', 'Earl', 'H', 'U30528', '', 'VA', '', '', '', '', '9/29/2015 0:00', '10/1/2015 5:00', '9/30/2016 23:59', '', '7', 'WW', 'WIN', '9/29/2015 14:41', 'WW', 'Baskerville', 'Steven', 'WH', 'WH Grounds', 'WARDEN', 'WILLIAM', '', '', '1/29/2016']\n",
      "\n",
      "\n",
      "['Jackling Jr', 'William', 'C', 'U30528', '', 'VA', '', '', '', '', '9/29/2015 0:00', '10/1/2015 5:00', '9/30/2016 23:59', '', '7', 'WW', 'WIN', '9/29/2015 13:42', 'WW', 'Baskerville', 'Steven', 'WH', 'WH Grounds', 'WARDEN', 'WILLIAM', '', '', '1/29/2016']\n",
      "\n",
      "\n",
      "Number of rows: 970505\n",
      "Number of columns: 28\n"
     ]
    }
   ],
   "source": [
    "explore_data(wh_list, 0, 5, rows_and_columns=True)"
   ]
  },
  {
   "cell_type": "code",
   "execution_count": 33,
   "metadata": {},
   "outputs": [],
   "source": [
    "for person in wh_list:\n",
    "    if person[0] == 'Norwalk':\n",
    "        print(person)"
   ]
  },
  {
   "cell_type": "code",
   "execution_count": null,
   "metadata": {},
   "outputs": [],
   "source": []
  }
 ],
 "metadata": {
  "kernelspec": {
   "display_name": "Python 3",
   "language": "python",
   "name": "python3"
  },
  "language_info": {
   "codemirror_mode": {
    "name": "ipython",
    "version": 3
   },
   "file_extension": ".py",
   "mimetype": "text/x-python",
   "name": "python",
   "nbconvert_exporter": "python",
   "pygments_lexer": "ipython3",
   "version": "3.7.3"
  }
 },
 "nbformat": 4,
 "nbformat_minor": 4
}
