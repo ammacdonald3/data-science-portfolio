{
 "cells": [
  {
   "cell_type": "code",
   "execution_count": 1,
   "metadata": {},
   "outputs": [],
   "source": [
    "from selenium import webdriver\n",
    "from selenium.webdriver.support.ui import WebDriverWait \n",
    "from selenium.webdriver.support import expected_conditions\n",
    "from selenium.webdriver.common.action_chains import ActionChains\n",
    "from bs4 import BeautifulSoup\n",
    "import re\n",
    "import pandas as pd\n",
    "import numpy as np\n",
    "#import requests"
   ]
  },
  {
   "cell_type": "code",
   "execution_count": 2,
   "metadata": {},
   "outputs": [],
   "source": [
    "#origin = \"WAS\"\n",
    "#destination = \"BOS\"\n",
    "startdate = \"2020-05-22\"\n",
    "#enddate = \"2019-09-09\"\n",
    "\n",
    "url = 'https://www.kayak.com/flights/WAS-BOS/2020-05-22?sort=price_a&fs=equipment=A,R,T,N;stops=~0'"
   ]
  },
  {
   "cell_type": "code",
   "execution_count": 9,
   "metadata": {},
   "outputs": [
    {
     "name": "stdout",
     "output_type": "stream",
     "text": [
      "User agent: Chrome/73.0.3683.68\n"
     ]
    },
    {
     "ename": "NoSuchElementException",
     "evalue": "Message: no such element: Unable to locate element: {\"method\":\"link text\",\"selector\":\"Show more results\"}\n  (Session info: chrome=79.0.3945.130)\n",
     "output_type": "error",
     "traceback": [
      "\u001b[0;31m---------------------------------------------------------------------------\u001b[0m",
      "\u001b[0;31mNoSuchElementException\u001b[0m                    Traceback (most recent call last)",
      "\u001b[0;32m<ipython-input-9-ada4c0e20e01>\u001b[0m in \u001b[0;36m<module>\u001b[0;34m\u001b[0m\n\u001b[1;32m     14\u001b[0m \u001b[0mdriver\u001b[0m\u001b[0;34m.\u001b[0m\u001b[0mget\u001b[0m\u001b[0;34m(\u001b[0m\u001b[0murl\u001b[0m\u001b[0;34m)\u001b[0m\u001b[0;34m\u001b[0m\u001b[0;34m\u001b[0m\u001b[0m\n\u001b[1;32m     15\u001b[0m \u001b[0mdriver\u001b[0m\u001b[0;34m.\u001b[0m\u001b[0mimplicitly_wait\u001b[0m\u001b[0;34m(\u001b[0m\u001b[0;36m20\u001b[0m\u001b[0;34m)\u001b[0m\u001b[0;34m\u001b[0m\u001b[0;34m\u001b[0m\u001b[0m\n\u001b[0;32m---> 16\u001b[0;31m \u001b[0mlink\u001b[0m \u001b[0;34m=\u001b[0m \u001b[0mdriver\u001b[0m\u001b[0;34m.\u001b[0m\u001b[0mfind_element_by_link_text\u001b[0m\u001b[0;34m(\u001b[0m\u001b[0;34m'Show more results'\u001b[0m\u001b[0;34m)\u001b[0m\u001b[0;34m\u001b[0m\u001b[0;34m\u001b[0m\u001b[0m\n\u001b[0m\u001b[1;32m     17\u001b[0m \u001b[0mActionChains\u001b[0m\u001b[0;34m(\u001b[0m\u001b[0mbrowser\u001b[0m\u001b[0;34m)\u001b[0m\u001b[0;34m.\u001b[0m\u001b[0mmove_to_element\u001b[0m\u001b[0;34m(\u001b[0m\u001b[0mlink\u001b[0m\u001b[0;34m)\u001b[0m\u001b[0;34m.\u001b[0m\u001b[0mperform\u001b[0m\u001b[0;34m(\u001b[0m\u001b[0;34m)\u001b[0m\u001b[0;34m\u001b[0m\u001b[0;34m\u001b[0m\u001b[0m\n\u001b[1;32m     18\u001b[0m \u001b[0mlink\u001b[0m\u001b[0;34m.\u001b[0m\u001b[0mclick\u001b[0m\u001b[0;34m(\u001b[0m\u001b[0;34m)\u001b[0m\u001b[0;34m\u001b[0m\u001b[0;34m\u001b[0m\u001b[0m\n",
      "\u001b[0;32m~/anaconda3/envs/flights/lib/python3.7/site-packages/selenium/webdriver/remote/webdriver.py\u001b[0m in \u001b[0;36mfind_element_by_link_text\u001b[0;34m(self, link_text)\u001b[0m\n\u001b[1;32m    426\u001b[0m             \u001b[0melement\u001b[0m \u001b[0;34m=\u001b[0m \u001b[0mdriver\u001b[0m\u001b[0;34m.\u001b[0m\u001b[0mfind_element_by_link_text\u001b[0m\u001b[0;34m(\u001b[0m\u001b[0;34m'Sign In'\u001b[0m\u001b[0;34m)\u001b[0m\u001b[0;34m\u001b[0m\u001b[0;34m\u001b[0m\u001b[0m\n\u001b[1;32m    427\u001b[0m         \"\"\"\n\u001b[0;32m--> 428\u001b[0;31m         \u001b[0;32mreturn\u001b[0m \u001b[0mself\u001b[0m\u001b[0;34m.\u001b[0m\u001b[0mfind_element\u001b[0m\u001b[0;34m(\u001b[0m\u001b[0mby\u001b[0m\u001b[0;34m=\u001b[0m\u001b[0mBy\u001b[0m\u001b[0;34m.\u001b[0m\u001b[0mLINK_TEXT\u001b[0m\u001b[0;34m,\u001b[0m \u001b[0mvalue\u001b[0m\u001b[0;34m=\u001b[0m\u001b[0mlink_text\u001b[0m\u001b[0;34m)\u001b[0m\u001b[0;34m\u001b[0m\u001b[0;34m\u001b[0m\u001b[0m\n\u001b[0m\u001b[1;32m    429\u001b[0m \u001b[0;34m\u001b[0m\u001b[0m\n\u001b[1;32m    430\u001b[0m     \u001b[0;32mdef\u001b[0m \u001b[0mfind_elements_by_link_text\u001b[0m\u001b[0;34m(\u001b[0m\u001b[0mself\u001b[0m\u001b[0;34m,\u001b[0m \u001b[0mtext\u001b[0m\u001b[0;34m)\u001b[0m\u001b[0;34m:\u001b[0m\u001b[0;34m\u001b[0m\u001b[0;34m\u001b[0m\u001b[0m\n",
      "\u001b[0;32m~/anaconda3/envs/flights/lib/python3.7/site-packages/selenium/webdriver/remote/webdriver.py\u001b[0m in \u001b[0;36mfind_element\u001b[0;34m(self, by, value)\u001b[0m\n\u001b[1;32m    976\u001b[0m         return self.execute(Command.FIND_ELEMENT, {\n\u001b[1;32m    977\u001b[0m             \u001b[0;34m'using'\u001b[0m\u001b[0;34m:\u001b[0m \u001b[0mby\u001b[0m\u001b[0;34m,\u001b[0m\u001b[0;34m\u001b[0m\u001b[0;34m\u001b[0m\u001b[0m\n\u001b[0;32m--> 978\u001b[0;31m             'value': value})['value']\n\u001b[0m\u001b[1;32m    979\u001b[0m \u001b[0;34m\u001b[0m\u001b[0m\n\u001b[1;32m    980\u001b[0m     \u001b[0;32mdef\u001b[0m \u001b[0mfind_elements\u001b[0m\u001b[0;34m(\u001b[0m\u001b[0mself\u001b[0m\u001b[0;34m,\u001b[0m \u001b[0mby\u001b[0m\u001b[0;34m=\u001b[0m\u001b[0mBy\u001b[0m\u001b[0;34m.\u001b[0m\u001b[0mID\u001b[0m\u001b[0;34m,\u001b[0m \u001b[0mvalue\u001b[0m\u001b[0;34m=\u001b[0m\u001b[0;32mNone\u001b[0m\u001b[0;34m)\u001b[0m\u001b[0;34m:\u001b[0m\u001b[0;34m\u001b[0m\u001b[0;34m\u001b[0m\u001b[0m\n",
      "\u001b[0;32m~/anaconda3/envs/flights/lib/python3.7/site-packages/selenium/webdriver/remote/webdriver.py\u001b[0m in \u001b[0;36mexecute\u001b[0;34m(self, driver_command, params)\u001b[0m\n\u001b[1;32m    319\u001b[0m         \u001b[0mresponse\u001b[0m \u001b[0;34m=\u001b[0m \u001b[0mself\u001b[0m\u001b[0;34m.\u001b[0m\u001b[0mcommand_executor\u001b[0m\u001b[0;34m.\u001b[0m\u001b[0mexecute\u001b[0m\u001b[0;34m(\u001b[0m\u001b[0mdriver_command\u001b[0m\u001b[0;34m,\u001b[0m \u001b[0mparams\u001b[0m\u001b[0;34m)\u001b[0m\u001b[0;34m\u001b[0m\u001b[0;34m\u001b[0m\u001b[0m\n\u001b[1;32m    320\u001b[0m         \u001b[0;32mif\u001b[0m \u001b[0mresponse\u001b[0m\u001b[0;34m:\u001b[0m\u001b[0;34m\u001b[0m\u001b[0;34m\u001b[0m\u001b[0m\n\u001b[0;32m--> 321\u001b[0;31m             \u001b[0mself\u001b[0m\u001b[0;34m.\u001b[0m\u001b[0merror_handler\u001b[0m\u001b[0;34m.\u001b[0m\u001b[0mcheck_response\u001b[0m\u001b[0;34m(\u001b[0m\u001b[0mresponse\u001b[0m\u001b[0;34m)\u001b[0m\u001b[0;34m\u001b[0m\u001b[0;34m\u001b[0m\u001b[0m\n\u001b[0m\u001b[1;32m    322\u001b[0m             response['value'] = self._unwrap_value(\n\u001b[1;32m    323\u001b[0m                 response.get('value', None))\n",
      "\u001b[0;32m~/anaconda3/envs/flights/lib/python3.7/site-packages/selenium/webdriver/remote/errorhandler.py\u001b[0m in \u001b[0;36mcheck_response\u001b[0;34m(self, response)\u001b[0m\n\u001b[1;32m    240\u001b[0m                 \u001b[0malert_text\u001b[0m \u001b[0;34m=\u001b[0m \u001b[0mvalue\u001b[0m\u001b[0;34m[\u001b[0m\u001b[0;34m'alert'\u001b[0m\u001b[0;34m]\u001b[0m\u001b[0;34m.\u001b[0m\u001b[0mget\u001b[0m\u001b[0;34m(\u001b[0m\u001b[0;34m'text'\u001b[0m\u001b[0;34m)\u001b[0m\u001b[0;34m\u001b[0m\u001b[0;34m\u001b[0m\u001b[0m\n\u001b[1;32m    241\u001b[0m             \u001b[0;32mraise\u001b[0m \u001b[0mexception_class\u001b[0m\u001b[0;34m(\u001b[0m\u001b[0mmessage\u001b[0m\u001b[0;34m,\u001b[0m \u001b[0mscreen\u001b[0m\u001b[0;34m,\u001b[0m \u001b[0mstacktrace\u001b[0m\u001b[0;34m,\u001b[0m \u001b[0malert_text\u001b[0m\u001b[0;34m)\u001b[0m\u001b[0;34m\u001b[0m\u001b[0;34m\u001b[0m\u001b[0m\n\u001b[0;32m--> 242\u001b[0;31m         \u001b[0;32mraise\u001b[0m \u001b[0mexception_class\u001b[0m\u001b[0;34m(\u001b[0m\u001b[0mmessage\u001b[0m\u001b[0;34m,\u001b[0m \u001b[0mscreen\u001b[0m\u001b[0;34m,\u001b[0m \u001b[0mstacktrace\u001b[0m\u001b[0;34m)\u001b[0m\u001b[0;34m\u001b[0m\u001b[0;34m\u001b[0m\u001b[0m\n\u001b[0m\u001b[1;32m    243\u001b[0m \u001b[0;34m\u001b[0m\u001b[0m\n\u001b[1;32m    244\u001b[0m     \u001b[0;32mdef\u001b[0m \u001b[0m_value_or_default\u001b[0m\u001b[0;34m(\u001b[0m\u001b[0mself\u001b[0m\u001b[0;34m,\u001b[0m \u001b[0mobj\u001b[0m\u001b[0;34m,\u001b[0m \u001b[0mkey\u001b[0m\u001b[0;34m,\u001b[0m \u001b[0mdefault\u001b[0m\u001b[0;34m)\u001b[0m\u001b[0;34m:\u001b[0m\u001b[0;34m\u001b[0m\u001b[0;34m\u001b[0m\u001b[0m\n",
      "\u001b[0;31mNoSuchElementException\u001b[0m: Message: no such element: Unable to locate element: {\"method\":\"link text\",\"selector\":\"Show more results\"}\n  (Session info: chrome=79.0.3945.130)\n"
     ]
    }
   ],
   "source": [
    "requests = 1\n",
    "chrome_options = webdriver.ChromeOptions()\n",
    "agents = [\"Firefox/66.0.3\",\"Chrome/73.0.3683.68\",\"Edge/16.16299\"]\n",
    "print(\"User agent: \" + agents[(requests%len(agents))])\n",
    "chrome_options.add_argument('--user-agent=' + agents[(requests%len(agents))] + '\"')    \n",
    "chrome_options.add_experimental_option('useAutomationExtension', False)\n",
    "    \n",
    "driver = webdriver.Chrome(\"/Users/amac/github/flights/chromedriver\", options=chrome_options, desired_capabilities=chrome_options.to_capabilities())\n",
    "    \n",
    "\n",
    "#chrome_options = webdriver.ChromeOptions()\n",
    "#driver = webdriver.Chrome(\"/Users/amac/github/flights/chromedriver\")\n",
    "driver.implicitly_wait(20)\n",
    "driver.get(url)\n",
    "driver.implicitly_wait(20)\n",
    "link = driver.find_element_by_link_text('Show more results')\n",
    "ActionChains(browser).move_to_element(link).perform()\n",
    "link.click()"
   ]
  },
  {
   "cell_type": "code",
   "execution_count": 4,
   "metadata": {},
   "outputs": [],
   "source": [
    "soup=BeautifulSoup(driver.page_source, 'lxml')\n",
    "#print(soup.prettify())"
   ]
  },
  {
   "cell_type": "code",
   "execution_count": 5,
   "metadata": {},
   "outputs": [
    {
     "name": "stdout",
     "output_type": "stream",
     "text": [
      "[['7:25']\n",
      " ['6:30']\n",
      " ['10:00']\n",
      " ['8:30']\n",
      " ['11:30']\n",
      " ['9:30']\n",
      " ['12:30']\n",
      " ['7:30']\n",
      " ['10:30']\n",
      " ['7:25']\n",
      " ['9:00']\n",
      " ['1:30']\n",
      " ['2:30']\n",
      " ['7:30']\n",
      " ['5:00']]\n",
      "[['3:18']\n",
      " ['7:58']\n",
      " ['11:29']\n",
      " ['10:01']\n",
      " ['1:01']\n",
      " ['11:03']\n",
      " ['2:04']\n",
      " ['9:06']\n",
      " ['12:06']\n",
      " ['8:56']\n",
      " ['10:36']\n",
      " ['3:14']\n",
      " ['4:14']\n",
      " ['8:58']\n",
      " ['11:41']]\n",
      "[['am' 'pm']\n",
      " ['am' 'am']\n",
      " ['pm' 'pm']\n",
      " ['am' 'am']\n",
      " ['am' 'pm']\n",
      " ['am' 'am']\n",
      " ['pm' 'pm']\n",
      " ['am' 'am']\n",
      " ['am' 'pm']\n",
      " ['am' 'am']\n",
      " ['pm' 'pm']\n",
      " ['pm' 'pm']\n",
      " ['pm' 'pm']\n",
      " ['pm' 'pm']\n",
      " ['am' 'am']]\n",
      "['ZWU' 'DCA' 'DCA' 'DCA' 'DCA' 'DCA' 'DCA' 'DCA' 'DCA' 'DCA' 'DCA' 'DCA'\n",
      " 'DCA' 'BWI' 'ZWU']\n",
      "['ZTO', 'BOS', 'BOS', 'BOS', 'BOS', 'BOS', 'BOS', 'BOS', 'BOS', 'BOS', 'BOS', 'BOS', 'BOS', 'BOS', 'ZTO']\n"
     ]
    }
   ],
   "source": [
    "soup=BeautifulSoup(driver.page_source, 'lxml')\n",
    "\n",
    "deptimes = soup.find_all('span', attrs={'class': 'depart-time base-time'})\n",
    "arrtimes = soup.find_all('span', attrs={'class': 'arrival-time base-time'})\n",
    "meridies = soup.find_all('span', attrs={'class': 'time-meridiem meridiem'})\n",
    "origins = soup.find_all('div', attrs={'class': 'bottom-airport'})\n",
    "destinations = soup.find_all('div', attrs={'class': 'bottom-airport'})\n",
    "\n",
    "#print(deptimes)\n",
    "#print(origins)\n",
    "\n",
    "deptime = []\n",
    "for div in deptimes:\n",
    "    deptime.append(div.getText()[:-1])    \n",
    "        \n",
    "arrtime = []\n",
    "for div in arrtimes:\n",
    "    arrtime.append(div.getText()[:-1])   \n",
    "    \n",
    "origin = []\n",
    "for div in origins[::2]:\n",
    "    orig = (div.getText()[:-1]).strip()\n",
    "    origin.append(orig)\n",
    "    #origin.append(div.getText()[:-1]) \n",
    "    \n",
    "destination = []\n",
    "for div in destinations[1::2]:\n",
    "    dest = (div.getText()[:-1]).strip()\n",
    "    destination.append(dest)\n",
    "    #destination.append((div.getText()[:-1]).rstrip(\"\\n\\r\"))\n",
    "#print(destination)\n",
    " \n",
    "meridiem = []\n",
    "for div in meridies:\n",
    "    meridiem.append(div.getText())  \n",
    "        \n",
    "deptime = np.asarray(deptime)\n",
    "deptime = deptime.reshape(int(len(deptime)), 1)\n",
    "print(deptime)\n",
    "    \n",
    "arrtime = np.asarray(arrtime)\n",
    "arrtime = arrtime.reshape(int(len(arrtime)), 1)\n",
    "print(arrtime)\n",
    "    \n",
    "meridiem = np.asarray(meridiem)\n",
    "meridiem = meridiem.reshape(int(len(meridiem)/2), 2)\n",
    "print(meridiem)\n",
    "\n",
    "origin = np.asarray(origin)\n",
    "#origin = origin.reshape(int(len(origin)), 1)\n",
    "#print(origin.flatten())\n",
    "print(origin)\n",
    "\n",
    "#destination = np.asarray(destination)\n",
    "#destination = destination.reshape(int(len(destination)), 1)\n",
    "print(destination)"
   ]
  },
  {
   "cell_type": "code",
   "execution_count": 6,
   "metadata": {},
   "outputs": [
    {
     "name": "stdout",
     "output_type": "stream",
     "text": [
      "[81, 109, 144, 144, 144, 144, 144, 144, 144, 174, 174, 174, 174, 192, 192]\n"
     ]
    }
   ],
   "source": [
    "regex = re.compile('Common-Booking-MultiBookProvider (.*)multi-row Theme-featured-large(.*)')\n",
    "price_list = soup.find_all('div', attrs={'class': regex})\n",
    "    \n",
    "price = []\n",
    "for div in price_list:\n",
    "    #print(div)\n",
    "    price.append(int(div.getText().split('\\n')[3][1:]))\n",
    "    \n",
    "print(price)"
   ]
  },
  {
   "cell_type": "code",
   "execution_count": 7,
   "metadata": {},
   "outputs": [
    {
     "name": "stdout",
     "output_type": "stream",
     "text": [
      "   Origin Destination        Date  Price ($) Currency Depart Time Arrive Time\n",
      "0     ZWU         ZTO  2020-05-22         81      USD      7:25am      3:18pm\n",
      "1     DCA         BOS  2020-05-22        109      USD      6:30am      7:58am\n",
      "2     DCA         BOS  2020-05-22        144      USD     10:00pm     11:29pm\n",
      "3     DCA         BOS  2020-05-22        144      USD      8:30am     10:01am\n",
      "4     DCA         BOS  2020-05-22        144      USD     11:30am      1:01pm\n",
      "5     DCA         BOS  2020-05-22        144      USD      9:30am     11:03am\n",
      "6     DCA         BOS  2020-05-22        144      USD     12:30pm      2:04pm\n",
      "7     DCA         BOS  2020-05-22        144      USD      7:30am      9:06am\n",
      "8     DCA         BOS  2020-05-22        144      USD     10:30am     12:06pm\n",
      "9     DCA         BOS  2020-05-22        174      USD      7:25am      8:56am\n",
      "10    DCA         BOS  2020-05-22        174      USD      9:00pm     10:36pm\n",
      "11    DCA         BOS  2020-05-22        174      USD      1:30pm      3:14pm\n",
      "12    DCA         BOS  2020-05-22        174      USD      2:30pm      4:14pm\n",
      "13    BWI         BOS  2020-05-22        192      USD      7:30pm      8:58pm\n",
      "14    ZWU         ZTO  2020-05-22        192      USD      5:00am     11:41am\n"
     ]
    }
   ],
   "source": [
    "df = pd.DataFrame({\"Origin\" : origin,\n",
    "                   \"Destination\" : destination,\n",
    "                   \"Date\" : startdate,\n",
    "                   #\"enddate\" : enddate,\n",
    "                   \"Price ($)\": price,\n",
    "                   \"Currency\": \"USD\",\n",
    "                   \"Depart Time\": [m+str(n) for m,n in zip(deptime[:,0],meridiem[:,0])],\n",
    "                   \"Arrive Time\": [m+str(n) for m,n in zip(arrtime[:,0],meridiem[:,1])],\n",
    "                   #\"deptime_d\": [m+str(n) for m,n in zip(deptime[:,1],meridiem[:,2])],\n",
    "                   #\"arrtime_o\": [m+str(n) for m,n in zip(arrtime[:,1],meridiem[:,3])]\n",
    "                   })\n",
    "\n",
    "print(df)"
   ]
  },
  {
   "cell_type": "code",
   "execution_count": null,
   "metadata": {},
   "outputs": [],
   "source": []
  }
 ],
 "metadata": {
  "kernelspec": {
   "display_name": "Python 3",
   "language": "python",
   "name": "python3"
  },
  "language_info": {
   "codemirror_mode": {
    "name": "ipython",
    "version": 3
   },
   "file_extension": ".py",
   "mimetype": "text/x-python",
   "name": "python",
   "nbconvert_exporter": "python",
   "pygments_lexer": "ipython3",
   "version": "3.7.3"
  }
 },
 "nbformat": 4,
 "nbformat_minor": 4
}
